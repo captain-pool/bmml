{
  "nbformat": 4,
  "nbformat_minor": 0,
  "metadata": {
    "colab": {
      "name": "em_assignment.ipynb",
      "provenance": [],
      "collapsed_sections": [],
      "include_colab_link": true
    },
    "kernelspec": {
      "display_name": "Python 3",
      "language": "python",
      "name": "python3"
    }
  },
  "cells": [
    {
      "cell_type": "markdown",
      "metadata": {
        "id": "view-in-github",
        "colab_type": "text"
      },
      "source": [
        "<a href=\"https://colab.research.google.com/github/captain-pool/bmml/blob/master/week_2/em_assignment.ipynb\" target=\"_parent\"><img src=\"https://colab.research.google.com/assets/colab-badge.svg\" alt=\"Open In Colab\"/></a>"
      ]
    },
    {
      "cell_type": "markdown",
      "metadata": {
        "id": "jlo4V6MRBEDQ",
        "colab_type": "text"
      },
      "source": [
        "# First things first\n",
        "Click **File -> Save a copy in Drive** and click **Open in new tab** in the pop-up window to save your progress in Google Drive."
      ]
    },
    {
      "cell_type": "markdown",
      "metadata": {
        "id": "WMlNHfVxBEDT",
        "colab_type": "text"
      },
      "source": [
        "# Expectation-maximization algorithm"
      ]
    },
    {
      "cell_type": "markdown",
      "metadata": {
        "id": "icS4MsxIBEDU",
        "colab_type": "text"
      },
      "source": [
        "In this assignment, we will derive and implement formulas for Gaussian Mixture Model — one of the most commonly used methods for performing soft clustering of the data. "
      ]
    },
    {
      "cell_type": "markdown",
      "metadata": {
        "id": "jequoJfSBEDV",
        "colab_type": "text"
      },
      "source": [
        "### Setup\n",
        "Loading auxiliary files and importing the necessary libraries."
      ]
    },
    {
      "cell_type": "code",
      "metadata": {
        "id": "ZqZo-y9UBEDX",
        "colab_type": "code",
        "outputId": "a250f7af-ad59-4417-9bc6-16e24caff523",
        "colab": {
          "base_uri": "https://localhost:8080/",
          "height": 300
        }
      },
      "source": [
        "try:\n",
        "    import google.colab\n",
        "    IN_COLAB = True\n",
        "except:\n",
        "    IN_COLAB = False\n",
        "if IN_COLAB:\n",
        "    print(\"Downloading Colab files\")\n",
        "    ! shred -u setup_google_colab.py\n",
        "    ! wget https://raw.githubusercontent.com/hse-aml/bayesian-methods-for-ml/master/setup_google_colab.py -O setup_google_colab.py\n",
        "    import setup_google_colab\n",
        "    setup_google_colab.load_data_week2()"
      ],
      "execution_count": 0,
      "outputs": [
        {
          "output_type": "stream",
          "text": [
            "Downloading Colab files\n",
            "shred: setup_google_colab.py: failed to open for writing: No such file or directory\n",
            "--2020-04-15 10:19:58--  https://raw.githubusercontent.com/hse-aml/bayesian-methods-for-ml/master/setup_google_colab.py\n",
            "Resolving raw.githubusercontent.com (raw.githubusercontent.com)... 151.101.0.133, 151.101.64.133, 151.101.128.133, ...\n",
            "Connecting to raw.githubusercontent.com (raw.githubusercontent.com)|151.101.0.133|:443... connected.\n",
            "HTTP request sent, awaiting response... 200 OK\n",
            "Length: 1254 (1.2K) [text/plain]\n",
            "Saving to: ‘setup_google_colab.py’\n",
            "\n",
            "setup_google_colab. 100%[===================>]   1.22K  --.-KB/s    in 0s      \n",
            "\n",
            "2020-04-15 10:19:59 (68.5 MB/s) - ‘setup_google_colab.py’ saved [1254/1254]\n",
            "\n",
            "https://raw.githubusercontent.com/hse-aml/bayesian-methods-for-ml/master/week2/w2_grader.py w2_grader.py\n",
            "https://raw.githubusercontent.com/hse-aml/bayesian-methods-for-ml/master/week2/samples.npz samples.npz\n"
          ],
          "name": "stdout"
        }
      ]
    },
    {
      "cell_type": "code",
      "metadata": {
        "id": "urylZcbeBEDc",
        "colab_type": "code",
        "colab": {}
      },
      "source": [
        "import numpy as np\n",
        "from numpy.linalg import slogdet, det, solve\n",
        "import matplotlib.pyplot as plt\n",
        "import time\n",
        "from sklearn.datasets import load_digits\n",
        "from w2_grader import EMGrader\n",
        "%matplotlib inline"
      ],
      "execution_count": 0,
      "outputs": []
    },
    {
      "cell_type": "markdown",
      "metadata": {
        "id": "tP8l9frZBEDf",
        "colab_type": "text"
      },
      "source": [
        "### Grading\n",
        "We will create a grader instance below and use it to collect your answers. Note that these outputs will be stored locally inside grader and will be uploaded to the platform only after running submitting function in the last part of this assignment. If you want to make a partial submission, you can run that cell anytime you want."
      ]
    },
    {
      "cell_type": "code",
      "metadata": {
        "id": "7Gvy3EOvBEDg",
        "colab_type": "code",
        "colab": {}
      },
      "source": [
        "grader = EMGrader()"
      ],
      "execution_count": 0,
      "outputs": []
    },
    {
      "cell_type": "markdown",
      "metadata": {
        "id": "dL3A2sntBEDj",
        "colab_type": "text"
      },
      "source": [
        "## Implementing EM for GMM"
      ]
    },
    {
      "cell_type": "markdown",
      "metadata": {
        "id": "0xPS_VdpBEDk",
        "colab_type": "text"
      },
      "source": [
        "For debugging, we will use samples from a Gaussian mixture model with unknown mean, variance, and priors. We also added initial values of parameters for grading purposes."
      ]
    },
    {
      "cell_type": "code",
      "metadata": {
        "id": "g9_aOn94BEDl",
        "colab_type": "code",
        "outputId": "37a16e86-25f1-4aa3-def1-1be3d053f62f",
        "colab": {
          "base_uri": "https://localhost:8080/",
          "height": 265
        }
      },
      "source": [
        "samples = np.load('samples.npz')\n",
        "X = samples['data']\n",
        "pi0 = samples['pi0']\n",
        "mu0 = samples['mu0']\n",
        "sigma0 = samples['sigma0']\n",
        "plt.scatter(X[:, 0], X[:, 1], c='grey', s=30)\n",
        "plt.axis('equal')\n",
        "plt.show()"
      ],
      "execution_count": 0,
      "outputs": [
        {
          "output_type": "display_data",
          "data": {
            "image/png": "[encoded data removed]",
            "text/plain": [
              "<Figure size 432x288 with 1 Axes>"
            ]
          },
          "metadata": {
            "tags": [],
            "needs_background": "light"
          }
        }
      ]
    },
    {
      "cell_type": "markdown",
      "metadata": {
        "id": "AmgeHTCfBEDp",
        "colab_type": "text"
      },
      "source": [
        "### Reminder"
      ]
    },
    {
      "cell_type": "markdown",
      "metadata": {
        "id": "RgAwWi1nBEDq",
        "colab_type": "text"
      },
      "source": [
        "Remember, that EM algorithm is a coordinate descent optimization of variational lower bound $\\mathcal{L}(\\theta, q) = \\int q(T) \\log\\frac{p(X, T|\\theta)}{q(T)}dT\\to \\max$.\n",
        "\n",
        "<b>E-step</b>:<br>\n",
        "$\\mathcal{L}(\\theta, q) \\to \\max\\limits_{q} \\Leftrightarrow \\mathcal{KL} [q(T) \\,\\|\\, p(T|X, \\theta)] \\to \\min \\limits_{q\\in Q} \\Rightarrow q(T) = p(T|X, \\theta)$<br>\n",
        "<b>M-step</b>:<br> \n",
        "$\\mathcal{L}(\\theta, q) \\to \\max\\limits_{\\theta} \\Leftrightarrow \\mathbb{E}_{q(T)}\\log p(X,T | \\theta) \\to \\max\\limits_{\\theta}$\n",
        "\n",
        "For GMM, $\\theta$ is a set of parameters that consists of mean vectors $\\mu_c$, covariance matrices $\\Sigma_c$ and priors $\\pi_c$ for each component.\n",
        "\n",
        "Latent variables $T$ are indices of components to which each data point is assigned, i.e. $t_i$  is the cluster index for object $x_i$.\n",
        "\n",
        "The joint distribution can be written as follows: $\\log p(T, X \\mid \\theta) =  \\sum\\limits_{i=1}^N \\log p(t_i, x_i \\mid \\theta) = \\sum\\limits_{i=1}^N \\sum\\limits_{c=1}^C q(t_i = c) \\log \\left (\\pi_c \\, f_{\\!\\mathcal{N}}(x_i \\mid \\mu_c, \\Sigma_c)\\right)$,\n",
        "where $f_{\\!\\mathcal{N}}(x \\mid \\mu_c, \\Sigma_c) = \\frac{1}{\\sqrt{(2\\pi)^n|\\boldsymbol\\Sigma_c|}}\n",
        "\\exp\\left(-\\frac{1}{2}({x}-{\\mu_c})^T{\\boldsymbol\\Sigma_c}^{-1}({x}-{\\mu_c})\n",
        "\\right)$ is the probability density function (pdf) of the normal distribution $\\mathcal{N}(x_i \\mid \\mu_c, \\Sigma_c)$."
      ]
    },
    {
      "cell_type": "markdown",
      "metadata": {
        "id": "ELmi1nAtBEDr",
        "colab_type": "text"
      },
      "source": [
        "### E-step\n",
        "In this step we need to estimate the posterior distribution over the latent variables with fixed values of parameters: $q_i(t_i) = p(t_i \\mid x_i, \\theta)$. We assume that $t_i$ equals to the cluster index of the true component of the $x_i$ object. To do so we need to compute $\\gamma_{ic} = p(t_i = c \\mid x_i, \\theta)$. Note that $\\sum\\limits_{c=1}^C\\gamma_{ic}=1$.\n"
      ]
    },
    {
      "cell_type": "markdown",
      "metadata": {
        "id": "53FR1RJ9BEDs",
        "colab_type": "text"
      },
      "source": [
        "<b>Important trick 1:</b> It is important to avoid numerical errors. At some point you will have to compute the formula of the following form: $\\frac{e^{y_i}}{\\sum_j e^{y_j}}$, which is called _softmax_. When you compute exponents of large numbers, some numbers may become infinity. You can avoid this by dividing numerator and denominator by $e^{\\max(y)}$: $\\frac{e^{y_i-\\max(y)}}{\\sum_j e^{y_j - \\max(y)}}$. After this transformation maximum value in the denominator will be equal to one. All other terms will contribute smaller values. So, to compute desired formula you first subtract maximum value from each component in vector $\\mathbf{y}$ and then compute everything else as before.\n",
        "\n",
        "<b>Important trick 2:</b> You will probably need to compute formula of the form $A^{-1}x$ at some point. You would normally inverse $A$ and then multiply it by $x$. A bit faster and more numerically accurate way to do this is to directly solve equation $Ay = x$ by using a special function. Its solution is $y=A^{-1}x$, but the equation $Ay = x$ can be solved by methods which do not explicitely invert the matrix. You can use ```np.linalg.solve``` for this.\n",
        "\n",
        "<b>Other usefull functions: </b> <a href=\"https://docs.scipy.org/doc/numpy/reference/generated/numpy.linalg.slogdet.html\">```slogdet```</a> and <a href=\"https://docs.scipy.org/doc/numpy/reference/generated/numpy.linalg.det.html#numpy.linalg.det\">```det```</a>"
      ]
    },
    {
      "cell_type": "markdown",
      "metadata": {
        "id": "KL87Q8-TBEDu",
        "colab_type": "text"
      },
      "source": [
        "<b>Task 1:</b> Implement E-step for GMM using template below."
      ]
    },
    {
      "cell_type": "code",
      "metadata": {
        "id": "wCUCaD28BEDw",
        "colab_type": "code",
        "colab": {}
      },
      "source": [
        "def gaussian(x, mu, sigma, dimension, only_parabola=False):\n",
        "  norm_constant = np.power(2 * np.pi, dimension)\n",
        "  det_cov = np.linalg.det(sigma)\n",
        "  normalization = 1 / np.sqrt(norm_constant * det_cov)\n",
        "  deviation = x - mu\n",
        "  cov_times_deviation = np.linalg.solve(sigma, deviation)\n",
        "  parabola = - 0.5 * np.matmul(\n",
        "      deviation.T,\n",
        "      cov_times_deviation)\n",
        "  if parabola < -1000:\n",
        "    pdb.set_trace()\n",
        "  if only_parabola:\n",
        "    return parabola\n",
        "  return normalization * np.exp(parabola)\n",
        "\n",
        "def E_step(X, pi, mu, sigma):\n",
        "    \"\"\"\n",
        "    Performs E-step on GMM model\n",
        "    Each input is numpy array:\n",
        "    X: (N x d), data points\n",
        "    pi: (C), mixture component weights \n",
        "    mu: (C x d), mixture component means\n",
        "    sigma: (C x d x d), mixture component covariance matrices\n",
        "    \n",
        "    Returns:\n",
        "    gamma: (N x C), probabilities of clusters for objects\n",
        "    \"\"\"\n",
        "    N = X.shape[0] # number of objects\n",
        "    C = pi.shape[0] # number of clusters\n",
        "    d = mu.shape[1] # dimension of each object\n",
        "    gamma = np.zeros((N, C)) # distribution q(T)\n",
        "    parabolas = np.zeros_like(gamma)\n",
        "    for i in range(N):\n",
        "      for j in range(C):\n",
        "        parabolas[i, j] = gaussian(X[i], mu0[j], sigma[j], d, True)\n",
        "    parabolas2 = parabolas - parabolas[range(N), np.argmax(parabolas, axis=1)][:, np.newaxis]\n",
        "    parabolas3 = np.exp(parabolas2)\n",
        "    for j in range(C):\n",
        "      det = np.linalg.det(sigma[j])\n",
        "      if det <= 0:\n",
        "        print(\"sigma[j] not positive semi definite\")\n",
        "      parabolas3[:, j] *= pi[j] / np.sqrt(det)\n",
        " #   if np.any(parabolas3 == 0):\n",
        " #     raise ValueError\n",
        "    marginal = np.sum(parabolas3, axis=1)\n",
        "    gamma = parabolas3# * pi\n",
        "    gamma = gamma / marginal[:, np.newaxis]\n",
        "    return gamma"
      ],
      "execution_count": 0,
      "outputs": []
    },
    {
      "cell_type": "code",
      "metadata": {
        "id": "xlhktOlMBED1",
        "colab_type": "code",
        "outputId": "532f7e65-e715-40d4-e45f-cd1efd92e146",
        "colab": {
          "base_uri": "https://localhost:8080/",
          "height": 36
        }
      },
      "source": [
        "gamma = E_step(X, pi0, mu0, sigma0)\n",
        "grader.submit_e_step(gamma)"
      ],
      "execution_count": 0,
      "outputs": [
        {
          "output_type": "stream",
          "text": [
            "Current answer for task Task 1 (E-step) is: 0.5337178741081262\n"
          ],
          "name": "stdout"
        }
      ]
    },
    {
      "cell_type": "markdown",
      "metadata": {
        "id": "fERrQWSCBED5",
        "colab_type": "text"
      },
      "source": [
        "### M-step\n",
        "\n",
        "In M-step we need to maximize $\\mathbb{E}_{q(T)}\\log p(X,T | \\theta)$ with respect to $\\theta$. In our model this means that we need to find optimal values of $\\pi$, $\\mu$, $\\Sigma$. To do so, you need to compute the derivatives and \n",
        "set them to zero. You should start by deriving formulas for $\\mu$ as it is the easiest part. Then move on to $\\Sigma$. Here it is crucial to optimize function w.r.t. to $\\Lambda = \\Sigma^{-1}$ and then inverse obtained result. Finaly, to compute $\\pi$, you will need <a href=\"https://www3.nd.edu/~jstiver/FIN360/Constrained%20Optimization.pdf\">Lagrange Multipliers technique</a> to satisfy constraint $\\sum\\limits_{i=1}^{n}\\pi_i = 1$.\n",
        "\n",
        "<br>\n",
        "<b>Important note:</b> You will need to compute derivatives of scalars with respect to matrices. To refresh this technique from previous courses, see <a href=\"https://en.wikipedia.org/wiki/Matrix_calculus\"> wiki article</a> about it . Main formulas of matrix derivatives can be found in <a href=\"http://www2.imm.dtu.dk/pubdb/views/edoc_download.php/3274/pdf/imm3274.pdf\">Chapter 2 of The Matrix Cookbook</a>. For example, there you may find that $\\frac{\\partial}{\\partial A}\\log |A| = A^{-T}$.\n"
      ]
    },
    {
      "cell_type": "markdown",
      "metadata": {
        "id": "A31OYSogBED6",
        "colab_type": "text"
      },
      "source": [
        "<b>Task 2:</b> Implement M-step for GMM using template below."
      ]
    },
    {
      "cell_type": "code",
      "metadata": {
        "id": "mhOr5I1bBED7",
        "colab_type": "code",
        "colab": {}
      },
      "source": [
        "def M_step(X, gamma):\n",
        "    \"\"\"\n",
        "    Performs M-step on GMM model\n",
        "    Each input is numpy array:\n",
        "    X: (N x d), data points\n",
        "    gamma: (N x C), distribution q(T)  \n",
        "    \n",
        "    Returns:\n",
        "    pi: (C)\n",
        "    mu: (C x d)\n",
        "    sigma: (C x d x d)\n",
        "    \"\"\"\n",
        "    N = float(X.shape[0]) # number of objects\n",
        "    C = gamma.shape[1] # number of clusters\n",
        "    d = X.shape[1] # dimension of each object\n",
        "    pi = np.sum(gamma, axis=0) / N\n",
        "    mu = np.zeros((C, d))\n",
        "    sigma = np.zeros((C, d, d))\n",
        "    for c in range(C):\n",
        "      mu[c, :] = np.sum(gamma[:, c][:, np.newaxis] * X, axis=0) / (pi[c] * N)\n",
        "      deviation = X - mu[c, :]\n",
        "      sigma[c, ...] = ((gamma[:,c][:, np.newaxis] * deviation).T @ deviation) / (pi[c] * N)\n",
        "    return pi, mu, sigma"
      ],
      "execution_count": 0,
      "outputs": []
    },
    {
      "cell_type": "code",
      "metadata": {
        "id": "6i5cv65SBED-",
        "colab_type": "code",
        "outputId": "497e63f9-9d2b-4f72-b6ee-73a0b56157fc",
        "colab": {
          "base_uri": "https://localhost:8080/",
          "height": 74
        }
      },
      "source": [
        "gamma = E_step(X, pi0, mu0, sigma0)\n",
        "pi, mu, sigma = M_step(X, gamma)\n",
        "grader.submit_m_step(pi, mu, sigma)"
      ],
      "execution_count": 0,
      "outputs": [
        {
          "output_type": "stream",
          "text": [
            "Current answer for task Task 2 (M-step: mu) is: 2.899391882050384\n",
            "Current answer for task Task 2 (M-step: sigma) is: 5.977105216897527\n",
            "Current answer for task Task 2 (M-step: pi) is: 0.5507624459218775\n"
          ],
          "name": "stdout"
        }
      ]
    },
    {
      "cell_type": "markdown",
      "metadata": {
        "id": "svyzjt7XBEEC",
        "colab_type": "text"
      },
      "source": [
        "### Loss function"
      ]
    },
    {
      "cell_type": "markdown",
      "metadata": {
        "id": "qexOXBLUBEED",
        "colab_type": "text"
      },
      "source": [
        "Finally, we need some function to track convergence. We will use variational lower bound $\\mathcal{L}$ for this purpose. We will stop our EM iterations when $\\mathcal{L}$ will saturate. Usually, you will need only about 10-20 iterations to converge. It is also useful to check that this function never decreases during training. If it does, you have a bug in your code.\n",
        "\n",
        "<b>Task 3:</b> Implement a function that will compute $\\mathcal{L}$ using template below.\n",
        "\n",
        "$$\\mathcal{L} = \\sum_{i=1}^{N} \\sum_{c=1}^{C} q(t_i =c) (\\log \\pi_c + \\log f_{\\!\\mathcal{N}}(x_i \\mid \\mu_c, \\Sigma_c)) - \\sum_{i=1}^{N} \\sum_{c=1}^{C} q(t_i =c) \\log q(t_i =c)$$"
      ]
    },
    {
      "cell_type": "code",
      "metadata": {
        "id": "B5tKCZe0BEEE",
        "colab_type": "code",
        "colab": {}
      },
      "source": [
        "def compute_vlb(X, pi, mu, sigma, gamma):\n",
        "    \"\"\"\n",
        "    Each input is numpy array:\n",
        "    X: (N x d), data points\n",
        "    gamma: (N x C), distribution q(T)  \n",
        "    pi: (C)\n",
        "    mu: (C x d)\n",
        "    sigma: (C x d x d)\n",
        "    \n",
        "    Returns value of variational lower bound\n",
        "    \"\"\"\n",
        "    N = X.shape[0] # number of objects\n",
        "    C = gamma.shape[1] # number of clusters\n",
        "    d = X.shape[1] # dimension of each object\n",
        "    loss = 0\n",
        "    fns = np.zeros_like(gamma)\n",
        "    for j in range(C):\n",
        "      for i in range(N):\n",
        "        fns[i, j] = gaussian(X[i], mu[j], sigma[j], d, True)\n",
        "    for c in range(C):\n",
        "      norm_constant = np.power(2 * np.pi, d)\n",
        "      det_cov = np.linalg.det(sigma[c])\n",
        "      const = pi[c]/ np.sqrt(norm_constant * det_cov)\n",
        "      for i in range(N):\n",
        "        v1 = (gamma[i, c]+1e-20) * (np.log(const + 1e-20) + fns[i, c])\n",
        " #       if np.isnan(v1):\n",
        " #         raise ValueError\n",
        "        loss += v1\n",
        "        v2 = (gamma[i, c] + 1e-20) * np.log(gamma[i, c] + 1e-20)\n",
        "#        if np.isnan(v2):\n",
        "#          raise ValueError\n",
        "        loss -= v2\n",
        "#        if np.isnan(loss):\n",
        "#          raise ValueError\n",
        "    return loss"
      ],
      "execution_count": 0,
      "outputs": []
    },
    {
      "cell_type": "code",
      "metadata": {
        "id": "xNva3XRTBEEI",
        "colab_type": "code",
        "outputId": "798b1dbc-1a85-4a3c-b740-5ec0f7e32215",
        "colab": {
          "base_uri": "https://localhost:8080/",
          "height": 36
        }
      },
      "source": [
        "pi, mu, sigma = pi0, mu0, sigma0\n",
        "gamma = E_step(X, pi, mu, sigma)\n",
        "pi, mu, sigma = M_step(X, gamma)\n",
        "loss = compute_vlb(X, pi, mu, sigma, gamma)\n",
        "grader.submit_VLB(loss)"
      ],
      "execution_count": 0,
      "outputs": [
        {
          "output_type": "stream",
          "text": [
            "Current answer for task Task 3 (VLB) is: -1213.973464306021\n"
          ],
          "name": "stdout"
        }
      ]
    },
    {
      "cell_type": "markdown",
      "metadata": {
        "id": "I5p8XC-eBEEM",
        "colab_type": "text"
      },
      "source": [
        "### Bringing it all together"
      ]
    },
    {
      "cell_type": "markdown",
      "metadata": {
        "id": "cQsdsNVCBEEU",
        "colab_type": "text"
      },
      "source": [
        "Now that we have E step, M step and VLB, we can implement the training loop. We will initialize values of $\\pi$, $\\mu$ and $\\Sigma$ to some random numbers, train until $\\mathcal{L}$ stops changing, and return the resulting points. We also know that the EM algorithm converges to local optima. To find a better local optima, we will restart the algorithm multiple times from different (random) starting positions. Each training trial should stop either when maximum number of iterations is reached or when relative improvement is smaller than given tolerance ($|\\frac{\\mathcal{L}_i-\\mathcal{L}_{i-1}}{\\mathcal{L}_{i-1}}| \\le \\text{rtol}$).\n",
        "\n",
        "Remember, that initial (random) values of $\\pi$ that you generate must be non-negative and sum up to 1. Also, $\\Sigma$ matrices must be symmetric and positive semi-definite. If you don't know how to generate those matrices, you can use $\\Sigma=I$ as initialization.\n",
        "\n",
        "You will also sometimes get numerical errors because of component collapsing. The easiest way to deal with this problems is to restart the procedure.\n",
        "\n",
        "<b>Task 4:</b> Implement training procedure"
      ]
    },
    {
      "cell_type": "code",
      "metadata": {
        "id": "Q1AAcyl0BEEW",
        "colab_type": "code",
        "colab": {}
      },
      "source": [
        "from sklearn import datasets\n",
        "import pdb\n",
        "def train_EM(X, C, rtol=1e-3, max_iter=100, restarts=10):\n",
        "    '''\n",
        "    Starts with random initialization *restarts* times\n",
        "    Runs optimization until saturation with *rtol* reached\n",
        "    or *max_iter* iterations were made.\n",
        "    \n",
        "    X: (N, d), data points\n",
        "    C: int, number of clusters\n",
        "    '''\n",
        "    N = X.shape[0] # number of objects\n",
        "    d = X.shape[1] # dimension of each object\n",
        "    best_loss = 1e100\n",
        "    best_pi = None\n",
        "    best_mu = None\n",
        "    best_sigma = None\n",
        "    for _ in range(restarts):\n",
        "      prev_loss = 1e100\n",
        "      pi = np.random.uniform(size=C)\n",
        "      pi /= pi.sum()\n",
        "      sigma = np.asarray([np.eye(d)*np.random.uniform(2.0, 3.0) for _ in range(C)])\n",
        "      mu = np.random.uniform(-4, 10, size=(C, d))\n",
        "      #try:\n",
        "      for i in range(max_iter):\n",
        "        pdb.set_trace()\n",
        "        gamma = E_step(X, pi, mu, sigma)\n",
        "        pi, mu, sigma = M_step(X, gamma)\n",
        "\n",
        "        loss = compute_vlb(X, pi, mu, sigma, gamma)\n",
        "        tolerance = np.abs((loss - prev_loss) / prev_loss)\n",
        "        if tolerance <= rtol:\n",
        "          print(\"Stabilized\")\n",
        "          break\n",
        "        prev_loss = loss\n",
        "      if loss < best_loss:\n",
        "        best_loss = loss\n",
        "        best_pi = pi\n",
        "        best_sigma = sigma\n",
        "        best_mu = mu      \n",
        "     # except np.linalg.LinAlgError:\n",
        "     #     print(\"Singular matrix: components collapsed\")\n",
        "     #     pass\n",
        "\n",
        "    return best_loss, best_pi, best_mu, best_sigma"
      ],
      "execution_count": 0,
      "outputs": []
    },
    {
      "cell_type": "code",
      "metadata": {
        "id": "0f8A5sbmBEEZ",
        "colab_type": "code",
        "outputId": "0fce415d-5269-4142-dafb-853c268e3cac",
        "colab": {
          "base_uri": "https://localhost:8080/",
          "height": 1000
        }
      },
      "source": [
        "%pdb on\n",
        "best_loss, best_pi, best_mu, best_sigma = train_EM(X, 3)\n",
        "#grader.submit_EM(best_loss)"
      ],
      "execution_count": 0,
      "outputs": [
        {
          "output_type": "stream",
          "text": [
            "Automatic pdb calling has been turned ON\n",
            "> <ipython-input-19-adc2d7022d49>(27)train_EM()\n",
            "-> gamma = E_step(X, pi, mu, sigma)\n",
            "(Pdb) mu\n",
            "array([[ 9.5295499 , -1.95330942],\n",
            "       [ 3.71355937,  9.23894718],\n",
            "       [-2.79921784,  9.59926074]])\n",
            "(Pdb) c\n",
            "> <ipython-input-19-adc2d7022d49>(26)train_EM()\n",
            "-> pdb.set_trace()\n",
            "(Pdb) mu\n",
            "array([[ 0.58334841,  3.97360223],\n",
            "       [ 1.8043628 ,  4.07910455],\n",
            "       [ 0.14378695, -0.0062632 ]])\n",
            "(Pdb) c\n",
            "Stabilized\n",
            "> <ipython-input-19-adc2d7022d49>(27)train_EM()\n",
            "-> gamma = E_step(X, pi, mu, sigma)\n",
            "(Pdb) mu\n",
            "array([[-2.86876771,  4.16357173],\n",
            "       [ 7.17843095,  9.33330038],\n",
            "       [-2.98993766,  2.86638668]])\n",
            "(Pdb) gamma\n",
            "array([[7.96427609e-02, 9.20357239e-01, 1.45768360e-20],\n",
            "       [8.42361737e-02, 9.15763826e-01, 9.90156811e-18],\n",
            "       [7.10727806e-02, 9.28927219e-01, 2.80510557e-18],\n",
            "       [5.12985426e-02, 9.48701457e-01, 6.17760348e-32],\n",
            "       [3.16588418e-02, 9.68341158e-01, 3.73145170e-30],\n",
            "       [1.36069619e-02, 9.86393038e-01, 3.41279709e-14],\n",
            "       [4.54769363e-06, 9.99995452e-01, 1.37137345e-20],\n",
            "       [1.91057130e-01, 8.08942870e-01, 2.08679728e-19],\n",
            "       [1.26184456e-01, 8.73815544e-01, 2.97626500e-21],\n",
            "       [2.24091321e-01, 7.75839311e-01, 6.93686526e-05],\n",
            "       [2.18424604e-01, 7.81575176e-01, 2.20004588e-07],\n",
            "       [7.45209955e-02, 9.25479004e-01, 6.00019765e-20],\n",
            "       [1.67952179e-01, 8.31968545e-01, 7.92758690e-05],\n",
            "       [4.46842712e-03, 9.95531573e-01, 1.97568872e-26],\n",
            "       [9.44440780e-03, 9.90555592e-01, 8.84768736e-18],\n",
            "       [1.63222197e-01, 8.36777803e-01, 7.57350796e-11],\n",
            "       [3.09864725e-02, 9.68873646e-01, 1.39881679e-04],\n",
            "       [6.36562678e-02, 9.36343732e-01, 5.23833100e-29],\n",
            "       [1.65726747e-01, 8.34241233e-01, 3.20205389e-05],\n",
            "       [3.25889816e-03, 9.96741102e-01, 1.05945454e-25],\n",
            "       [1.57433214e-01, 8.42566786e-01, 1.07750244e-14],\n",
            "       [4.44433962e-06, 9.99995556e-01, 8.10308219e-24],\n",
            "       [1.34363006e-01, 8.65636994e-01, 3.60643515e-25],\n",
            "       [1.76793339e-01, 8.23206661e-01, 3.53240818e-19],\n",
            "       [4.24900360e-02, 9.57509964e-01, 6.86365329e-15],\n",
            "       [1.14468628e-01, 8.85531372e-01, 1.18764630e-19],\n",
            "       [1.37501999e-01, 8.62413783e-01, 8.42186420e-05],\n",
            "       [6.93614977e-02, 9.30638502e-01, 6.73802708e-25],\n",
            "       [4.13959060e-02, 9.58604094e-01, 3.03552247e-26],\n",
            "       [8.65555052e-02, 9.13444495e-01, 1.50805972e-10],\n",
            "       [3.19391779e-02, 9.68060822e-01, 5.73281486e-16],\n",
            "       [1.09548344e-02, 9.89045155e-01, 1.09798371e-08],\n",
            "       [6.84352636e-02, 9.31526796e-01, 3.79401157e-05],\n",
            "       [1.23667696e-01, 8.76277275e-01, 5.50288438e-05],\n",
            "       [1.34859396e-01, 8.65140604e-01, 7.62406003e-18],\n",
            "       [1.31249586e-02, 9.86875041e-01, 6.91908671e-21],\n",
            "       [1.01832239e-01, 8.98167761e-01, 7.51171221e-20],\n",
            "       [7.27932129e-02, 9.27206787e-01, 2.94139384e-31],\n",
            "       [3.50921488e-02, 9.64907851e-01, 5.48294366e-21],\n",
            "       [1.67919929e-01, 8.32079702e-01, 3.69314546e-07],\n",
            "       [3.59925177e-05, 9.99964007e-01, 5.48222105e-18],\n",
            "       [1.53675494e-04, 9.99846256e-01, 6.86074030e-08],\n",
            "       [4.25596971e-02, 9.57438075e-01, 2.22816912e-06],\n",
            "       [5.85238966e-02, 9.41476103e-01, 1.22856649e-20],\n",
            "       [5.23154956e-03, 9.94768450e-01, 2.06083070e-10],\n",
            "       [2.38792642e-01, 7.61207358e-01, 2.85309250e-18],\n",
            "       [5.04041597e-02, 9.46626188e-01, 2.96965209e-03],\n",
            "       [9.32819040e-02, 9.06718096e-01, 5.20507176e-14],\n",
            "       [5.74833595e-02, 9.42516640e-01, 6.14996655e-16],\n",
            "       [1.96149973e-01, 8.03850027e-01, 4.25953113e-20],\n",
            "       [1.71565394e-01, 8.28434576e-01, 3.03943139e-08],\n",
            "       [5.36919446e-02, 9.46297106e-01, 1.09495219e-05],\n",
            "       [1.01429130e-01, 8.91589121e-01, 6.98174939e-03],\n",
            "       [1.93071778e-09, 9.99999998e-01, 7.91913953e-36],\n",
            "       [2.98914227e-02, 9.70108577e-01, 1.05777221e-23],\n",
            "       [7.82280106e-02, 9.21406501e-01, 3.65488708e-04],\n",
            "       [4.00343185e-07, 9.99999600e-01, 5.81610673e-27],\n",
            "       [2.81073530e-02, 9.71892647e-01, 3.20996396e-19],\n",
            "       [1.62873766e-01, 8.37121412e-01, 4.82204297e-06],\n",
            "       [3.03387467e-02, 9.69661253e-01, 7.98943447e-12],\n",
            "       [6.52433082e-02, 9.34630955e-01, 1.25736540e-04],\n",
            "       [9.47675968e-02, 9.05232403e-01, 4.27625822e-22],\n",
            "       [2.22137679e-01, 7.73727031e-01, 4.13528977e-03],\n",
            "       [1.88210832e-01, 8.11789168e-01, 1.54120059e-13],\n",
            "       [3.78041263e-02, 9.62195874e-01, 2.75480748e-29],\n",
            "       [1.07873228e-01, 8.92126772e-01, 1.92483667e-26],\n",
            "       [1.19213353e-01, 8.80786640e-01, 6.58884774e-09],\n",
            "       [3.27216396e-04, 9.99672784e-01, 6.92144994e-16],\n",
            "       [1.64406609e-01, 8.31824655e-01, 3.76873644e-03],\n",
            "       [1.70902702e-01, 8.29097298e-01, 1.03678680e-24],\n",
            "       [3.19371454e-02, 9.68062855e-01, 4.19861010e-19],\n",
            "       [1.72998826e-01, 8.27001174e-01, 2.08338194e-19],\n",
            "       [1.45099615e-01, 8.54900385e-01, 2.13243633e-26],\n",
            "       [3.00129574e-09, 9.99999997e-01, 3.39223021e-35],\n",
            "       [5.21845142e-02, 9.47452270e-01, 3.63215283e-04],\n",
            "       [8.08714300e-06, 9.99991913e-01, 4.23444673e-19],\n",
            "       [1.30623958e-01, 8.69376036e-01, 6.16245919e-09],\n",
            "       [7.95893453e-02, 9.20410655e-01, 1.26992963e-22],\n",
            "       [1.71815537e-02, 9.82818446e-01, 2.88637791e-21],\n",
            "       [1.54004334e-01, 8.43372254e-01, 2.62341227e-03],\n",
            "       [3.93251917e-02, 9.60674808e-01, 4.84663274e-20],\n",
            "       [8.77706271e-03, 9.91222937e-01, 1.10765089e-32],\n",
            "       [3.32649049e-02, 9.66727584e-01, 7.51117210e-06],\n",
            "       [1.10141460e-01, 8.89858540e-01, 8.89267656e-24],\n",
            "       [2.80590025e-02, 9.71940994e-01, 4.01677639e-09],\n",
            "       [1.35874328e-01, 8.64105467e-01, 2.02050844e-05],\n",
            "       [2.73844170e-02, 9.72615583e-01, 2.41044295e-22],\n",
            "       [2.50716559e-06, 9.99997493e-01, 1.77910615e-22],\n",
            "       [4.18466945e-02, 9.58153306e-01, 5.52560690e-19],\n",
            "       [4.68979156e-04, 9.99530953e-01, 6.82839049e-08],\n",
            "       [5.99637279e-02, 9.40036272e-01, 2.92821298e-19],\n",
            "       [4.18993146e-02, 9.54612851e-01, 3.48783476e-03],\n",
            "       [1.88265979e-04, 9.99809979e-01, 1.75512438e-06],\n",
            "       [7.42768402e-03, 9.92561885e-01, 1.04308704e-05],\n",
            "       [5.86593600e-05, 9.99941341e-01, 1.64834761e-21],\n",
            "       [2.38550157e-01, 7.61449843e-01, 1.88079283e-14],\n",
            "       [1.41184723e-01, 8.58815277e-01, 6.20842469e-15],\n",
            "       [3.39131752e-02, 9.66076715e-01, 1.01102274e-05],\n",
            "       [1.24616451e-03, 9.98753827e-01, 8.22095788e-09],\n",
            "       [9.21233080e-07, 9.99999079e-01, 2.31279099e-25],\n",
            "       [1.56102013e-01, 8.43897987e-01, 6.22974828e-22],\n",
            "       [6.14748684e-02, 9.38525132e-01, 2.88949930e-22],\n",
            "       [5.20495588e-02, 9.47897771e-01, 5.26700076e-05],\n",
            "       [2.01181874e-02, 9.79880023e-01, 1.78999144e-06],\n",
            "       [1.13806237e-02, 9.88619376e-01, 2.18869549e-19],\n",
            "       [8.03355260e-02, 9.19664474e-01, 1.17114421e-17],\n",
            "       [2.37479618e-01, 7.62520382e-01, 8.79418314e-17],\n",
            "       [3.82733937e-08, 9.99999962e-01, 3.88387758e-32],\n",
            "       [1.07498602e-02, 9.89250131e-01, 8.66407453e-09],\n",
            "       [1.89996289e-01, 8.10003711e-01, 3.15709319e-14],\n",
            "       [1.58939780e-02, 9.84106022e-01, 1.14543473e-21],\n",
            "       [4.44737676e-02, 9.55427110e-01, 9.91220513e-05],\n",
            "       [1.03603456e-01, 8.96396542e-01, 1.18284978e-09],\n",
            "       [4.29478638e-02, 9.57045436e-01, 6.70059767e-06],\n",
            "       [9.88718154e-02, 9.01073784e-01, 5.44002936e-05],\n",
            "       [1.20045793e-01, 8.79954207e-01, 2.33053196e-16],\n",
            "       [1.48624253e-01, 8.51370508e-01, 5.23897734e-06],\n",
            "       [5.52031484e-02, 9.44796852e-01, 1.03370788e-17],\n",
            "       [1.75814355e-01, 8.24185645e-01, 1.42258936e-15],\n",
            "       [1.57182932e-08, 9.99999984e-01, 9.78309787e-34],\n",
            "       [6.98429921e-02, 9.30157008e-01, 1.10393312e-20],\n",
            "       [1.47490249e-02, 9.85250975e-01, 4.19823456e-27],\n",
            "       [6.45543288e-02, 9.35445671e-01, 1.93131435e-26],\n",
            "       [2.75723126e-02, 9.72415531e-01, 1.21567858e-05],\n",
            "       [8.77171161e-02, 9.12282729e-01, 1.54731777e-07],\n",
            "       [4.46280992e-08, 9.99999955e-01, 1.13884071e-35],\n",
            "       [3.28080010e-02, 9.59651290e-01, 7.54070913e-03],\n",
            "       [1.48957297e-01, 8.51042703e-01, 1.13388423e-19],\n",
            "       [2.19062590e-01, 7.80251192e-01, 6.86218224e-04],\n",
            "       [5.63273857e-10, 9.99999999e-01, 2.58688313e-42],\n",
            "       [3.35278480e-02, 9.66472152e-01, 1.53450539e-20],\n",
            "       [7.05123061e-03, 9.92857328e-01, 9.14412455e-05],\n",
            "       [2.33870662e-01, 7.66129338e-01, 2.13858620e-15],\n",
            "       [7.93291788e-03, 9.92053850e-01, 1.32323918e-05],\n",
            "       [8.43627669e-02, 9.15637233e-01, 2.21266291e-21],\n",
            "       [2.11161910e-01, 7.62821632e-01, 2.60164580e-02],\n",
            "       [2.94511561e-03, 9.97054884e-01, 4.89417212e-11],\n",
            "       [8.67957933e-10, 9.99999999e-01, 1.16527853e-39],\n",
            "       [2.32475823e-03, 9.97675240e-01, 1.80961543e-09],\n",
            "       [9.30724753e-02, 9.06927525e-01, 2.42643658e-29],\n",
            "       [3.26860282e-02, 9.67313972e-01, 3.76964280e-22],\n",
            "       [8.85294729e-03, 9.91147053e-01, 4.87351798e-23],\n",
            "       [6.88601135e-02, 9.31139886e-01, 3.05835949e-26],\n",
            "       [8.26316597e-11, 1.00000000e+00, 7.62288246e-41],\n",
            "       [5.00344141e-02, 9.49637986e-01, 3.27599732e-04],\n",
            "       [5.00681653e-02, 9.49931835e-01, 9.11566199e-32],\n",
            "       [8.69990396e-02, 9.13000960e-01, 3.53999133e-29],\n",
            "       [1.73913124e-01, 8.26086876e-01, 1.42349508e-16],\n",
            "       [3.76614909e-02, 9.62338509e-01, 2.27179712e-20],\n",
            "       [9.24922317e-02, 9.07507768e-01, 1.12243273e-25],\n",
            "       [6.15418810e-04, 9.99384581e-01, 1.52828168e-14],\n",
            "       [2.18636473e-03, 9.97813635e-01, 1.93345180e-26],\n",
            "       [7.54173978e-02, 9.24582602e-01, 1.06456906e-22],\n",
            "       [3.06218850e-02, 9.69378115e-01, 6.21530998e-27],\n",
            "       [1.03322617e-01, 8.96677383e-01, 2.70115189e-20],\n",
            "       [1.02733159e-01, 8.97266764e-01, 7.73738502e-08],\n",
            "       [3.15466015e-03, 9.96845340e-01, 9.42973379e-28],\n",
            "       [1.89257445e-02, 9.81072358e-01, 1.89728894e-06],\n",
            "       [1.86352024e-02, 9.81364798e-01, 2.90775950e-19],\n",
            "       [7.46066537e-02, 9.25393346e-01, 2.69372632e-23],\n",
            "       [3.76977477e-08, 9.99999962e-01, 6.32620484e-33],\n",
            "       [5.34029083e-03, 9.94659647e-01, 6.26486482e-08],\n",
            "       [5.26708540e-02, 9.47118963e-01, 2.10183138e-04],\n",
            "       [8.71745646e-02, 9.12669985e-01, 1.55450396e-04],\n",
            "       [3.90503432e-02, 9.60877124e-01, 7.25322842e-05],\n",
            "       [8.58872876e-07, 9.99999141e-01, 5.91593930e-25],\n",
            "       [1.47265020e-01, 8.52734980e-01, 3.70218495e-27],\n",
            "       [1.24014157e-02, 9.87598584e-01, 4.90244131e-19],\n",
            "       [1.97357633e-01, 8.02642367e-01, 1.23348928e-15],\n",
            "       [7.97349604e-03, 9.92026482e-01, 2.15435316e-08],\n",
            "       [2.11764835e-02, 9.78823516e-01, 3.11297164e-10],\n",
            "       [4.67116047e-07, 9.99999533e-01, 4.72830445e-25],\n",
            "       [1.29329120e-06, 9.99998707e-01, 3.63306450e-23],\n",
            "       [1.64734330e-02, 9.83526476e-01, 9.07370739e-08],\n",
            "       [1.96638373e-01, 8.03361627e-01, 4.58160673e-21],\n",
            "       [1.21122324e-02, 9.86503003e-01, 1.38476459e-03],\n",
            "       [2.08370018e-01, 7.91629982e-01, 1.14297411e-19],\n",
            "       [2.33078283e-01, 7.66921717e-01, 2.79047002e-19],\n",
            "       [1.74362782e-01, 8.25637218e-01, 2.25906456e-26],\n",
            "       [2.15490761e-01, 7.84509239e-01, 4.05601351e-10],\n",
            "       [8.50896804e-02, 9.14910320e-01, 8.93357800e-30],\n",
            "       [1.92262755e-03, 9.98077372e-01, 9.11386542e-30],\n",
            "       [1.05270171e-01, 8.94729829e-01, 1.29996550e-13],\n",
            "       [1.26425497e-07, 9.99999874e-01, 1.80803814e-28],\n",
            "       [1.44920312e-01, 8.55079688e-01, 2.41077990e-27],\n",
            "       [1.32644345e-01, 8.67355655e-01, 2.42197034e-18],\n",
            "       [1.64087132e-01, 8.35912868e-01, 3.85118307e-16],\n",
            "       [1.14249092e-01, 8.85750908e-01, 8.84498125e-31],\n",
            "       [1.50443155e-01, 8.49556711e-01, 1.33453263e-07],\n",
            "       [1.82293973e-01, 8.17706027e-01, 6.12947406e-20],\n",
            "       [1.43793995e-03, 9.98562060e-01, 6.44303661e-27],\n",
            "       [2.26656356e-01, 7.73332148e-01, 1.14961790e-05],\n",
            "       [7.91008997e-02, 9.20899100e-01, 4.41363929e-24],\n",
            "       [3.62082784e-02, 9.63791722e-01, 8.04545531e-11],\n",
            "       [1.35095647e-01, 8.64904353e-01, 3.21410832e-13],\n",
            "       [1.31337231e-01, 8.68662769e-01, 2.62341050e-26],\n",
            "       [2.21662886e-02, 9.76818918e-01, 1.01479295e-03],\n",
            "       [7.00435672e-03, 9.92995643e-01, 3.00314668e-17],\n",
            "       [5.10320669e-02, 9.48967933e-01, 4.84025025e-20],\n",
            "       [7.21234223e-02, 9.27876578e-01, 4.15823365e-21],\n",
            "       [2.46726449e-01, 7.53273551e-01, 1.00730468e-19],\n",
            "       [6.01559855e-02, 9.39719914e-01, 1.24100880e-04],\n",
            "       [2.16069877e-01, 7.74158825e-01, 9.77129806e-03],\n",
            "       [1.07625982e-01, 8.92374018e-01, 8.61012971e-16],\n",
            "       [1.02815622e-01, 8.97184378e-01, 6.19244266e-19],\n",
            "       [6.43628602e-09, 9.99999994e-01, 3.30578858e-36],\n",
            "       [1.29150933e-01, 8.70849067e-01, 1.49504267e-22],\n",
            "       [1.10278956e-02, 9.88971163e-01, 9.41817735e-07],\n",
            "       [1.70527293e-06, 9.99998295e-01, 1.91033845e-23],\n",
            "       [1.38976368e-01, 8.61023632e-01, 1.28806094e-20],\n",
            "       [6.65796290e-03, 9.93342037e-01, 4.52670212e-31],\n",
            "       [1.78074037e-02, 9.82166872e-01, 2.57246880e-05],\n",
            "       [4.91457749e-02, 9.50854225e-01, 4.91742857e-24],\n",
            "       [1.00350096e-10, 1.00000000e+00, 3.42639399e-38],\n",
            "       [1.51898403e-01, 8.48101597e-01, 4.00397236e-22],\n",
            "       [8.67799547e-02, 9.13219965e-01, 8.06880420e-08],\n",
            "       [3.32309577e-02, 9.66769042e-01, 6.57187965e-23],\n",
            "       [9.34275518e-04, 9.99065288e-01, 4.36954049e-07],\n",
            "       [4.05683396e-02, 9.59431660e-01, 8.98754451e-16],\n",
            "       [3.85639584e-02, 9.61436042e-01, 4.54234868e-27],\n",
            "       [3.98174959e-02, 9.60182504e-01, 7.82155427e-13],\n",
            "       [5.17316920e-03, 9.94826831e-01, 1.58605662e-24],\n",
            "       [2.11854803e-01, 7.88145197e-01, 1.43108083e-16],\n",
            "       [7.29957689e-02, 9.27004231e-01, 2.07845946e-28],\n",
            "       [5.05588162e-03, 9.94944118e-01, 6.39221840e-26],\n",
            "       [1.77478641e-01, 8.22521359e-01, 5.85679250e-19],\n",
            "       [1.86048142e-01, 8.13951858e-01, 4.82481998e-18],\n",
            "       [2.30510051e-02, 9.76948990e-01, 5.05106777e-09],\n",
            "       [6.46472057e-02, 9.35352794e-01, 1.00648799e-20],\n",
            "       [2.14210275e-01, 7.85789725e-01, 8.78287800e-21],\n",
            "       [3.98109825e-02, 9.60089832e-01, 9.91854696e-05],\n",
            "       [4.00911022e-02, 9.59908898e-01, 2.53975514e-24],\n",
            "       [1.55253804e-01, 8.44744118e-01, 2.07819038e-06],\n",
            "       [1.34546566e-02, 9.86545343e-01, 1.03778697e-13],\n",
            "       [9.08487758e-02, 9.09151224e-01, 2.83305351e-20],\n",
            "       [1.62901783e-02, 9.83709822e-01, 4.64157862e-28],\n",
            "       [1.12194524e-01, 8.86691828e-01, 1.11364763e-03],\n",
            "       [8.16235507e-02, 9.18376402e-01, 4.75867325e-08],\n",
            "       [8.46317382e-02, 9.15368041e-01, 2.21171557e-07],\n",
            "       [1.17659490e-06, 9.99998823e-01, 1.54696889e-21],\n",
            "       [3.87137396e-02, 9.61279019e-01, 7.24143851e-06],\n",
            "       [1.62333416e-01, 8.37666584e-01, 4.08887268e-24],\n",
            "       [4.28704692e-03, 9.95712060e-01, 8.93420575e-07],\n",
            "       [1.56162434e-01, 8.43837551e-01, 1.51179340e-08],\n",
            "       [9.47396159e-02, 9.05260384e-01, 2.14044910e-22],\n",
            "       [7.15250590e-02, 9.28474941e-01, 6.89547576e-19],\n",
            "       [8.75636295e-02, 9.12436371e-01, 1.82717008e-13],\n",
            "       [9.65946829e-02, 9.03199852e-01, 2.05465342e-04],\n",
            "       [8.20413492e-02, 9.17958651e-01, 5.22079378e-17],\n",
            "       [4.09408583e-02, 9.59059142e-01, 1.48636248e-17],\n",
            "       [1.98963156e-01, 8.00787591e-01, 2.49252808e-04],\n",
            "       [4.46332519e-02, 9.55366748e-01, 2.18450179e-19],\n",
            "       [9.55776776e-03, 9.90442232e-01, 2.30656887e-26],\n",
            "       [2.21293615e-01, 7.78706184e-01, 2.00285536e-07],\n",
            "       [6.79421865e-02, 9.32057814e-01, 8.22519890e-23],\n",
            "       [1.98838381e-10, 1.00000000e+00, 9.42844292e-46],\n",
            "       [8.41658967e-02, 9.15765130e-01, 6.89729497e-05],\n",
            "       [6.62924932e-02, 9.33707507e-01, 2.08005077e-15],\n",
            "       [4.83870500e-02, 9.51612950e-01, 4.82157007e-18],\n",
            "       [7.32311158e-03, 9.92676888e-01, 9.01184855e-27],\n",
            "       [1.68278889e-02, 9.83172111e-01, 4.29382911e-15],\n",
            "       [2.06292921e-01, 7.75210712e-01, 1.84963670e-02],\n",
            "       [3.06077173e-02, 9.69392283e-01, 9.24385275e-23],\n",
            "       [9.29663082e-02, 9.07033502e-01, 1.89863743e-07],\n",
            "       [5.94433886e-02, 9.40556611e-01, 1.66405238e-20],\n",
            "       [2.24594636e-01, 7.75405364e-01, 5.21825277e-11],\n",
            "       [4.68699815e-02, 9.53130019e-01, 1.61613732e-19],\n",
            "       [8.15035436e-03, 9.91849090e-01, 5.55974782e-07],\n",
            "       [2.83887938e-08, 9.99999972e-01, 1.00118507e-34],\n",
            "       [8.27383045e-02, 9.17261695e-01, 1.16299018e-24],\n",
            "       [1.52774960e-01, 8.47225040e-01, 2.37436222e-30],\n",
            "       [6.42470098e-02, 9.35752990e-01, 1.79667440e-28],\n",
            "       [2.27081817e-01, 7.72902918e-01, 1.52653656e-05],\n",
            "       [6.05867914e-02, 9.39412722e-01, 4.86408544e-07],\n",
            "       [7.76268498e-02, 9.22373150e-01, 2.29700456e-17],\n",
            "       [1.42688600e-11, 1.00000000e+00, 7.89384126e-49],\n",
            "       [2.13819694e-01, 7.85850192e-01, 3.30113644e-04],\n",
            "       [2.03812612e-02, 9.79618739e-01, 9.24783091e-29],\n",
            "       [1.30341611e-01, 8.69658389e-01, 7.57083875e-20],\n",
            "       [1.90796437e-01, 8.09203563e-01, 8.93147772e-14]])\n",
            "(Pdb) np.argmin(gamma, axis=1)\n",
            "array([2, 2, 2, 2, 2, 2, 2, 2, 2, 2, 2, 2, 2, 2, 2, 2, 2, 2, 2, 2, 2, 2,\n",
            "       2, 2, 2, 2, 2, 2, 2, 2, 2, 2, 2, 2, 2, 2, 2, 2, 2, 2, 2, 2, 2, 2,\n",
            "       2, 2, 2, 2, 2, 2, 2, 2, 2, 2, 2, 2, 2, 2, 2, 2, 2, 2, 2, 2, 2, 2,\n",
            "       2, 2, 2, 2, 2, 2, 2, 2, 2, 2, 2, 2, 2, 2, 2, 2, 2, 2, 2, 2, 2, 2,\n",
            "       2, 2, 2, 2, 2, 2, 2, 2, 2, 2, 2, 2, 2, 2, 2, 2, 2, 2, 2, 2, 2, 2,\n",
            "       2, 2, 2, 2, 2, 2, 2, 2, 2, 2, 2, 2, 2, 2, 2, 2, 2, 2, 2, 2, 2, 2,\n",
            "       2, 2, 2, 2, 2, 2, 2, 2, 2, 2, 2, 2, 2, 2, 2, 2, 2, 2, 2, 2, 2, 2,\n",
            "       2, 2, 2, 2, 2, 2, 2, 2, 2, 2, 2, 2, 2, 2, 2, 2, 2, 2, 2, 2, 2, 2,\n",
            "       2, 2, 2, 2, 2, 2, 2, 2, 2, 2, 2, 2, 2, 2, 2, 2, 2, 2, 2, 2, 2, 2,\n",
            "       2, 2, 2, 2, 2, 2, 2, 2, 2, 2, 2, 2, 2, 2, 2, 2, 2, 2, 2, 2, 2, 2,\n",
            "       2, 2, 2, 2, 2, 2, 2, 2, 2, 2, 2, 2, 2, 2, 2, 2, 2, 2, 2, 2, 2, 2,\n",
            "       2, 2, 2, 2, 2, 2, 2, 2, 2, 2, 2, 2, 2, 2, 2, 2, 2, 2, 2, 2, 2, 2,\n",
            "       2, 2, 2, 2, 2, 2, 2, 2, 2, 2, 2, 2, 2, 2, 2, 2])\n",
            "(Pdb) exit\n"
          ],
          "name": "stdout"
        },
        {
          "output_type": "error",
          "ename": "BdbQuit",
          "evalue": "ignored",
          "traceback": [
            "\u001b[0;31m---------------------------------------------------------------------------\u001b[0m",
            "\u001b[0;31mBdbQuit\u001b[0m                                   Traceback (most recent call last)",
            "\u001b[0;32m<ipython-input-20-7cac8f1d9170>\u001b[0m in \u001b[0;36m<module>\u001b[0;34m()\u001b[0m\n\u001b[1;32m      1\u001b[0m \u001b[0mget_ipython\u001b[0m\u001b[0;34m(\u001b[0m\u001b[0;34m)\u001b[0m\u001b[0;34m.\u001b[0m\u001b[0mmagic\u001b[0m\u001b[0;34m(\u001b[0m\u001b[0;34m'pdb on'\u001b[0m\u001b[0;34m)\u001b[0m\u001b[0;34m\u001b[0m\u001b[0;34m\u001b[0m\u001b[0m\n\u001b[0;32m----> 2\u001b[0;31m \u001b[0mbest_loss\u001b[0m\u001b[0;34m,\u001b[0m \u001b[0mbest_pi\u001b[0m\u001b[0;34m,\u001b[0m \u001b[0mbest_mu\u001b[0m\u001b[0;34m,\u001b[0m \u001b[0mbest_sigma\u001b[0m \u001b[0;34m=\u001b[0m \u001b[0mtrain_EM\u001b[0m\u001b[0;34m(\u001b[0m\u001b[0mX\u001b[0m\u001b[0;34m,\u001b[0m \u001b[0;36m3\u001b[0m\u001b[0;34m)\u001b[0m\u001b[0;34m\u001b[0m\u001b[0;34m\u001b[0m\u001b[0m\n\u001b[0m\u001b[1;32m      3\u001b[0m \u001b[0;31m#grader.submit_EM(best_loss)\u001b[0m\u001b[0;34m\u001b[0m\u001b[0;34m\u001b[0m\u001b[0;34m\u001b[0m\u001b[0m\n",
            "\u001b[0;32m<ipython-input-19-adc2d7022d49>\u001b[0m in \u001b[0;36mtrain_EM\u001b[0;34m(X, C, rtol, max_iter, restarts)\u001b[0m\n\u001b[1;32m     25\u001b[0m       \u001b[0;32mfor\u001b[0m \u001b[0mi\u001b[0m \u001b[0;32min\u001b[0m \u001b[0mrange\u001b[0m\u001b[0;34m(\u001b[0m\u001b[0mmax_iter\u001b[0m\u001b[0;34m)\u001b[0m\u001b[0;34m:\u001b[0m\u001b[0;34m\u001b[0m\u001b[0;34m\u001b[0m\u001b[0m\n\u001b[1;32m     26\u001b[0m         \u001b[0mpdb\u001b[0m\u001b[0;34m.\u001b[0m\u001b[0mset_trace\u001b[0m\u001b[0;34m(\u001b[0m\u001b[0;34m)\u001b[0m\u001b[0;34m\u001b[0m\u001b[0;34m\u001b[0m\u001b[0m\n\u001b[0;32m---> 27\u001b[0;31m         \u001b[0mgamma\u001b[0m \u001b[0;34m=\u001b[0m \u001b[0mE_step\u001b[0m\u001b[0;34m(\u001b[0m\u001b[0mX\u001b[0m\u001b[0;34m,\u001b[0m \u001b[0mpi\u001b[0m\u001b[0;34m,\u001b[0m \u001b[0mmu\u001b[0m\u001b[0;34m,\u001b[0m \u001b[0msigma\u001b[0m\u001b[0;34m)\u001b[0m\u001b[0;34m\u001b[0m\u001b[0;34m\u001b[0m\u001b[0m\n\u001b[0m\u001b[1;32m     28\u001b[0m         \u001b[0mpi\u001b[0m\u001b[0;34m,\u001b[0m \u001b[0mmu\u001b[0m\u001b[0;34m,\u001b[0m \u001b[0msigma\u001b[0m \u001b[0;34m=\u001b[0m \u001b[0mM_step\u001b[0m\u001b[0;34m(\u001b[0m\u001b[0mX\u001b[0m\u001b[0;34m,\u001b[0m \u001b[0mgamma\u001b[0m\u001b[0;34m)\u001b[0m\u001b[0;34m\u001b[0m\u001b[0;34m\u001b[0m\u001b[0m\n\u001b[1;32m     29\u001b[0m \u001b[0;34m\u001b[0m\u001b[0m\n",
            "\u001b[0;32m<ipython-input-19-adc2d7022d49>\u001b[0m in \u001b[0;36mtrain_EM\u001b[0;34m(X, C, rtol, max_iter, restarts)\u001b[0m\n\u001b[1;32m     25\u001b[0m       \u001b[0;32mfor\u001b[0m \u001b[0mi\u001b[0m \u001b[0;32min\u001b[0m \u001b[0mrange\u001b[0m\u001b[0;34m(\u001b[0m\u001b[0mmax_iter\u001b[0m\u001b[0;34m)\u001b[0m\u001b[0;34m:\u001b[0m\u001b[0;34m\u001b[0m\u001b[0;34m\u001b[0m\u001b[0m\n\u001b[1;32m     26\u001b[0m         \u001b[0mpdb\u001b[0m\u001b[0;34m.\u001b[0m\u001b[0mset_trace\u001b[0m\u001b[0;34m(\u001b[0m\u001b[0;34m)\u001b[0m\u001b[0;34m\u001b[0m\u001b[0;34m\u001b[0m\u001b[0m\n\u001b[0;32m---> 27\u001b[0;31m         \u001b[0mgamma\u001b[0m \u001b[0;34m=\u001b[0m \u001b[0mE_step\u001b[0m\u001b[0;34m(\u001b[0m\u001b[0mX\u001b[0m\u001b[0;34m,\u001b[0m \u001b[0mpi\u001b[0m\u001b[0;34m,\u001b[0m \u001b[0mmu\u001b[0m\u001b[0;34m,\u001b[0m \u001b[0msigma\u001b[0m\u001b[0;34m)\u001b[0m\u001b[0;34m\u001b[0m\u001b[0;34m\u001b[0m\u001b[0m\n\u001b[0m\u001b[1;32m     28\u001b[0m         \u001b[0mpi\u001b[0m\u001b[0;34m,\u001b[0m \u001b[0mmu\u001b[0m\u001b[0;34m,\u001b[0m \u001b[0msigma\u001b[0m \u001b[0;34m=\u001b[0m \u001b[0mM_step\u001b[0m\u001b[0;34m(\u001b[0m\u001b[0mX\u001b[0m\u001b[0;34m,\u001b[0m \u001b[0mgamma\u001b[0m\u001b[0;34m)\u001b[0m\u001b[0;34m\u001b[0m\u001b[0;34m\u001b[0m\u001b[0m\n\u001b[1;32m     29\u001b[0m \u001b[0;34m\u001b[0m\u001b[0m\n",
            "\u001b[0;32m/usr/lib/python3.6/bdb.py\u001b[0m in \u001b[0;36mtrace_dispatch\u001b[0;34m(self, frame, event, arg)\u001b[0m\n\u001b[1;32m     49\u001b[0m             \u001b[0;32mreturn\u001b[0m \u001b[0;31m# None\u001b[0m\u001b[0;34m\u001b[0m\u001b[0;34m\u001b[0m\u001b[0m\n\u001b[1;32m     50\u001b[0m         \u001b[0;32mif\u001b[0m \u001b[0mevent\u001b[0m \u001b[0;34m==\u001b[0m \u001b[0;34m'line'\u001b[0m\u001b[0;34m:\u001b[0m\u001b[0;34m\u001b[0m\u001b[0;34m\u001b[0m\u001b[0m\n\u001b[0;32m---> 51\u001b[0;31m             \u001b[0;32mreturn\u001b[0m \u001b[0mself\u001b[0m\u001b[0;34m.\u001b[0m\u001b[0mdispatch_line\u001b[0m\u001b[0;34m(\u001b[0m\u001b[0mframe\u001b[0m\u001b[0;34m)\u001b[0m\u001b[0;34m\u001b[0m\u001b[0;34m\u001b[0m\u001b[0m\n\u001b[0m\u001b[1;32m     52\u001b[0m         \u001b[0;32mif\u001b[0m \u001b[0mevent\u001b[0m \u001b[0;34m==\u001b[0m \u001b[0;34m'call'\u001b[0m\u001b[0;34m:\u001b[0m\u001b[0;34m\u001b[0m\u001b[0;34m\u001b[0m\u001b[0m\n\u001b[1;32m     53\u001b[0m             \u001b[0;32mreturn\u001b[0m \u001b[0mself\u001b[0m\u001b[0;34m.\u001b[0m\u001b[0mdispatch_call\u001b[0m\u001b[0;34m(\u001b[0m\u001b[0mframe\u001b[0m\u001b[0;34m,\u001b[0m \u001b[0marg\u001b[0m\u001b[0;34m)\u001b[0m\u001b[0;34m\u001b[0m\u001b[0;34m\u001b[0m\u001b[0m\n",
            "\u001b[0;32m/usr/lib/python3.6/bdb.py\u001b[0m in \u001b[0;36mdispatch_line\u001b[0;34m(self, frame)\u001b[0m\n\u001b[1;32m     68\u001b[0m         \u001b[0;32mif\u001b[0m \u001b[0mself\u001b[0m\u001b[0;34m.\u001b[0m\u001b[0mstop_here\u001b[0m\u001b[0;34m(\u001b[0m\u001b[0mframe\u001b[0m\u001b[0;34m)\u001b[0m \u001b[0;32mor\u001b[0m \u001b[0mself\u001b[0m\u001b[0;34m.\u001b[0m\u001b[0mbreak_here\u001b[0m\u001b[0;34m(\u001b[0m\u001b[0mframe\u001b[0m\u001b[0;34m)\u001b[0m\u001b[0;34m:\u001b[0m\u001b[0;34m\u001b[0m\u001b[0;34m\u001b[0m\u001b[0m\n\u001b[1;32m     69\u001b[0m             \u001b[0mself\u001b[0m\u001b[0;34m.\u001b[0m\u001b[0muser_line\u001b[0m\u001b[0;34m(\u001b[0m\u001b[0mframe\u001b[0m\u001b[0;34m)\u001b[0m\u001b[0;34m\u001b[0m\u001b[0;34m\u001b[0m\u001b[0m\n\u001b[0;32m---> 70\u001b[0;31m             \u001b[0;32mif\u001b[0m \u001b[0mself\u001b[0m\u001b[0;34m.\u001b[0m\u001b[0mquitting\u001b[0m\u001b[0;34m:\u001b[0m \u001b[0;32mraise\u001b[0m \u001b[0mBdbQuit\u001b[0m\u001b[0;34m\u001b[0m\u001b[0;34m\u001b[0m\u001b[0m\n\u001b[0m\u001b[1;32m     71\u001b[0m         \u001b[0;32mreturn\u001b[0m \u001b[0mself\u001b[0m\u001b[0;34m.\u001b[0m\u001b[0mtrace_dispatch\u001b[0m\u001b[0;34m\u001b[0m\u001b[0;34m\u001b[0m\u001b[0m\n\u001b[1;32m     72\u001b[0m \u001b[0;34m\u001b[0m\u001b[0m\n",
            "\u001b[0;31mBdbQuit\u001b[0m: "
          ]
        },
        {
          "output_type": "stream",
          "text": [
            "> \u001b[0;32m/usr/lib/python3.6/bdb.py\u001b[0m(70)\u001b[0;36mdispatch_line\u001b[0;34m()\u001b[0m\n",
            "\u001b[0;32m     68 \u001b[0;31m        \u001b[0;32mif\u001b[0m \u001b[0mself\u001b[0m\u001b[0;34m.\u001b[0m\u001b[0mstop_here\u001b[0m\u001b[0;34m(\u001b[0m\u001b[0mframe\u001b[0m\u001b[0;34m)\u001b[0m \u001b[0;32mor\u001b[0m \u001b[0mself\u001b[0m\u001b[0;34m.\u001b[0m\u001b[0mbreak_here\u001b[0m\u001b[0;34m(\u001b[0m\u001b[0mframe\u001b[0m\u001b[0;34m)\u001b[0m\u001b[0;34m:\u001b[0m\u001b[0;34m\u001b[0m\u001b[0;34m\u001b[0m\u001b[0m\n",
            "\u001b[0m\u001b[0;32m     69 \u001b[0;31m            \u001b[0mself\u001b[0m\u001b[0;34m.\u001b[0m\u001b[0muser_line\u001b[0m\u001b[0;34m(\u001b[0m\u001b[0mframe\u001b[0m\u001b[0;34m)\u001b[0m\u001b[0;34m\u001b[0m\u001b[0;34m\u001b[0m\u001b[0m\n",
            "\u001b[0m\u001b[0;32m---> 70 \u001b[0;31m            \u001b[0;32mif\u001b[0m \u001b[0mself\u001b[0m\u001b[0;34m.\u001b[0m\u001b[0mquitting\u001b[0m\u001b[0;34m:\u001b[0m \u001b[0;32mraise\u001b[0m \u001b[0mBdbQuit\u001b[0m\u001b[0;34m\u001b[0m\u001b[0;34m\u001b[0m\u001b[0m\n",
            "\u001b[0m\u001b[0;32m     71 \u001b[0;31m        \u001b[0;32mreturn\u001b[0m \u001b[0mself\u001b[0m\u001b[0;34m.\u001b[0m\u001b[0mtrace_dispatch\u001b[0m\u001b[0;34m\u001b[0m\u001b[0;34m\u001b[0m\u001b[0m\n",
            "\u001b[0m\u001b[0;32m     72 \u001b[0;31m\u001b[0;34m\u001b[0m\u001b[0m\n",
            "\u001b[0m\n",
            "ipdb> exit\n"
          ],
          "name": "stdout"
        }
      ]
    },
    {
      "cell_type": "markdown",
      "metadata": {
        "id": "tYd6tPHKBEEd",
        "colab_type": "text"
      },
      "source": [
        "If you implemented all the steps correctly, your algorithm should converge in about 20 iterations. Let's plot the clusters to see it. We will assign a cluster label as the most probable cluster index. This can be found using a matrix $\\gamma$ computed on last E-step. "
      ]
    },
    {
      "cell_type": "code",
      "metadata": {
        "id": "mK_M6QLnBEEe",
        "colab_type": "code",
        "outputId": "8a91df4f-2b64-4d9d-f685-fb584282bb69",
        "colab": {
          "base_uri": "https://localhost:8080/",
          "height": 265
        }
      },
      "source": [
        "gamma = E_step(X, best_pi, best_mu, best_sigma)\n",
        "labels = gamma.argmax(axis=1)\n",
        "colors = np.array([(31, 119, 180), (255, 127, 14), (44, 160, 44)]) / 255.\n",
        "plt.scatter(X[:, 0], X[:, 1], c=colors[labels], s=30)\n",
        "plt.axis('equal')\n",
        "plt.show()"
      ],
      "execution_count": 0,
      "outputs": [
        {
          "output_type": "display_data",
          "data": {
            "image/png": "[encoded data removed]",
            "text/plain": [
              "<Figure size 432x288 with 1 Axes>"
            ]
          },
          "metadata": {
            "tags": [],
            "needs_background": "light"
          }
        }
      ]
    },
    {
      "cell_type": "markdown",
      "metadata": {
        "id": "h4lnjrc7BEEl",
        "colab_type": "text"
      },
      "source": [
        "# Authorization & Submission\n",
        "To submit assignment parts to Cousera platform, please, enter your e-mail and token into variables below. You can generate a token on this programming assignment's page. <b>Note:</b> The token expires 30 minutes after generation."
      ]
    },
    {
      "cell_type": "code",
      "metadata": {
        "id": "5uQRl29_BEEl",
        "colab_type": "code",
        "outputId": "14fe8cc9-7ecf-4539-d0e9-7bfe4103622d",
        "colab": {
          "base_uri": "https://localhost:8080/",
          "height": 149
        }
      },
      "source": [
        "STUDENT_EMAIL = \"rickdey1998@gmail.com\"\n",
        "STUDENT_TOKEN = \"tq9nVUUJ3cwixwmA\"\n",
        "grader.status()"
      ],
      "execution_count": 0,
      "outputs": [
        {
          "output_type": "stream",
          "text": [
            "You want to submit these numbers:\n",
            "Task Task 1 (E-step): 0.5247038995074903\n",
            "Task Task 2 (M-step: mu): ----------\n",
            "Task Task 2 (M-step: sigma): ----------\n",
            "Task Task 2 (M-step: pi): ----------\n",
            "Task Task 3 (VLB): ----------\n",
            "Task Task 4 (EM): 1\n"
          ],
          "name": "stdout"
        }
      ]
    },
    {
      "cell_type": "markdown",
      "metadata": {
        "id": "sNCsqNOiBEEn",
        "colab_type": "text"
      },
      "source": [
        "If you want to submit these answers, run cell below"
      ]
    },
    {
      "cell_type": "code",
      "metadata": {
        "id": "3sc9imWNBEEo",
        "colab_type": "code",
        "outputId": "9a9f4e8c-634a-4bab-a4d6-3e6f27763dab",
        "colab": {
          "base_uri": "https://localhost:8080/",
          "height": 36
        }
      },
      "source": [
        "grader.submit(STUDENT_EMAIL, STUDENT_TOKEN)"
      ],
      "execution_count": 0,
      "outputs": [
        {
          "output_type": "stream",
          "text": [
            "Submitted to Coursera platform. See results on assignment page!\n"
          ],
          "name": "stdout"
        }
      ]
    }
  ]
}