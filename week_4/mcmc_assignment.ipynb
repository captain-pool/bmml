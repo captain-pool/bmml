{
  "nbformat": 4,
  "nbformat_minor": 0,
  "metadata": {
    "kernelspec": {
      "display_name": "Python 3",
      "language": "python",
      "name": "python3"
    },
    "language_info": {
      "codemirror_mode": {
        "name": "ipython",
        "version": 3
      },
      "file_extension": ".py",
      "mimetype": "text/x-python",
      "name": "python",
      "nbconvert_exporter": "python",
      "pygments_lexer": "ipython3",
      "version": "3.6.7"
    },
    "colab": {
      "name": "mcmc_assignment.ipynb",
      "provenance": [],
      "include_colab_link": true
    }
  },
  "cells": [
    {
      "cell_type": "markdown",
      "metadata": {
        "id": "view-in-github",
        "colab_type": "text"
      },
      "source": [
        "<a href=\"https://colab.research.google.com/github/captain-pool/bmml/blob/master/week_4/mcmc_assignment.ipynb\" target=\"_parent\"><img src=\"https://colab.research.google.com/assets/colab-badge.svg\" alt=\"Open In Colab\"/></a>"
      ]
    },
    {
      "cell_type": "markdown",
      "metadata": {
        "id": "W2EzOYIeSZok",
        "colab_type": "text"
      },
      "source": [
        "# First things first\n",
        "Click **File -> Save a copy in Drive** and click **Open in new tab** in the pop-up window to save your progress in Google Drive."
      ]
    },
    {
      "cell_type": "markdown",
      "metadata": {
        "id": "BHSJsV_RSZoo",
        "colab_type": "text"
      },
      "source": [
        "# Using PyMC3"
      ]
    },
    {
      "cell_type": "markdown",
      "metadata": {
        "id": "_GXjz637SZos",
        "colab_type": "text"
      },
      "source": [
        "In this assignment, we will learn how to use a library for probabilistic programming and inference called <a href=\"http://docs.pymc.io/\">PyMC3</a>."
      ]
    },
    {
      "cell_type": "markdown",
      "metadata": {
        "id": "tBdRcpbOSZow",
        "colab_type": "text"
      },
      "source": [
        "### Setup\n",
        "Loading auxiliary files and importing the necessary libraries."
      ]
    },
    {
      "cell_type": "code",
      "metadata": {
        "id": "cz2q_-DEfPUQ",
        "colab_type": "code",
        "colab": {}
      },
      "source": [
        "!pip install pandas==0.25.3\n",
        "!pip install -U pymc3"
      ],
      "execution_count": 0,
      "outputs": []
    },
    {
      "cell_type": "code",
      "metadata": {
        "id": "mUBZyIqOSZo0",
        "colab_type": "code",
        "outputId": "f5d44686-83c5-46b7-d7c4-44e00cea64ca",
        "colab": {
          "base_uri": "https://localhost:8080/",
          "height": 280
        }
      },
      "source": [
        "try:\n",
        "    import google.colab\n",
        "    IN_COLAB = True\n",
        "except:\n",
        "    IN_COLAB = False\n",
        "if IN_COLAB:\n",
        "    print(\"Downloading Colab files\")\n",
        "    ! shred -u setup_google_colab.py\n",
        "    ! wget https://raw.githubusercontent.com/hse-aml/bayesian-methods-for-ml/master/setup_google_colab.py -O setup_google_colab.py\n",
        "    import setup_google_colab\n",
        "    setup_google_colab.load_data_week4()"
      ],
      "execution_count": 1,
      "outputs": [
        {
          "output_type": "stream",
          "text": [
            "Downloading Colab files\n",
            "--2020-04-27 07:15:33--  https://raw.githubusercontent.com/hse-aml/bayesian-methods-for-ml/master/setup_google_colab.py\n",
            "Resolving raw.githubusercontent.com (raw.githubusercontent.com)... 151.101.0.133, 151.101.64.133, 151.101.128.133, ...\n",
            "Connecting to raw.githubusercontent.com (raw.githubusercontent.com)|151.101.0.133|:443... connected.\n",
            "HTTP request sent, awaiting response... 200 OK\n",
            "Length: 1254 (1.2K) [text/plain]\n",
            "Saving to: ‘setup_google_colab.py’\n",
            "\n",
            "setup_google_colab. 100%[===================>]   1.22K  --.-KB/s    in 0s      \n",
            "\n",
            "2020-04-27 07:15:33 (77.0 MB/s) - ‘setup_google_colab.py’ saved [1254/1254]\n",
            "\n",
            "https://raw.githubusercontent.com/hse-aml/bayesian-methods-for-ml/master/week4/w4_grader.py w4_grader.py\n",
            "https://raw.githubusercontent.com/hse-aml/bayesian-methods-for-ml/master/week4/adult_us_postprocessed.csv adult_us_postprocessed.csv\n"
          ],
          "name": "stdout"
        }
      ]
    },
    {
      "cell_type": "code",
      "metadata": {
        "id": "-weciSUcSZpI",
        "colab_type": "code",
        "outputId": "00612967-ed9b-4883-e51c-2519c72bf61f",
        "colab": {
          "base_uri": "https://localhost:8080/",
          "height": 55
        }
      },
      "source": [
        "import pandas as pd\n",
        "import numpy.random as rnd\n",
        "import seaborn as sns\n",
        "from matplotlib import animation\n",
        "import pymc3 as pm\n",
        "from w4_grader import MCMCGrader\n",
        "%pylab inline\n",
        "%env THEANO_FLAGS='device=cuda,floatX=float32'"
      ],
      "execution_count": 2,
      "outputs": [
        {
          "output_type": "stream",
          "text": [
            "Populating the interactive namespace from numpy and matplotlib\n",
            "env: THEANO_FLAGS='device=cuda,floatX=float32'\n"
          ],
          "name": "stdout"
        }
      ]
    },
    {
      "cell_type": "markdown",
      "metadata": {
        "id": "tkA2RhO-SZpW",
        "colab_type": "text"
      },
      "source": [
        "### Grading\n",
        "We will create a grader instance below and use it to collect your answers. Note that these outputs will be stored locally inside grader and will be uploaded to the platform only after running submitting function in the last part of this assignment. If you want to make a partial submission, you can run that cell anytime you want."
      ]
    },
    {
      "cell_type": "code",
      "metadata": {
        "id": "x1dCnrHDSZpZ",
        "colab_type": "code",
        "colab": {}
      },
      "source": [
        "grader = MCMCGrader()"
      ],
      "execution_count": 0,
      "outputs": []
    },
    {
      "cell_type": "markdown",
      "metadata": {
        "id": "PoAkdh7HSZpo",
        "colab_type": "text"
      },
      "source": [
        "## Task 1. Alice and Bob\n",
        "\n",
        "Alice and Bob are trading on the market. Both of them are selling the Thing and want to get as high profit as possible.\n",
        "Every hour they check out with each other's prices and adjust their prices to compete on the market. Although they have different strategies for price setting.\n",
        "\n",
        "**Alice**: takes Bob's price during the **previous** hour, multiply by 0.6, add \\\\$90, add Gaussian noise from $N(0, 20^2)$.\n",
        "\n",
        "**Bob**: takes Alice's price during the **current** hour, multiply by 1.2 and subtract \\\\$20, add Gaussian noise from $N(0, 10^2)$.\n",
        "\n",
        "The problem is to find the joint distribution of Alice and Bob's prices after many hours of such an experiment."
      ]
    },
    {
      "cell_type": "markdown",
      "metadata": {
        "id": "KM2jzUlASZps",
        "colab_type": "text"
      },
      "source": [
        "### Task 1.1\n",
        "\n",
        "Implement the `run_simulation` function according to the description above. "
      ]
    },
    {
      "cell_type": "code",
      "metadata": {
        "id": "oWlfnWSBSZpw",
        "colab_type": "code",
        "colab": {}
      },
      "source": [
        "def run_simulation(alice_start_price=300.0, bob_start_price=300.0, seed=42, num_hours=10000, burnin=1000):\n",
        "    \"\"\"Simulates an evolution of prices set by Bob and Alice.\n",
        "    \n",
        "    The function should simulate Alice and Bob behavior for `burnin' hours, then ignore the obtained\n",
        "    simulation results, and then simulate it for `num_hours' more.\n",
        "    The initial burnin (also sometimes called warmup) is done to make sure that the distribution stabilized.\n",
        "    \n",
        "    Please don't change the signature of the function.\n",
        "    \n",
        "    Returns:\n",
        "        two lists, with Alice and with Bob prices. Both lists should be of length num_hours.\n",
        "    \"\"\"\n",
        "    np.random.seed(seed)\n",
        "\n",
        "    alice_prices = [alice_start_price]\n",
        "    bob_prices = [bob_start_price]\n",
        "    for i in range(burnin + num_hours - 1):\n",
        "      alice_price = bob_prices[-1] * 0.6 + 90 + np.random.normal(loc=0.0, scale=20)\n",
        "      bob_price = alice_price * 1.2 - 20 + np.random.normal(loc=0.0, scale=10)\n",
        "      alice_prices.append(alice_price)\n",
        "      bob_prices.append(bob_price)\n",
        "    \n",
        "    return alice_prices[burnin:], bob_prices[burnin:]"
      ],
      "execution_count": 0,
      "outputs": []
    },
    {
      "cell_type": "code",
      "metadata": {
        "id": "4fYFk5fbSZp8",
        "colab_type": "code",
        "outputId": "3f65a76a-9b60-4726-d27c-6f33ca3262d6",
        "colab": {
          "base_uri": "https://localhost:8080/",
          "height": 55
        }
      },
      "source": [
        "alice_prices, bob_prices = run_simulation(alice_start_price=300, bob_start_price=300, seed=42, num_hours=3, burnin=1)\n",
        "if len(alice_prices) != 3:\n",
        "    raise RuntimeError('Make sure that the function returns `num_hours` data points.')\n",
        "grader.submit_simulation_trajectory(alice_prices, bob_prices)"
      ],
      "execution_count": 18,
      "outputs": [
        {
          "output_type": "stream",
          "text": [
            "Current answer for task 1.1 (Alice trajectory) is: 279.93428306022463  291.67686875834846\n",
            "Current answer for task 1.1 (Bob trajectory) is: 314.5384966605577  345.2425410740984\n"
          ],
          "name": "stdout"
        }
      ]
    },
    {
      "cell_type": "markdown",
      "metadata": {
        "id": "5KQnnBVpSZqJ",
        "colab_type": "text"
      },
      "source": [
        "### Task 1.2\n",
        "What is the average price for Alice and Bob after the burn-in period? Whose prices are higher?"
      ]
    },
    {
      "cell_type": "code",
      "metadata": {
        "id": "n5JSJ56LSZqK",
        "colab_type": "code",
        "outputId": "f08b8be0-a55b-4bc4-d272-8d571ab4c789",
        "colab": {
          "base_uri": "https://localhost:8080/",
          "height": 55
        }
      },
      "source": [
        "#### YOUR CODE HERE ####\n",
        "alice_prices, bob_prices = run_simulation()\n",
        "average_alice_price = np.mean(alice_prices)\n",
        "average_bob_price = np.mean(bob_prices)\n",
        "### END OF YOUR CODE ###\n",
        "grader.submit_simulation_mean(average_alice_price, average_bob_price)"
      ],
      "execution_count": 19,
      "outputs": [
        {
          "output_type": "stream",
          "text": [
            "Current answer for task 1.2 (Alice mean) is: 278.85416992423353\n",
            "Current answer for task 1.2 (Bob mean) is: 314.6064116545574\n"
          ],
          "name": "stdout"
        }
      ]
    },
    {
      "cell_type": "markdown",
      "metadata": {
        "id": "BfZyg98lSZqT",
        "colab_type": "text"
      },
      "source": [
        "### Task 1.3\n",
        "\n",
        "Let's look at the 2-d histogram of prices, computed using kernel density estimation."
      ]
    },
    {
      "cell_type": "code",
      "metadata": {
        "id": "rI8A4A-fSZqU",
        "colab_type": "code",
        "outputId": "947cb008-4d78-4510-b25d-ef21019eb774",
        "colab": {
          "base_uri": "https://localhost:8080/",
          "height": 460
        }
      },
      "source": [
        "data = np.array(run_simulation())\n",
        "sns.jointplot(data[0, :], data[1, :], stat_func=None, kind='kde')"
      ],
      "execution_count": 20,
      "outputs": [
        {
          "output_type": "execute_result",
          "data": {
            "text/plain": [
              "<seaborn.axisgrid.JointGrid at 0x7f4118352470>"
            ]
          },
          "metadata": {
            "tags": []
          },
          "execution_count": 20
        },
        {
          "output_type": "display_data",
          "data": {
            "image/png": "[encoded data removed]",
            "text/plain": [
              "<Figure size 432x432 with 3 Axes>"
            ]
          },
          "metadata": {
            "tags": [],
            "needs_background": "light"
          }
        }
      ]
    },
    {
      "cell_type": "markdown",
      "metadata": {
        "id": "psKxhETXSZqf",
        "colab_type": "text"
      },
      "source": [
        "Clearly, the prices of Bob and Alce are highly correlated. What is the Pearson correlation coefficient of Alice and Bob prices?"
      ]
    },
    {
      "cell_type": "code",
      "metadata": {
        "id": "qCn7S9YpSZqi",
        "colab_type": "code",
        "outputId": "c817975f-91ec-4e5f-857d-50254ad8e62c",
        "colab": {
          "base_uri": "https://localhost:8080/",
          "height": 36
        }
      },
      "source": [
        "#### YOUR CODE HERE ####\n",
        "correlation = np.corrcoef(data)\n",
        "### END OF YOUR CODE ###\n",
        "grader.submit_simulation_correlation(correlation[0, 1])"
      ],
      "execution_count": 21,
      "outputs": [
        {
          "output_type": "stream",
          "text": [
            "Current answer for task 1.3 (Bob and Alice prices correlation) is: 0.9636099866766943\n"
          ],
          "name": "stdout"
        }
      ]
    },
    {
      "cell_type": "markdown",
      "metadata": {
        "id": "L1utPIMbSZqs",
        "colab_type": "text"
      },
      "source": [
        "### Task 1.4"
      ]
    },
    {
      "cell_type": "markdown",
      "metadata": {
        "id": "I9bWg0fJSZqt",
        "colab_type": "text"
      },
      "source": [
        "We observe an interesting effect here: seems like the bivariate distribution of Alice and Bob prices converges to a correlated bivariate Gaussian distribution.\n",
        "\n",
        "Let's check, whether the results change if we use different random seed and starting points."
      ]
    },
    {
      "cell_type": "code",
      "metadata": {
        "id": "x-1xDjIvSZqu",
        "colab_type": "code",
        "outputId": "f0420f72-5e05-492f-9e49-6da7603a9caf",
        "colab": {
          "base_uri": "https://localhost:8080/",
          "height": 36
        }
      },
      "source": [
        "# Pick different starting prices, e.g 10, 1000, 10000 for Bob and Alice. \n",
        "# Does the joint distribution of the two prices depend on these parameters?\n",
        "POSSIBLE_ANSWERS = {\n",
        "    0: 'Depends on random seed and starting prices', \n",
        "    1: 'Depends only on random seed',\n",
        "    2: 'Depends only on starting prices',\n",
        "    3: 'Does not depend on random seed and starting prices'\n",
        "}\n",
        "\n",
        "idx = 3\n",
        "answer = POSSIBLE_ANSWERS[idx]\n",
        "grader.submit_simulation_depends(answer)"
      ],
      "execution_count": 22,
      "outputs": [
        {
          "output_type": "stream",
          "text": [
            "Current answer for task 1.4 (depends on the random data or not) is: Does not depend on random seed and starting prices\n"
          ],
          "name": "stdout"
        }
      ]
    },
    {
      "cell_type": "markdown",
      "metadata": {
        "collapsed": true,
        "id": "ll7pYSTvSZq4",
        "colab_type": "text"
      },
      "source": [
        "## Task 2. Logistic regression with PyMC3\n",
        "\n",
        "Logistic regression is a powerful model that allows you to analyze how a set of features affects some binary target label. Posterior distribution over the weights gives us an estimation of the influence of each particular feature on the probability of the target being equal to one. But most importantly, posterior distribution gives us the interval estimates for each weight of the model. This is very important for data analysis when you want to not only provide a good model but also estimate the uncertainty of your conclusions.\n",
        "\n",
        "In this task, we will learn how to use PyMC3 library to perform approximate Bayesian inference for logistic regression.\n",
        "\n",
        "This part of the assignment is based on the logistic regression tutorial by Peadar Coyle and J. Benjamin Cook."
      ]
    },
    {
      "cell_type": "markdown",
      "metadata": {
        "id": "GzMlEGsbSZq6",
        "colab_type": "text"
      },
      "source": [
        "### Logistic regression.\n",
        "\n",
        "The problem here is to model how the probability that a person has salary $\\geq$ \\\\$50K is affected by his/her age, education, sex and other features.\n",
        "\n",
        "Let $y_i = 1$ if i-th person's salary is $\\geq$ \\\\$50K and $y_i = 0$ otherwise. Let $x_{ij}$ be $j$-th feature of $i$-th person.\n",
        "\n",
        "Logistic regression models this probabilty in the following way:\n",
        "\n",
        "$$p(y_i = 1 \\mid \\beta) = \\sigma (\\beta_1 x_{i1} + \\beta_2 x_{i2} + \\dots + \\beta_k x_{ik} ), $$\n",
        "\n",
        "where $\\sigma(t) = \\frac1{1 + e^{-t}}$"
      ]
    },
    {
      "cell_type": "markdown",
      "metadata": {
        "id": "mieqOx3nSZq8",
        "colab_type": "text"
      },
      "source": [
        "#### Odds ratio.\n",
        "Let's try to answer the following question: does the gender of a person affects his or her salary? To do it we will use the concept of *odds*.\n",
        "\n",
        "If we have a binary random variable $y$ (which may indicate whether a person makes \\\\$50K) and if the probabilty of the positive outcome $p(y = 1)$ is for example 0.8, we will say that the *odds* are 4 to 1 (or just 4 for short), because succeding is 4 time more likely than failing $\\frac{p(y = 1)}{p(y = 0)} = \\frac{0.8}{0.2} = 4$.\n",
        "\n",
        "Now, let's return to the effect of gender on the salary. Let's compute the **ratio** between the odds of a male having salary $\\geq $ \\\\$50K and the odds of a female (with the same level of education, experience and everything else) having salary $\\geq$ \\\\$50K. The first feature of each person in the dataset is gender. Specifically, $x_{i1} = 0$ if the person is female and $x_{i1} = 1$ otherwise. Consider two people $i$ and $j$ having all but one features the same with the only difference in $x_{i1} \\neq x_{j1}$.\n",
        "\n",
        "If the logistic regression model above estimates the probabilities exactly, the odds for a male will be (check it!):\n",
        "$$\n",
        "\\frac{p(y_i = 1 \\mid x_{i1}=1, x_{i2}, \\ldots, x_{ik})}{p(y_i = 0 \\mid x_{i1}=1, x_{i2}, \\ldots, x_{ik})} = \\frac{\\sigma(\\beta_1 + \\beta_2 x_{i2} + \\ldots)}{1 - \\sigma(\\beta_1 + \\beta_2 x_{i2} + \\ldots)} = \\exp(\\beta_1 + \\beta_2 x_{i2} + \\ldots)\n",
        "$$\n",
        "\n",
        "Now the ratio of the male and female odds will be:\n",
        "$$\n",
        "\\frac{\\exp(\\beta_1 \\cdot 1 + \\beta_2 x_{i2} + \\ldots)}{\\exp(\\beta_1 \\cdot 0 + \\beta_2 x_{i2} + \\ldots)} = \\exp(\\beta_1)\n",
        "$$\n",
        "\n",
        "So given the correct logistic regression model, we can estimate odds ratio for some feature (gender in this example) by just looking at the corresponding coefficient. But of course, even if all the logistic regression assumptions are met we cannot estimate the coefficient exactly from real-world data, it's just too noisy. So it would be really nice to build an interval estimate, which would tell us something along the lines \"with probability 0.95 the odds ratio is greater than 0.8 and less than 1.2, so we cannot conclude that there is any gender discrimination in the salaries\" (or vice versa, that \"with probability 0.95 the odds ratio is greater than 1.5 and less than 1.9 and the discrimination takes place because a male has at least 1.5 higher probability to get >$50k than a female with the same level of education, age, etc.\"). In Bayesian statistics, this interval estimate is called *credible interval*.\n",
        "\n",
        "Unfortunately, it's impossible to compute this credible interval analytically. So let's use MCMC for that!\n",
        "\n",
        "#### Credible interval\n",
        "A credible interval for the value of $\\exp(\\beta_1)$ is an interval $[a, b]$ such that $p(a \\leq \\exp(\\beta_1) \\leq b \\mid X_{\\text{train}}, y_{\\text{train}})$ is $0.95$ (or some other predefined value). To compute the interval, we need access to the posterior distribution $p(\\exp(\\beta_1) \\mid X_{\\text{train}}, y_{\\text{train}})$.\n",
        "\n",
        "Lets for simplicity focus on the posterior on the parameters $p(\\beta_1 \\mid X_{\\text{train}}, y_{\\text{train}})$ since if we compute it, we can always find $[a, b]$ such that $p(\\log a \\leq \\beta_1 \\leq \\log b \\mid X_{\\text{train}}, y_{\\text{train}}) = p(a \\leq \\exp(\\beta_1) \\leq b \\mid X_{\\text{train}}, y_{\\text{train}}) = 0.95$\n"
      ]
    },
    {
      "cell_type": "markdown",
      "metadata": {
        "id": "NZxyFx7JSZq-",
        "colab_type": "text"
      },
      "source": [
        "### Task 2.1 MAP inference"
      ]
    },
    {
      "cell_type": "markdown",
      "metadata": {
        "id": "EzGf7KtBSZrA",
        "colab_type": "text"
      },
      "source": [
        "Let's read the dataset. This is a post-processed version of the [UCI Adult dataset](http://archive.ics.uci.edu/ml/datasets/Adult)."
      ]
    },
    {
      "cell_type": "code",
      "metadata": {
        "id": "OPlRTvLDSZrD",
        "colab_type": "code",
        "outputId": "0b6516cf-4fc2-4036-9129-0c06bcbc0afa",
        "colab": {
          "base_uri": "https://localhost:8080/",
          "height": 206
        }
      },
      "source": [
        "data = pd.read_csv(\"adult_us_postprocessed.csv\")\n",
        "data['age_2'] = data['age'] ** 2\n",
        "data.head()"
      ],
      "execution_count": 32,
      "outputs": [
        {
          "output_type": "execute_result",
          "data": {
            "text/html": [
              "<div>\n",
              "<style scoped>\n",
              "    .dataframe tbody tr th:only-of-type {\n",
              "        vertical-align: middle;\n",
              "    }\n",
              "\n",
              "    .dataframe tbody tr th {\n",
              "        vertical-align: top;\n",
              "    }\n",
              "\n",
              "    .dataframe thead th {\n",
              "        text-align: right;\n",
              "    }\n",
              "</style>\n",
              "<table border=\"1\" class=\"dataframe\">\n",
              "  <thead>\n",
              "    <tr style=\"text-align: right;\">\n",
              "      <th></th>\n",
              "      <th>sex</th>\n",
              "      <th>age</th>\n",
              "      <th>educ</th>\n",
              "      <th>hours</th>\n",
              "      <th>income_more_50K</th>\n",
              "      <th>age_2</th>\n",
              "    </tr>\n",
              "  </thead>\n",
              "  <tbody>\n",
              "    <tr>\n",
              "      <th>0</th>\n",
              "      <td>Male</td>\n",
              "      <td>39</td>\n",
              "      <td>13</td>\n",
              "      <td>40</td>\n",
              "      <td>0</td>\n",
              "      <td>1521</td>\n",
              "    </tr>\n",
              "    <tr>\n",
              "      <th>1</th>\n",
              "      <td>Male</td>\n",
              "      <td>50</td>\n",
              "      <td>13</td>\n",
              "      <td>13</td>\n",
              "      <td>0</td>\n",
              "      <td>2500</td>\n",
              "    </tr>\n",
              "    <tr>\n",
              "      <th>2</th>\n",
              "      <td>Male</td>\n",
              "      <td>38</td>\n",
              "      <td>9</td>\n",
              "      <td>40</td>\n",
              "      <td>0</td>\n",
              "      <td>1444</td>\n",
              "    </tr>\n",
              "    <tr>\n",
              "      <th>3</th>\n",
              "      <td>Male</td>\n",
              "      <td>53</td>\n",
              "      <td>7</td>\n",
              "      <td>40</td>\n",
              "      <td>0</td>\n",
              "      <td>2809</td>\n",
              "    </tr>\n",
              "    <tr>\n",
              "      <th>4</th>\n",
              "      <td>Female</td>\n",
              "      <td>28</td>\n",
              "      <td>13</td>\n",
              "      <td>40</td>\n",
              "      <td>0</td>\n",
              "      <td>784</td>\n",
              "    </tr>\n",
              "  </tbody>\n",
              "</table>\n",
              "</div>"
            ],
            "text/plain": [
              "       sex  age  educ  hours  income_more_50K  age_2\n",
              "0     Male   39    13     40                0   1521\n",
              "1     Male   50    13     13                0   2500\n",
              "2     Male   38     9     40                0   1444\n",
              "3     Male   53     7     40                0   2809\n",
              "4   Female   28    13     40                0    784"
            ]
          },
          "metadata": {
            "tags": []
          },
          "execution_count": 32
        }
      ]
    },
    {
      "cell_type": "markdown",
      "metadata": {
        "id": "xCAP4k47SZrP",
        "colab_type": "text"
      },
      "source": [
        "Each row of the dataset is a person with his (her) features. The last column is the target variable $y$. One indicates that this person's annual salary is more than $50K.\n",
        "\n",
        "First of all let's set up a Bayesian logistic regression model (i.e. define priors on the parameters $\\alpha$ and $\\beta$ of the model) that predicts the value of \"income_more_50K\" based on person's age and education:\n",
        "\n",
        "$$\n",
        "p(y = 1 \\mid \\alpha, \\beta_1, \\beta_2) = \\sigma(\\alpha + \\beta_1 x_1 + \\beta_2 x_2) \\\\ \n",
        "\\alpha \\sim N(0, 100^2) \\\\\n",
        "\\beta_1 \\sim N(0, 100^2) \\\\\n",
        "\\beta_2 \\sim N(0, 100^2), \\\\\n",
        "$$\n",
        "\n",
        "where $x_1$ is a person's age, $x_2$ is his/her level of education, y indicates his/her level of income, $\\alpha$, $\\beta_1$ and $\\beta_2$ are paramters of the model."
      ]
    },
    {
      "cell_type": "code",
      "metadata": {
        "id": "rThxndjjSZrQ",
        "colab_type": "code",
        "colab": {
          "base_uri": "https://localhost:8080/",
          "height": 55
        },
        "outputId": "417c3571-2acf-4165-8946-2399b3041e2e"
      },
      "source": [
        "with pm.Model() as manual_logistic_model:\n",
        "    # Declare pymc random variables for logistic regression coefficients with uninformative \n",
        "    # prior distributions N(0, 100^2) on each weight using pm.Normal. \n",
        "    # Don't forget to give each variable a unique name.\n",
        "    \n",
        "    #### YOUR CODE HERE ####\n",
        "    alpha = pm.Normal(\"alpha\", mu=0, sigma=100)\n",
        "    b_1 = pm.Normal(\"beta_1\", mu=0, sigma=100)\n",
        "    b_2 = pm.Normal(\"beta_2\", mu=0, sigma=100)\n",
        "    ### END OF YOUR CODE ###\n",
        "    \n",
        "    # Thansform these random variables into vector of probabilities p(y_i=1) using logistic regression model specified \n",
        "    # above. PyMC random variables are theano shared variables and support simple mathematical operations.\n",
        "    # For example:\n",
        "    # z = pm.Normal('x', 0, 1) * np.array([1, 2, 3]) + pm.Normal('y', 0, 1) * np.array([4, 5, 6])`\n",
        "    # is a correct PyMC expression.\n",
        "    # Use pm.invlogit for the sigmoid function.\n",
        "    #### YOUR CODE HERE ####\n",
        "    z = pm.invlogit(alpha + b_1 * data['age'].to_numpy() + b_2 * data['hours'].to_numpy())\n",
        "    ### END OF YOUR CODE ###\n",
        "    \n",
        "    # Declare PyMC Bernoulli random vector with probability of success equal to the corresponding value\n",
        "    # given by the sigmoid function.\n",
        "    # Supply target vector using \"observed\" argument in the constructor.\n",
        "\n",
        "    #### YOUR CODE HERE ####\n",
        "    target = pm.Bernoulli(\"target\", p=z, observed=data['income_more_50K'].to_numpy())\n",
        "    ### END OF YOUR CODE ###\n",
        "    \n",
        "    # Use pm.find_MAP() to find the maximum a-posteriori estimate for the vector of logistic regression weights.\n",
        "    map_estimate = pm.find_MAP()\n",
        "    print(map_estimate)\n",
        "\n"
      ],
      "execution_count": 5,
      "outputs": [
        {
          "output_type": "stream",
          "text": [
            "logp = -16,227, ||grad|| = 0.22551: 100%|██████████| 32/32 [00:00<00:00, 120.15it/s]  \n"
          ],
          "name": "stderr"
        },
        {
          "output_type": "stream",
          "text": [
            "{'alpha': array(-4.91339769), 'beta_1': array(0.04314634), 'beta_2': array(0.04783618)}\n"
          ],
          "name": "stdout"
        }
      ]
    },
    {
      "cell_type": "markdown",
      "metadata": {
        "id": "lnpFkvazSZrh",
        "colab_type": "text"
      },
      "source": [
        "Sumbit MAP estimations of corresponding coefficients:"
      ]
    },
    {
      "cell_type": "code",
      "metadata": {
        "id": "U_AVM7gcSZrk",
        "colab_type": "code",
        "outputId": "a7bb6596-153e-402f-924f-7bac50b346bc",
        "colab": {
          "base_uri": "https://localhost:8080/",
          "height": 115
        }
      },
      "source": [
        "with pm.Model() as logistic_model:\n",
        "    # There's a simpler interface for generalized linear models in pymc3. \n",
        "    # Try to train the same model using pm.glm.GLM.from_formula.\n",
        "    # Do not forget to specify that the target variable is binary (and hence follows Binomial distribution).\n",
        "    \n",
        "    #### YOUR CODE HERE ####\n",
        "    pm.glm.GLM.from_formula('income_more_50K ~ age + educ', data, family=pm.glm.families.Binomial())\n",
        "    ### END OF YOUR CODE ###\n",
        "    map_estimate = pm.find_MAP()\n",
        "    print(map_estimate)"
      ],
      "execution_count": 0,
      "outputs": [
        {
          "output_type": "stream",
          "text": [
            "WARNING (theano.tensor.blas): We did not find a dynamic library in the library_dir of the library we use for blas. If you use ATLAS, make sure to compile it with dynamics library.\n",
            "WARNING (theano.tensor.blas): We did not find a dynamic library in the library_dir of the library we use for blas. If you use ATLAS, make sure to compile it with dynamics library.\n",
            "logp = -15,131, ||grad|| = 0.024014: 100%|██████████| 32/32 [00:00<00:00, 135.70it/s]  \n"
          ],
          "name": "stderr"
        },
        {
          "output_type": "stream",
          "text": [
            "{'Intercept': array(-6.7480998), 'age': array(0.04348259), 'educ': array(0.36210894)}\n"
          ],
          "name": "stdout"
        }
      ]
    },
    {
      "cell_type": "code",
      "metadata": {
        "scrolled": true,
        "id": "qKlRMFX6SZr4",
        "colab_type": "code",
        "outputId": "9e654ee2-da0f-4545-8d33-c8c2122a73aa",
        "colab": {
          "base_uri": "https://localhost:8080/",
          "height": 55
        }
      },
      "source": [
        "beta_age_coefficient = 0.04348259### TYPE MAP ESTIMATE OF THE AGE COEFFICIENT HERE ###\n",
        "beta_education_coefficient = 0.36210894### TYPE MAP ESTIMATE OF THE EDUCATION COEFFICIENT HERE ###\n",
        "grader.submit_pymc_map_estimates(beta_age_coefficient, beta_education_coefficient)"
      ],
      "execution_count": 23,
      "outputs": [
        {
          "output_type": "stream",
          "text": [
            "Current answer for task 2.1 (MAP for age coef) is: 0.04348259\n",
            "Current answer for task 2.1 (MAP for aducation coef) is: 0.36210894\n"
          ],
          "name": "stdout"
        }
      ]
    },
    {
      "cell_type": "markdown",
      "metadata": {
        "id": "gYrSiG3eSZsL",
        "colab_type": "text"
      },
      "source": [
        "### Task 2.2 MCMC"
      ]
    },
    {
      "cell_type": "markdown",
      "metadata": {
        "id": "Eu8EqbalSZsN",
        "colab_type": "text"
      },
      "source": [
        "To find credible regions let's perform MCMC inference."
      ]
    },
    {
      "cell_type": "code",
      "metadata": {
        "id": "FaBDRDltSZsv",
        "colab_type": "code",
        "colab": {}
      },
      "source": [
        "# You will need the following function to visualize the sampling process.\n",
        "# You don't need to change it.\n",
        "def plot_traces(traces, burnin=200):\n",
        "    ''' \n",
        "    Convenience function:\n",
        "    Plot traces with overlaid means and values\n",
        "    '''\n",
        "    \n",
        "    ax = pm.traceplot(traces[burnin:], figsize=(12,len(traces.varnames)*1.5),\n",
        "        lines={k: v['mean'] for k, v in pm.summary(traces[burnin:]).iterrows()})\n",
        "\n",
        "    for i, mn in enumerate(pm.summary(traces[burnin:])['mean']):\n",
        "        ax[i,0].annotate('{:.2f}'.format(mn), xy=(mn,0), xycoords='data'\n",
        "                    ,xytext=(5,10), textcoords='offset points', rotation=90\n",
        "                    ,va='bottom', fontsize='large', color='#AA0022')"
      ],
      "execution_count": 0,
      "outputs": []
    },
    {
      "cell_type": "markdown",
      "metadata": {
        "id": "0X2eMO7vSZs7",
        "colab_type": "text"
      },
      "source": [
        "#### Metropolis-Hastings\n",
        "Let's use the Metropolis-Hastings algorithm for finding the samples from the posterior distribution.\n",
        "\n",
        "Once you wrote the code, explore the hyperparameters of Metropolis-Hastings such as the proposal distribution variance to speed up the convergence. You can use `plot_traces` function in the next cell to visually inspect the convergence.\n",
        "\n",
        "You may also use MAP-estimate to initialize the sampling scheme to speed things up. This will make the warmup (burn-in) period shorter since you will start from a probable point."
      ]
    },
    {
      "cell_type": "code",
      "metadata": {
        "id": "nozFfKqZSZs-",
        "colab_type": "code",
        "outputId": "1c2dfceb-3baa-4d81-9b93-ae293c485a51",
        "colab": {
          "base_uri": "https://localhost:8080/",
          "height": 280
        }
      },
      "source": [
        "with pm.Model() as logistic_model:\n",
        "    # Since it is unlikely that the dependency between the age and salary is linear, we will include age squared\n",
        "    # into features so that we can model dependency that favors certain ages.\n",
        "    # Train Bayesian logistic regression model on the following features: sex, age, age^2, educ, hours\n",
        "    # Use pm.sample to run MCMC to train this model.\n",
        "    # To specify the particular sampler method (Metropolis-Hastings) to pm.sample,\n",
        "    # use `pm.Metropolis`.\n",
        "    # Train your model for 400 samples.\n",
        "    # Save the output of pm.sample to a variable: this is the trace of the sampling procedure and will be used\n",
        "    # to estimate the statistics of the posterior distribution.\n",
        "    #### YOUR CODE HERE ####\n",
        "    pm.glm.GLM.from_formula(\"income_more_50K ~ sex + age + age_2 + educ + hours\",\n",
        "                                data, family=pm.glm.families.Binomial())\n",
        "    max_aposteriori = pm.find_MAP()\n",
        "    trace = pm.sample(400, step=pm.Metropolis(), start=max_aposteriori)\n",
        "    ### END OF YOUR CODE ###"
      ],
      "execution_count": 6,
      "outputs": [
        {
          "output_type": "stream",
          "text": [
            "WARNING (theano.tensor.blas): We did not find a dynamic library in the library_dir of the library we use for blas. If you use ATLAS, make sure to compile it with dynamics library.\n",
            "WARNING (theano.tensor.blas): We did not find a dynamic library in the library_dir of the library we use for blas. If you use ATLAS, make sure to compile it with dynamics library.\n",
            "logp = -22,609, ||grad|| = 1.1051e+07: 100%|██████████| 8/8 [00:00<00:00, 165.47it/s]\n",
            "Only 400 samples in chain.\n",
            "Sequential sampling (2 chains in 1 job)\n",
            "CompoundStep\n",
            ">Metropolis: [hours]\n",
            ">Metropolis: [educ]\n",
            ">Metropolis: [age_2]\n",
            ">Metropolis: [age]\n",
            ">Metropolis: [sex[T. Male]]\n",
            ">Metropolis: [Intercept]\n",
            "Sampling chain 0, 0 divergences: 100%|██████████| 900/900 [00:11<00:00, 76.88it/s]\n",
            "Sampling chain 1, 0 divergences: 100%|██████████| 900/900 [00:11<00:00, 78.08it/s]\n"
          ],
          "name": "stderr"
        }
      ]
    },
    {
      "cell_type": "code",
      "metadata": {
        "id": "SxID3Dp3SZtF",
        "colab_type": "code",
        "outputId": "b80945d9-f3d2-4fd5-c974-217fa196fd79",
        "colab": {
          "base_uri": "https://localhost:8080/",
          "height": 731
        }
      },
      "source": [
        "plot_traces(trace)"
      ],
      "execution_count": 8,
      "outputs": [
        {
          "output_type": "stream",
          "text": [
            "/usr/local/lib/python3.6/dist-packages/arviz/plots/backends/matplotlib/traceplot.py:143: UserWarning: A valid var_name should be provided, found {'e', 'I', 'h', 's', 'a'} expected from {'Intercept', 'age', 'educ', 'age_2', 'hours', 'sex[T. Male]'}\n",
            "  invalid_var_names, all_var_names\n"
          ],
          "name": "stderr"
        },
        {
          "output_type": "display_data",
          "data": {
            "image/png": "[encoded data removed]",
            "text/plain": [
              "<Figure size 864x648 with 12 Axes>"
            ]
          },
          "metadata": {
            "tags": [],
            "needs_background": "light"
          }
        }
      ]
    },
    {
      "cell_type": "markdown",
      "metadata": {
        "id": "P8kEp4LUSZtN",
        "colab_type": "text"
      },
      "source": [
        "#### NUTS sampler\n",
        "Use pm.sample without specifying a particular sampling method (pymc3 will choose it automatically).\n",
        "The sampling algorithm that will be used in this case is NUTS, which is a form of Hamiltonian Monte Carlo, in which parameters are tuned automatically. This is an advanced method that we hadn't cover in the lectures, but it usually converges faster and gives less correlated samples compared to vanilla Metropolis-Hastings."
      ]
    },
    {
      "cell_type": "code",
      "metadata": {
        "id": "7g92AA0GSZtO",
        "colab_type": "code",
        "outputId": "8e801ba8-790f-4d91-aef6-8af33f38e7f9",
        "colab": {
          "base_uri": "https://localhost:8080/",
          "height": 130
        }
      },
      "source": [
        "with pm.Model() as logistic_model:\n",
        "    # Train Bayesian logistic regression model on the following features: sex, age, age_squared, educ, hours\n",
        "    # Use pm.sample to run MCMC to train this model.\n",
        "    # Train your model for 400 samples.\n",
        "    # Training can take a while, so relax and wait :)\n",
        "    \n",
        "    #### YOUR CODE HERE ####\n",
        "    pm.glm.GLM.from_formula(\"income_more_50K ~ sex + age + age_2 + educ + hours\",\n",
        "                            data, family=pm.glm.families.Binomial())\n",
        "    trace = pm.sample(400, cores=2, step=pm.NUTS())\n",
        "    ### END OF YOUR CODE ###"
      ],
      "execution_count": 7,
      "outputs": [
        {
          "output_type": "stream",
          "text": [
            "Only 400 samples in chain.\n",
            "Multiprocess sampling (2 chains in 2 jobs)\n",
            "NUTS: [hours, educ, age_2, age, sex[T. Male], Intercept]\n",
            "Sampling 2 chains, 0 divergences: 100%|██████████| 1800/1800 [33:44<00:00,  1.12s/draws]\n",
            "The acceptance probability does not match the target. It is 0.9890261214451856, but should be close to 0.8. Try to increase the number of tuning steps.\n",
            "The acceptance probability does not match the target. It is 0.9856715171963429, but should be close to 0.8. Try to increase the number of tuning steps.\n"
          ],
          "name": "stderr"
        }
      ]
    },
    {
      "cell_type": "code",
      "metadata": {
        "id": "MfNGe7wzSZtU",
        "colab_type": "code",
        "colab": {
          "base_uri": "https://localhost:8080/",
          "height": 731
        },
        "outputId": "dbc91827-d1d4-4ea3-e28a-95a76366c4fe"
      },
      "source": [
        "plot_traces(trace)"
      ],
      "execution_count": 8,
      "outputs": [
        {
          "output_type": "stream",
          "text": [
            "/usr/local/lib/python3.6/dist-packages/arviz/plots/backends/matplotlib/traceplot.py:143: UserWarning: A valid var_name should be provided, found {'e', 'a', 'I', 's', 'h'} expected from {'hours', 'sex[T. Male]', 'educ', 'age_2', 'age', 'Intercept'}\n",
            "  invalid_var_names, all_var_names\n"
          ],
          "name": "stderr"
        },
        {
          "output_type": "display_data",
          "data": {
            "image/png": "[encoded data removed]",
            "text/plain": [
              "<Figure size 864x648 with 12 Axes>"
            ]
          },
          "metadata": {
            "tags": [],
            "needs_background": "light"
          }
        }
      ]
    },
    {
      "cell_type": "markdown",
      "metadata": {
        "id": "sxVAvf6nSZtb",
        "colab_type": "text"
      },
      "source": [
        "#### Estimating the odds ratio\n",
        "Now, let's build the posterior distribution on the odds ratio given the dataset (approximated by MCMC)."
      ]
    },
    {
      "cell_type": "code",
      "metadata": {
        "id": "__ImksxcSZtd",
        "colab_type": "code",
        "colab": {
          "base_uri": "https://localhost:8080/",
          "height": 655
        },
        "outputId": "98aaad43-3875-4ff5-d6dc-ba9755083676"
      },
      "source": [
        "# We don't need to use a large burn-in here, since we initialize sampling\n",
        "# from a good point (from our approximation of the most probable\n",
        "# point (MAP) to be more precise).\n",
        "burnin = 100\n",
        "b = trace['sex[T. Male]'][burnin:]\n",
        "plt.hist(np.exp(b), bins=20, normed=True)\n",
        "plt.xlabel(\"Odds Ratio\")\n",
        "plt.show()"
      ],
      "execution_count": 13,
      "outputs": [
        {
          "output_type": "error",
          "ename": "AttributeError",
          "evalue": "ignored",
          "traceback": [
            "\u001b[0;31m---------------------------------------------------------------------------\u001b[0m",
            "\u001b[0;31mAttributeError\u001b[0m                            Traceback (most recent call last)",
            "\u001b[0;32m<ipython-input-13-db4a2fb28fa6>\u001b[0m in \u001b[0;36m<module>\u001b[0;34m()\u001b[0m\n\u001b[1;32m      1\u001b[0m \u001b[0mburnin\u001b[0m \u001b[0;34m=\u001b[0m \u001b[0;36m100\u001b[0m\u001b[0;34m\u001b[0m\u001b[0;34m\u001b[0m\u001b[0m\n\u001b[1;32m      2\u001b[0m \u001b[0mb\u001b[0m \u001b[0;34m=\u001b[0m \u001b[0mtrace\u001b[0m\u001b[0;34m[\u001b[0m\u001b[0;34m'sex[T. Male]'\u001b[0m\u001b[0;34m]\u001b[0m\u001b[0;34m[\u001b[0m\u001b[0mburnin\u001b[0m\u001b[0;34m:\u001b[0m\u001b[0;34m]\u001b[0m\u001b[0;34m\u001b[0m\u001b[0;34m\u001b[0m\u001b[0m\n\u001b[0;32m----> 3\u001b[0;31m \u001b[0mplt\u001b[0m\u001b[0;34m.\u001b[0m\u001b[0mhist\u001b[0m\u001b[0;34m(\u001b[0m\u001b[0mnp\u001b[0m\u001b[0;34m.\u001b[0m\u001b[0mexp\u001b[0m\u001b[0;34m(\u001b[0m\u001b[0mb\u001b[0m\u001b[0;34m)\u001b[0m\u001b[0;34m,\u001b[0m \u001b[0mbins\u001b[0m\u001b[0;34m=\u001b[0m\u001b[0;36m20\u001b[0m\u001b[0;34m,\u001b[0m \u001b[0mnormed\u001b[0m\u001b[0;34m=\u001b[0m\u001b[0;32mTrue\u001b[0m\u001b[0;34m)\u001b[0m\u001b[0;34m\u001b[0m\u001b[0;34m\u001b[0m\u001b[0m\n\u001b[0m\u001b[1;32m      4\u001b[0m \u001b[0mplt\u001b[0m\u001b[0;34m.\u001b[0m\u001b[0mxlabel\u001b[0m\u001b[0;34m(\u001b[0m\u001b[0;34m\"Odds Ratio\"\u001b[0m\u001b[0;34m)\u001b[0m\u001b[0;34m\u001b[0m\u001b[0;34m\u001b[0m\u001b[0m\n\u001b[1;32m      5\u001b[0m \u001b[0mplt\u001b[0m\u001b[0;34m.\u001b[0m\u001b[0mshow\u001b[0m\u001b[0;34m(\u001b[0m\u001b[0;34m)\u001b[0m\u001b[0;34m\u001b[0m\u001b[0;34m\u001b[0m\u001b[0m\n",
            "\u001b[0;32m/usr/local/lib/python3.6/dist-packages/matplotlib/pyplot.py\u001b[0m in \u001b[0;36mhist\u001b[0;34m(x, bins, range, density, weights, cumulative, bottom, histtype, align, orientation, rwidth, log, color, label, stacked, data, **kwargs)\u001b[0m\n\u001b[1;32m   2608\u001b[0m         \u001b[0malign\u001b[0m\u001b[0;34m=\u001b[0m\u001b[0malign\u001b[0m\u001b[0;34m,\u001b[0m \u001b[0morientation\u001b[0m\u001b[0;34m=\u001b[0m\u001b[0morientation\u001b[0m\u001b[0;34m,\u001b[0m \u001b[0mrwidth\u001b[0m\u001b[0;34m=\u001b[0m\u001b[0mrwidth\u001b[0m\u001b[0;34m,\u001b[0m \u001b[0mlog\u001b[0m\u001b[0;34m=\u001b[0m\u001b[0mlog\u001b[0m\u001b[0;34m,\u001b[0m\u001b[0;34m\u001b[0m\u001b[0;34m\u001b[0m\u001b[0m\n\u001b[1;32m   2609\u001b[0m         color=color, label=label, stacked=stacked, **({\"data\": data}\n\u001b[0;32m-> 2610\u001b[0;31m         if data is not None else {}), **kwargs)\n\u001b[0m\u001b[1;32m   2611\u001b[0m \u001b[0;34m\u001b[0m\u001b[0m\n\u001b[1;32m   2612\u001b[0m \u001b[0;34m\u001b[0m\u001b[0m\n",
            "\u001b[0;32m/usr/local/lib/python3.6/dist-packages/matplotlib/__init__.py\u001b[0m in \u001b[0;36minner\u001b[0;34m(ax, data, *args, **kwargs)\u001b[0m\n\u001b[1;32m   1563\u001b[0m     \u001b[0;32mdef\u001b[0m \u001b[0minner\u001b[0m\u001b[0;34m(\u001b[0m\u001b[0max\u001b[0m\u001b[0;34m,\u001b[0m \u001b[0;34m*\u001b[0m\u001b[0margs\u001b[0m\u001b[0;34m,\u001b[0m \u001b[0mdata\u001b[0m\u001b[0;34m=\u001b[0m\u001b[0;32mNone\u001b[0m\u001b[0;34m,\u001b[0m \u001b[0;34m**\u001b[0m\u001b[0mkwargs\u001b[0m\u001b[0;34m)\u001b[0m\u001b[0;34m:\u001b[0m\u001b[0;34m\u001b[0m\u001b[0;34m\u001b[0m\u001b[0m\n\u001b[1;32m   1564\u001b[0m         \u001b[0;32mif\u001b[0m \u001b[0mdata\u001b[0m \u001b[0;32mis\u001b[0m \u001b[0;32mNone\u001b[0m\u001b[0;34m:\u001b[0m\u001b[0;34m\u001b[0m\u001b[0;34m\u001b[0m\u001b[0m\n\u001b[0;32m-> 1565\u001b[0;31m             \u001b[0;32mreturn\u001b[0m \u001b[0mfunc\u001b[0m\u001b[0;34m(\u001b[0m\u001b[0max\u001b[0m\u001b[0;34m,\u001b[0m \u001b[0;34m*\u001b[0m\u001b[0mmap\u001b[0m\u001b[0;34m(\u001b[0m\u001b[0msanitize_sequence\u001b[0m\u001b[0;34m,\u001b[0m \u001b[0margs\u001b[0m\u001b[0;34m)\u001b[0m\u001b[0;34m,\u001b[0m \u001b[0;34m**\u001b[0m\u001b[0mkwargs\u001b[0m\u001b[0;34m)\u001b[0m\u001b[0;34m\u001b[0m\u001b[0;34m\u001b[0m\u001b[0m\n\u001b[0m\u001b[1;32m   1566\u001b[0m \u001b[0;34m\u001b[0m\u001b[0m\n\u001b[1;32m   1567\u001b[0m         \u001b[0mbound\u001b[0m \u001b[0;34m=\u001b[0m \u001b[0mnew_sig\u001b[0m\u001b[0;34m.\u001b[0m\u001b[0mbind\u001b[0m\u001b[0;34m(\u001b[0m\u001b[0max\u001b[0m\u001b[0;34m,\u001b[0m \u001b[0;34m*\u001b[0m\u001b[0margs\u001b[0m\u001b[0;34m,\u001b[0m \u001b[0;34m**\u001b[0m\u001b[0mkwargs\u001b[0m\u001b[0;34m)\u001b[0m\u001b[0;34m\u001b[0m\u001b[0;34m\u001b[0m\u001b[0m\n",
            "\u001b[0;32m/usr/local/lib/python3.6/dist-packages/matplotlib/axes/_axes.py\u001b[0m in \u001b[0;36mhist\u001b[0;34m(self, x, bins, range, density, weights, cumulative, bottom, histtype, align, orientation, rwidth, log, color, label, stacked, **kwargs)\u001b[0m\n\u001b[1;32m   6806\u001b[0m             \u001b[0;32mif\u001b[0m \u001b[0mpatch\u001b[0m\u001b[0;34m:\u001b[0m\u001b[0;34m\u001b[0m\u001b[0;34m\u001b[0m\u001b[0m\n\u001b[1;32m   6807\u001b[0m                 \u001b[0mp\u001b[0m \u001b[0;34m=\u001b[0m \u001b[0mpatch\u001b[0m\u001b[0;34m[\u001b[0m\u001b[0;36m0\u001b[0m\u001b[0;34m]\u001b[0m\u001b[0;34m\u001b[0m\u001b[0;34m\u001b[0m\u001b[0m\n\u001b[0;32m-> 6808\u001b[0;31m                 \u001b[0mp\u001b[0m\u001b[0;34m.\u001b[0m\u001b[0mupdate\u001b[0m\u001b[0;34m(\u001b[0m\u001b[0mkwargs\u001b[0m\u001b[0;34m)\u001b[0m\u001b[0;34m\u001b[0m\u001b[0;34m\u001b[0m\u001b[0m\n\u001b[0m\u001b[1;32m   6809\u001b[0m                 \u001b[0;32mif\u001b[0m \u001b[0mlbl\u001b[0m \u001b[0;32mis\u001b[0m \u001b[0;32mnot\u001b[0m \u001b[0;32mNone\u001b[0m\u001b[0;34m:\u001b[0m\u001b[0;34m\u001b[0m\u001b[0;34m\u001b[0m\u001b[0m\n\u001b[1;32m   6810\u001b[0m                     \u001b[0mp\u001b[0m\u001b[0;34m.\u001b[0m\u001b[0mset_label\u001b[0m\u001b[0;34m(\u001b[0m\u001b[0mlbl\u001b[0m\u001b[0;34m)\u001b[0m\u001b[0;34m\u001b[0m\u001b[0;34m\u001b[0m\u001b[0m\n",
            "\u001b[0;32m/usr/local/lib/python3.6/dist-packages/matplotlib/artist.py\u001b[0m in \u001b[0;36mupdate\u001b[0;34m(self, props)\u001b[0m\n\u001b[1;32m   1004\u001b[0m \u001b[0;34m\u001b[0m\u001b[0m\n\u001b[1;32m   1005\u001b[0m         \u001b[0;32mwith\u001b[0m \u001b[0mcbook\u001b[0m\u001b[0;34m.\u001b[0m\u001b[0m_setattr_cm\u001b[0m\u001b[0;34m(\u001b[0m\u001b[0mself\u001b[0m\u001b[0;34m,\u001b[0m \u001b[0meventson\u001b[0m\u001b[0;34m=\u001b[0m\u001b[0;32mFalse\u001b[0m\u001b[0;34m)\u001b[0m\u001b[0;34m:\u001b[0m\u001b[0;34m\u001b[0m\u001b[0;34m\u001b[0m\u001b[0m\n\u001b[0;32m-> 1006\u001b[0;31m             \u001b[0mret\u001b[0m \u001b[0;34m=\u001b[0m \u001b[0;34m[\u001b[0m\u001b[0m_update_property\u001b[0m\u001b[0;34m(\u001b[0m\u001b[0mself\u001b[0m\u001b[0;34m,\u001b[0m \u001b[0mk\u001b[0m\u001b[0;34m,\u001b[0m \u001b[0mv\u001b[0m\u001b[0;34m)\u001b[0m \u001b[0;32mfor\u001b[0m \u001b[0mk\u001b[0m\u001b[0;34m,\u001b[0m \u001b[0mv\u001b[0m \u001b[0;32min\u001b[0m \u001b[0mprops\u001b[0m\u001b[0;34m.\u001b[0m\u001b[0mitems\u001b[0m\u001b[0;34m(\u001b[0m\u001b[0;34m)\u001b[0m\u001b[0;34m]\u001b[0m\u001b[0;34m\u001b[0m\u001b[0;34m\u001b[0m\u001b[0m\n\u001b[0m\u001b[1;32m   1007\u001b[0m \u001b[0;34m\u001b[0m\u001b[0m\n\u001b[1;32m   1008\u001b[0m         \u001b[0;32mif\u001b[0m \u001b[0mlen\u001b[0m\u001b[0;34m(\u001b[0m\u001b[0mret\u001b[0m\u001b[0;34m)\u001b[0m\u001b[0;34m:\u001b[0m\u001b[0;34m\u001b[0m\u001b[0;34m\u001b[0m\u001b[0m\n",
            "\u001b[0;32m/usr/local/lib/python3.6/dist-packages/matplotlib/artist.py\u001b[0m in \u001b[0;36m<listcomp>\u001b[0;34m(.0)\u001b[0m\n\u001b[1;32m   1004\u001b[0m \u001b[0;34m\u001b[0m\u001b[0m\n\u001b[1;32m   1005\u001b[0m         \u001b[0;32mwith\u001b[0m \u001b[0mcbook\u001b[0m\u001b[0;34m.\u001b[0m\u001b[0m_setattr_cm\u001b[0m\u001b[0;34m(\u001b[0m\u001b[0mself\u001b[0m\u001b[0;34m,\u001b[0m \u001b[0meventson\u001b[0m\u001b[0;34m=\u001b[0m\u001b[0;32mFalse\u001b[0m\u001b[0;34m)\u001b[0m\u001b[0;34m:\u001b[0m\u001b[0;34m\u001b[0m\u001b[0;34m\u001b[0m\u001b[0m\n\u001b[0;32m-> 1006\u001b[0;31m             \u001b[0mret\u001b[0m \u001b[0;34m=\u001b[0m \u001b[0;34m[\u001b[0m\u001b[0m_update_property\u001b[0m\u001b[0;34m(\u001b[0m\u001b[0mself\u001b[0m\u001b[0;34m,\u001b[0m \u001b[0mk\u001b[0m\u001b[0;34m,\u001b[0m \u001b[0mv\u001b[0m\u001b[0;34m)\u001b[0m \u001b[0;32mfor\u001b[0m \u001b[0mk\u001b[0m\u001b[0;34m,\u001b[0m \u001b[0mv\u001b[0m \u001b[0;32min\u001b[0m \u001b[0mprops\u001b[0m\u001b[0;34m.\u001b[0m\u001b[0mitems\u001b[0m\u001b[0;34m(\u001b[0m\u001b[0;34m)\u001b[0m\u001b[0;34m]\u001b[0m\u001b[0;34m\u001b[0m\u001b[0;34m\u001b[0m\u001b[0m\n\u001b[0m\u001b[1;32m   1007\u001b[0m \u001b[0;34m\u001b[0m\u001b[0m\n\u001b[1;32m   1008\u001b[0m         \u001b[0;32mif\u001b[0m \u001b[0mlen\u001b[0m\u001b[0;34m(\u001b[0m\u001b[0mret\u001b[0m\u001b[0;34m)\u001b[0m\u001b[0;34m:\u001b[0m\u001b[0;34m\u001b[0m\u001b[0;34m\u001b[0m\u001b[0m\n",
            "\u001b[0;32m/usr/local/lib/python3.6/dist-packages/matplotlib/artist.py\u001b[0m in \u001b[0;36m_update_property\u001b[0;34m(self, k, v)\u001b[0m\n\u001b[1;32m   1000\u001b[0m                 \u001b[0;32mif\u001b[0m \u001b[0;32mnot\u001b[0m \u001b[0mcallable\u001b[0m\u001b[0;34m(\u001b[0m\u001b[0mfunc\u001b[0m\u001b[0;34m)\u001b[0m\u001b[0;34m:\u001b[0m\u001b[0;34m\u001b[0m\u001b[0;34m\u001b[0m\u001b[0m\n\u001b[1;32m   1001\u001b[0m                     raise AttributeError('{!r} object has no property {!r}'\n\u001b[0;32m-> 1002\u001b[0;31m                                          .format(type(self).__name__, k))\n\u001b[0m\u001b[1;32m   1003\u001b[0m                 \u001b[0;32mreturn\u001b[0m \u001b[0mfunc\u001b[0m\u001b[0;34m(\u001b[0m\u001b[0mv\u001b[0m\u001b[0;34m)\u001b[0m\u001b[0;34m\u001b[0m\u001b[0;34m\u001b[0m\u001b[0m\n\u001b[1;32m   1004\u001b[0m \u001b[0;34m\u001b[0m\u001b[0m\n",
            "\u001b[0;31mAttributeError\u001b[0m: 'Rectangle' object has no property 'normed'"
          ]
        },
        {
          "output_type": "display_data",
          "data": {
            "image/png": "[encoded data removed]",
            "text/plain": [
              "<Figure size 432x288 with 1 Axes>"
            ]
          },
          "metadata": {
            "tags": [],
            "needs_background": "light"
          }
        }
      ]
    },
    {
      "cell_type": "markdown",
      "metadata": {
        "id": "IkjL5Q37SZtl",
        "colab_type": "text"
      },
      "source": [
        "\n",
        "Finally, we can find a credible interval  (recall that credible intervals are Bayesian and confidence intervals are frequentist) for this quantity. This may be the best part about Bayesian statistics: we get to interpret credibility intervals the way we've always wanted to interpret them. We are 95% confident that the odds ratio lies within our interval!"
      ]
    },
    {
      "cell_type": "code",
      "metadata": {
        "id": "G_Qiy9leSZtm",
        "colab_type": "code",
        "colab": {
          "base_uri": "https://localhost:8080/",
          "height": 36
        },
        "outputId": "bb0732de-ab7b-4dff-fba8-4095ecb397bb"
      },
      "source": [
        "lb, ub = np.percentile(b, 2.5), np.percentile(b, 97.5)\n",
        "print(\"P(%.3f < Odds Ratio < %.3f) = 0.95\" % (np.exp(lb), np.exp(ub)))"
      ],
      "execution_count": 10,
      "outputs": [
        {
          "output_type": "stream",
          "text": [
            "P(2.979 < Odds Ratio < 3.492) = 0.95\n"
          ],
          "name": "stdout"
        }
      ]
    },
    {
      "cell_type": "code",
      "metadata": {
        "id": "sx821wpbSZtt",
        "colab_type": "code",
        "colab": {
          "base_uri": "https://localhost:8080/",
          "height": 55
        },
        "outputId": "2a2e0a72-488d-4760-dad6-337be7ab236b"
      },
      "source": [
        "# Submit the obtained credible interval.\n",
        "grader.submit_pymc_odds_ratio_interval(np.exp(lb), np.exp(ub))"
      ],
      "execution_count": 14,
      "outputs": [
        {
          "output_type": "stream",
          "text": [
            "Current answer for task 2.2 (credible interval lower bound) is: 2.979386059349707\n",
            "Current answer for task 2.2 (credible interval upper bound) is: 3.4919279392099236\n"
          ],
          "name": "stdout"
        }
      ]
    },
    {
      "cell_type": "markdown",
      "metadata": {
        "id": "kIAVDXy5SZt3",
        "colab_type": "text"
      },
      "source": [
        "### Task 2.3 interpreting the results"
      ]
    },
    {
      "cell_type": "code",
      "metadata": {
        "id": "bSTPlvmuSZt4",
        "colab_type": "code",
        "colab": {
          "base_uri": "https://localhost:8080/",
          "height": 56
        },
        "outputId": "35b1b57b-eeb8-4f1f-e099-bfc35a7d89eb"
      },
      "source": [
        "# Does the gender affects salary in the provided dataset?\n",
        "# (Note that the data is from 1996 and maybe not representative\n",
        "# of the current situation in the world.)\n",
        "POSSIBLE_ANSWERS = {\n",
        "    0: 'No, there is certainly no discrimination',\n",
        "    1: 'We cannot say for sure',\n",
        "    2: 'Yes, we are 95% sure that a female is *less* likely to get >$50K than a male with the same age, level of education, etc.', \n",
        "    3: 'Yes, we are 95% sure that a female is *more* likely to get >$50K than a male with the same age, level of education, etc.', \n",
        "}\n",
        "\n",
        "idx = 2### TYPE THE INDEX OF THE CORRECT ANSWER HERE ###\n",
        "answer = POSSIBLE_ANSWERS[idx]\n",
        "grader.submit_is_there_discrimination(answer)"
      ],
      "execution_count": 25,
      "outputs": [
        {
          "output_type": "stream",
          "text": [
            "Current answer for task 2.3 (does the data suggest gender discrimination?) is: Yes, we are 95% sure that a female is *less* likely to get >$50K than a male with the same age, level of education, etc.\n"
          ],
          "name": "stdout"
        }
      ]
    },
    {
      "cell_type": "markdown",
      "metadata": {
        "id": "h8fn88ydSZt9",
        "colab_type": "text"
      },
      "source": [
        "# Authorization & Submission\n",
        "To submit assignment parts to Cousera platform, please, enter your e-mail and token into variables below. You can generate a token on this programming assignment's page. <b>Note:</b> The token expires 30 minutes after generation."
      ]
    },
    {
      "cell_type": "code",
      "metadata": {
        "id": "TTodG1IaSZt-",
        "colab_type": "code",
        "outputId": "7caab4b2-bd1f-4ab8-dbaa-8bd35f8dd117",
        "colab": {
          "base_uri": "https://localhost:8080/",
          "height": 242
        }
      },
      "source": [
        "STUDENT_EMAIL = 'rickdey1998@gmail.com'\n",
        "STUDENT_TOKEN = 'ypRoqgzGG0oc5wiE'\n",
        "grader.status()"
      ],
      "execution_count": 26,
      "outputs": [
        {
          "output_type": "stream",
          "text": [
            "You want to submit these numbers:\n",
            "Task 1.1 (Alice trajectory): 279.93428306022463  291.67686875834846\n",
            "Task 1.1 (Bob trajectory): 314.5384966605577  345.2425410740984\n",
            "Task 1.2 (Alice mean): 278.85416992423353\n",
            "Task 1.2 (Bob mean): 314.6064116545574\n",
            "Task 1.3 (Bob and Alice prices correlation): 0.9636099866766943\n",
            "Task 1.4 (depends on the random data or not): Does not depend on random seed and starting prices\n",
            "Task 2.1 (MAP for age coef): 0.04348259\n",
            "Task 2.1 (MAP for aducation coef): 0.36210894\n",
            "Task 2.2 (credible interval lower bound): 2.979386059349707\n",
            "Task 2.2 (credible interval upper bound): 3.4919279392099236\n",
            "Task 2.3 (does the data suggest gender discrimination?): Yes, we are 95% sure that a female is *less* likely to get >$50K than a male with the same age, level of education, etc.\n"
          ],
          "name": "stdout"
        }
      ]
    },
    {
      "cell_type": "markdown",
      "metadata": {
        "id": "CQXKRyjGSZuI",
        "colab_type": "text"
      },
      "source": [
        "If you want to submit these answers, run cell below"
      ]
    },
    {
      "cell_type": "code",
      "metadata": {
        "id": "sB8AdDcwSZuJ",
        "colab_type": "code",
        "outputId": "662b1766-4a7a-4254-9912-5022aeb60189",
        "colab": {
          "base_uri": "https://localhost:8080/",
          "height": 36
        }
      },
      "source": [
        "grader.submit(STUDENT_EMAIL, STUDENT_TOKEN)"
      ],
      "execution_count": 27,
      "outputs": [
        {
          "output_type": "stream",
          "text": [
            "Submitted to Coursera platform. See results on assignment page!\n"
          ],
          "name": "stdout"
        }
      ]
    },
    {
      "cell_type": "markdown",
      "metadata": {
        "id": "CDE7ZVr6SZuQ",
        "colab_type": "text"
      },
      "source": [
        "# (Optional) generating videos of sampling process\n",
        "In this part you will generate videos showing the sampling process."
      ]
    },
    {
      "cell_type": "markdown",
      "metadata": {
        "id": "chFS1TzISZuS",
        "colab_type": "text"
      },
      "source": [
        "### Setting things up\n",
        "You don't need to modify the code below, it sets up the plotting functions. The code is based on [MCMC visualization tutorial](https://twiecki.github.io/blog/2014/01/02/visualizing-mcmc/)."
      ]
    },
    {
      "cell_type": "code",
      "metadata": {
        "id": "9xEVgUZ2SZuS",
        "colab_type": "code",
        "colab": {
          "base_uri": "https://localhost:8080/",
          "height": 392
        },
        "outputId": "003313fb-5c43-4cff-90d7-7c09d12f8bac"
      },
      "source": [
        "from IPython.display import HTML\n",
        "\n",
        "# Number of MCMC iteration to animate.\n",
        "samples = 400\n",
        "\n",
        "figsize(6, 6)\n",
        "fig = plt.figure()\n",
        "s_width = (0.81, 1.29)\n",
        "a_width = (0.11, 0.39)\n",
        "samples_width = (0, samples)\n",
        "ax1 = fig.add_subplot(221, xlim=s_width, ylim=samples_width)\n",
        "ax2 = fig.add_subplot(224, xlim=samples_width, ylim=a_width)\n",
        "ax3 = fig.add_subplot(223, xlim=s_width, ylim=a_width,\n",
        "                      xlabel='male coef',\n",
        "                      ylabel='educ coef')\n",
        "fig.subplots_adjust(wspace=0.0, hspace=0.0)\n",
        "line1, = ax1.plot([], [], lw=1)\n",
        "line2, = ax2.plot([], [], lw=1)\n",
        "line3, = ax3.plot([], [], 'o', lw=2, alpha=.1)\n",
        "line4, = ax3.plot([], [], lw=1, alpha=.3)\n",
        "line5, = ax3.plot([], [], 'k', lw=1)\n",
        "line6, = ax3.plot([], [], 'k', lw=1)\n",
        "ax1.set_xticklabels([])\n",
        "ax2.set_yticklabels([])\n",
        "lines = [line1, line2, line3, line4, line5, line6]\n",
        "\n",
        "def init():\n",
        "    for line in lines:\n",
        "        line.set_data([], [])\n",
        "    return lines\n",
        "\n",
        "def animate(i):\n",
        "    with logistic_model:\n",
        "        if i == 0:\n",
        "            # Burnin\n",
        "            for j in range(samples): iter_sample.__next__() \n",
        "        trace = iter_sample.__next__()\n",
        "    line1.set_data(trace['sex[T. Male]'][::-1], range(len(trace['sex[T. Male]'])))\n",
        "    line2.set_data(range(len(trace['educ'])), trace['educ'][::-1])\n",
        "    line3.set_data(trace['sex[T. Male]'], trace['educ'])\n",
        "    line4.set_data(trace['sex[T. Male]'], trace['educ'])\n",
        "    male = trace['sex[T. Male]'][-1]\n",
        "    educ = trace['educ'][-1]\n",
        "    line5.set_data([male, male], [educ, a_width[1]])\n",
        "    line6.set_data([male, s_width[1]], [educ, educ])\n",
        "    return lines"
      ],
      "execution_count": 47,
      "outputs": [
        {
          "output_type": "display_data",
          "data": {
            "image/png": "[encoded data removed]",
            "text/plain": [
              "<Figure size 432x432 with 3 Axes>"
            ]
          },
          "metadata": {
            "tags": [],
            "needs_background": "light"
          }
        }
      ]
    },
    {
      "cell_type": "markdown",
      "metadata": {
        "id": "bRG-XlmcSZuc",
        "colab_type": "text"
      },
      "source": [
        "## Animating Metropolis-Hastings"
      ]
    },
    {
      "cell_type": "code",
      "metadata": {
        "id": "eBj934XTSZud",
        "colab_type": "code",
        "colab": {
          "base_uri": "https://localhost:8080/",
          "height": 471
        },
        "outputId": "58b05cea-16f7-447f-bbed-3b604d799599"
      },
      "source": [
        "with pm.Model() as logistic_model:\n",
        "    # Again define Bayesian logistic regression model on the following features: sex, age, age_squared, educ, hours\n",
        "    \n",
        "    #### YOUR CODE HERE ####\n",
        "    pm.glm.GLM.from_formula(\"income_more_50K ~ sex + age + age_2 + educ + hours\",\n",
        "                            data, family=pm.glm.families.Binomial())\n",
        "    map_estimate = pm.find_MAP()\n",
        "    ### END OF YOUR CODE ###\n",
        "    step = pm.Metropolis()\n",
        "    iter_sample = pm.iter_sample(2 * samples, step, start=map_estimate, tune=0)\n",
        "anim = animation.FuncAnimation(fig, animate, init_func=init,\n",
        "                               frames=samples, interval=5, blit=True)\n",
        "HTML(anim.to_html5_video())\n",
        "# Note that generating the video may take a while."
      ],
      "execution_count": 58,
      "outputs": [
        {
          "output_type": "stream",
          "text": [
            "logp = -22,609, ||grad|| = 1.1051e+07: 100%|██████████| 8/8 [00:00<00:00, 252.51it/s]\n"
          ],
          "name": "stderr"
        },
        {
          "output_type": "execute_result",
          "data": {
            "text/html": [
              "<video width=\"432\" height=\"432\" controls autoplay loop>\n",
              "  <source type=\"video/mp4\" src=\"data:video/mp4;base64,AAAAHGZ0eXBNNFYgAAACAGlzb21pc28yYXZjMQAAAAhmcmVlAABAzm1kYXQAAAKuBgX//6rcRem9\n",
              "5tlIt5Ys2CDZI+7veDI2NCAtIGNvcmUgMTUyIHIyODU0IGU5YTU5MDMgLSBILjI2NC9NUEVHLTQg\n",
              "QVZDIGNvZGVjIC0gQ29weWxlZnQgMjAwMy0yMDE3IC0gaHR0cDovL3d3dy52aWRlb2xhbi5vcmcv\n",
              "eDI2NC5odG1sIC0gb3B0aW9uczogY2FiYWM9MSByZWY9MyBkZWJsb2NrPTE6MDowIGFuYWx5c2U9\n",
              "MHgzOjB4MTEzIG1lPWhleCBzdWJtZT03IHBzeT0xIHBzeV9yZD0xLjAwOjAuMDAgbWl4ZWRfcmVm\n",
              "PTEgbWVfcmFuZ2U9MTYgY2hyb21hX21lPTEgdHJlbGxpcz0xIDh4OGRjdD0xIGNxbT0wIGRlYWR6\n",
              "b25lPTIxLDExIGZhc3RfcHNraXA9MSBjaHJvbWFfcXBfb2Zmc2V0PS0yIHRocmVhZHM9MyBsb29r\n",
              "YWhlYWRfdGhyZWFkcz0xIHNsaWNlZF90aHJlYWRzPTAgbnI9MCBkZWNpbWF0ZT0xIGludGVybGFj\n",
              "ZWQ9MCBibHVyYXlfY29tcGF0PTAgY29uc3RyYWluZWRfaW50cmE9MCBiZnJhbWVzPTMgYl9weXJh\n",
              "bWlkPTIgYl9hZGFwdD0xIGJfYmlhcz0wIGRpcmVjdD0xIHdlaWdodGI9MSBvcGVuX2dvcD0wIHdl\n",
              "aWdodHA9MiBrZXlpbnQ9MjUwIGtleWludF9taW49MjUgc2NlbmVjdXQ9NDAgaW50cmFfcmVmcmVz\n",
              "aD0wIHJjX2xvb2thaGVhZD00MCByYz1jcmYgbWJ0cmVlPTEgY3JmPTIzLjAgcWNvbXA9MC42MCBx\n",
              "cG1pbj0wIHFwbWF4PTY5IHFwc3RlcD00IGlwX3JhdGlvPTEuNDAgYXE9MToxLjAwAIAAAA7aZYiE\n",
              "ACf//vWxfApqyfOKDOgyLuGXJMmutiLibQDAAAADAAVQSrRfODf9+M4AAOqABHJ7tgmX+ICXLFNL\n",
              "ZRbCoC6Cxe8v9J3KQZXNNRRszq2YtiXV/ECKzVH+dW2bgxpeo6vQsqhZwdfyFyYkKvwj0iu7WbCX\n",
              "TBe5e5+YM2/Olso6FCCzi081djniwpKD6pVgGJrET1BRRREcTN6CjP46OEEBoVMzcopNFGS3IMuJ\n",
              "dzNhD5Fp4WkrLAmOWzVnAAaFYxi0VsEfi6o64fIxmAvU+Oz84IwrEV0vsI1gROluAxI6988W73nL\n",
              "vLsyXd0uHT+LPPsSSTjG69WNsntr3bG8vulpn93RlLYavl0DEKZ4GGRII7846l2SZxdqBp7+YEy5\n",
              "+cP1xqMcVGSCbnUZVyXY/dCFTSSDjnjccqUWRNU216dSv38BOofLGlHwpjtmP94mXcSeb7EpvBLk\n",
              "Z1yCnGHLsLGwZlypiuetryoOv2gXdKCT6aHgy621QdKg6Pe9ZQRla0pHJpTv6hZSMB/Zm14pTicf\n",
              "Gi/tQQsilmNt4gg/Xqfl4vKGWSPevHOLMUIVr6rQYEgl1QmWq27STKAS28lC2f4ZL52lTWA+eup6\n",
              "oGUs0DpYkatu938L0wLLspgioyLz9PGu4sYFFUAnxvuSSIieQHYe3AvA7ukbcqGuKOijz/ia0DIK\n",
              "O1+WoLABHfIGZ1daFzgChbE0sZolhcgwJxY7I6DP8VI1SPUXvY+/DbS/BPHCdCNf97SWPjadGkEE\n",
              "JzqZwH6b9WIYS+rpqMSKm4T5OQ6Rjdkc25du2hSP3LA6b341x7Tbs8sHkOE1RCOIabXKPwjgZure\n",
              "ol5ey6S+pidZESRY2a5evW9bUI8fa5kpkjiCDyAGyOG6ccqqljtjOHPVBpH7d6fycYNQ8hg+Su7u\n",
              "TK7sspfio66uagLboy5mZlzm2deiu1/CdxpEVD8dmCW4zECFwzYFOMQcyE0SFhIn6ex0op7MqyUT\n",
              "JMudBg3PfyhBcQpUE1tll8Em50zpaepbORfav9o8TEDGkQpDa6S0wAib2UTKkCLgxJyPeXGXDA8i\n",
              "yBhHUZMhpH/Kd+gNnka1GXHsiM1OmWG6q4zGhVpjn4oSg/twecG4LCrZzj3BWgbI5X36P0C4JYB8\n",
              "PJjRpX6O28oY/lntg8MN4hfaJnrVyhA2R0uwHu7KVjVqcTg2cLBNB1LVMpgKjWwvB1Vem3eYDlS1\n",
              "xfam8MfLN8HbmD7ZjnnZcBagOwfFdT2InwWiCc8zK+Iw3qqkTZNvLDmQQhvUxuBsPqnvhBuAR+H2\n",
              "5b8fhMfa+ScJtOcD4PZOeU51FXBgQlatgKiAJrwrJZHhBfBy/U4PXOMoN88fa8zwKStu8reqokHP\n",
              "Mx554XwCqE2IVB/lDUfgD1gAzbiLDSAeFei3TJ3EhCyghhOmBs3PKI34Mm1O98i+7+ByOTgSfusP\n",
              "/SCJFWHh8Ft6y3bk0fUjrEz6hpjXsaXd1TbXuJg+FR1oUucwEoQJeqGF/8KpnTg9nud7rxXweCBd\n",
              "kYrtFRzodc4tvj+Z/elqSurvZk8cmAsgsOfp+8lBvcjSQY8klvrh8MVdD6JWou6ud8BiPEqWQp4E\n",
              "OBxRlREKqszHAbOPHOfef6sv9tRQcAdo6E9khWY8vqoVS3qQSDx56kscUBCqecjDpWNvZlLL975d\n",
              "VYoHzwgIFre/Uc4Rbujxn2Rg0ZdFRCsIQZ+5CppSsVieKFGWh8N6EXnDm3svA3bnSe/INF4Kmrig\n",
              "KOQAViXNPLkQQ2KFr1zyPPluF00fV5xMygSjl9k2hSbak7uv56j/z06gBZBIzD7kM3Hn+RbcTSVD\n",
              "5+1xdrWx8pJN2z9s4OaKZ8oZdzH6Q1h5MbqX0LG4UUc6PC5vmH0FaSOvUJ4wU5ntALOvpOCLy/Cg\n",
              "whFbvTLV42YdcY5t2otrmlSPAR3QJwAMkL6XoHtU9SSep3V5BE57d3cmBWS08wX+acKpZL1ACLwD\n",
              "VcGVAP/bwNEyBq3hVH/U7R+q5UizpQuxTeK8gQ2muBs5hXWoA1Sb5FAm/bliNaNiNfy8sWwmQVXQ\n",
              "wO83AI4ieEz8asVVBNlc4Djc57ZrLQygkJ7AO3FDKQ2utUAtgAoVRN9dKHhhOs2vSFwBitdoT01l\n",
              "RhCnE68lFQt1Xbq4yAexBkhmLHlOKC0EyGSlo55U5rDzfQSy3TR13BEGfBOF+ae6RkBdZdclTE7L\n",
              "m9ulp4+SPRzC8QaHoH3EVxuQXIrmPR/06YWTE/+RNl02ES+OwgaIquhYoQROsu+KSjZFIq0vPQDo\n",
              "zbcxewxwWwwZAoiqJlKkSvqnCOmxH2JfbJPH4Y+3YZTBMgO9gUHHM9YdrvuUXtKNBblNU2N962MH\n",
              "BaW6yvNxMsKikENz1ZcHc9I0+iABBoU1pt4OmsTYyLsTIvAt0hVMawXRTRlv7Z9XH0+Fa6K/gXDE\n",
              "PML7m4owSHyePTITrrH87EoSBv5i/HPNKEMfzA4ct/hoKxgoIprktHDf/oh8SZ4cOjQnHDRkdczT\n",
              "ZXYlXSGWGjsf8K8g68E5r+HU52l2EoOuZmicb6Vz2+Vt5GghgfpCcQNo0Okn9mxpTGtmvl6JS2gj\n",
              "xla+Dc9pfNqHy9d0Z3sXo1B1JiEwM6HAtN0fSJzLrxNWQXAVgYN7af5mKNY+Xs5/NtadUowiQhTd\n",
              "FA7434vxcvgsf+F0AR5RMlaULEJ0xXpH3CUe18Z/ZlCVaPase7U1fzdgP94bssedtjWsakdRi0eo\n",
              "djoFIUsfUGoiFHAS79Ypnsv2IGx0XO354c1TMA038tP4aPwZi/pt/fcUf5AkcXS9dBu0aD64iyo6\n",
              "tNfBZs/inqbC7orT52+R8bBlgDL/+dOpCoDrIM16P4C6bZpFTWyozMzw3HNoHRETftWcd9soHdHO\n",
              "kh5NBYsDzuqbtmqtK+8Bc8bWmSC5YTy1Sx6TGftqvMrJccWNVINXbgKyHQSt2izFI8e91uSfL96h\n",
              "2zxVMC3CVaFPmgT9X220EAaHBIoCy6+8khzMhzrCstcUQho9k65SU6uKljm530dRQIRAz/t0S/8t\n",
              "4M8FPtPUjN3mhSinGqAQlEIFzTFcfRakPk0Sk5qO+f5ReSm0adgowbV9t+1zI/pxA/RZfFx8k316\n",
              "e2lr/qBXUwe74dgm0lS0Bhv22oAPwnNEt5dwH6ifrZMLI1BbRwPILJsbjlyV0w8e6uoueDK3zfNE\n",
              "qkiQqWhuBBjs3ZNgUaTul3VYNiK8f4VJyeg43EAYpSW7RqizkR6OftGL0t1VIHwZ38wsS6Pjl4e0\n",
              "NDTsQyyNlJWkjs1K3cfbGre3uFhdGAH3hAOVzdt+GXDs7s68GGWrZx9///+T7M1rjf9LZQuJ3e1+\n",
              "xGqdGnT1SO6qWv8rrCuX50wKDJrUq4UZyv3B1hp1bMYOHE1tUbZ7eIVd8ZEwD3QDiXwN4wrB6gK+\n",
              "MyTdfJiXU56sLa0kyY+U1Mstpd3wlm2qtLIgN9E1h5nbSw7Y6Oj+KdqXBhtnYnNAkiFdJI806ZbM\n",
              "/FeQW5K/0+iY2abtvpF5Mpv34DSnhUuIRbUVQ/C0GGlnyWQlwLyrFg3Um/DFkAsnXJgBRj/U+80V\n",
              "Ov5ih5s4u9m4Sb/7bZT4uzfXb2XTcjXeW4i0u1zFcjeCatwsY82lPRNfuKLMOkAH826ehFSA48C8\n",
              "mjIX2zZprm/e1HfL23QMpl63vx8HidC/+8EA0w1RJP2f3zZBzNJZ3zCZyIVlusD/sf/rqGWVdG6e\n",
              "HMRYlaF5MNv1oWKI9OPfR3AZqP4CG0miTXo2d9Ra/EVN2IaoqlNp1joC8L2Xw2KUU2fPOdxHHtxE\n",
              "f5S4gdNxCVZ53aAc7NBf+rvKC/hE2lK8nn3mRvyTTWUcFchpNKPLf5lfuVN3nUaWhciB8Xi+qsjw\n",
              "3WBII5BCbDiGJdRprp99Og7NEnBhAeYxB1fLrTYNH7WwUXSi2ZQr+V5ZPG+Msa/nOcQstbrjGVF6\n",
              "sFZbWnlQzCRa2VeJLeq8iLzDW2VxPwyuJmct3XHfY+9MD04lXXNexe+SEzAW5Sp3E/j3zB+4Y97G\n",
              "j9u7eyFgvZmsEGery/5x0tZV3xXuu4fUSyloRdXf6grT7rEKrT2snQESLR3bKhUyhSbm8n+RqsE+\n",
              "1FAgRKIaiblnDfpScrJPoZOlPS28RTXKftPm7xcnzJHv0+NsAqQMHfXNp25xtPQajmapUmOASf9e\n",
              "O4zjuRnAwTW5Rsv1M7I1zRFtDpb3S3wYfmDPm8FJ0ZIL4PkvX/zvXZdw5/uNTduI0qJN6DYxAcRJ\n",
              "GfG20YoM91EL2Ywk9q84G3zxyUQPsbJ/sYJH6gbqGEd0Fe8Hmhbkgh/oVFvBR7R/M9HddwgHCtaZ\n",
              "675+tvXm0X08w8ImMDnnSsANnrCL8CzYuHl5voKV/I4jDPCB9fba/NtD9YUA5hHqwjyaTLmUM5vV\n",
              "/jobBrBmqdYLV/G3ylrAWsma9k06AZj+YulZyyl+6HW8JmNu3h938QG2j480fSjWZjxnIJKFItNx\n",
              "6p4bNKDMrvfvNgSa9DCHdVnYj14aDY+zg18pMaNnmwHTGUj4jW7W3Uc+mt8vDRb1Fiwcn2iamjcL\n",
              "c3A4Ksatg3AppQING39WWkqvf6a36C+bi1b9Brd9jOU2aovwSP9AOoSkfVO5mfTaDpoKZL/uSmCf\n",
              "WVWwlSg2UlXmoMGIvlYFD8M1R1kcNbzt+lThX5Pvo5JvUm+fneYN5d9osyhxVJhGBpXt4OkmoQjc\n",
              "esWPOFwzUsSLIkbcrCPctQCp/PQOL7/r5CCTxXQdMmgAA85jnyFUX5B2u7MV6aHLKsV3o+Kk2TT8\n",
              "PzfPuJkjHLMIVq2NAqXNc5f00NPCdZHbGTuT6hkQZa26m0OhXUMDzTVUWJUhApw0RRZoFQfehyg9\n",
              "UHrznGKvhVTv9NeH4RH9w6hCbHowRms3HqvVLoYiolmWuBcqebkwvtA8DTsewyhFnnzC4HEh97IW\n",
              "YXGF4ObBHn0ihiSfa/soK8PKpbOqJIkcuDexGE1vyRmHiizplDB5gQEEALOYQ7YtgdlZIflqECQ6\n",
              "awNbRLtKTc3NVWvoglpzO2z25ZeY3L1riplt1ICUABqYgAAFfQAAAFBBmiRsQn/98QBFfJ0xoniY\n",
              "DZTKzTXJVqHFN6+tACXw4/SSf+hS/zMBHjWIoAAAAwAsNcmotXZfoZ5GhP2XkoA2xCQk1s3eG2XM\n",
              "wYZMfmM6HgAAADJBnkJ4jf8EKbvsnuso7qnjIxlDLJy1LwzaP4DBg53Q9CeNlLW2H/9hfVv3VPKg\n",
              "WujCwQAAACkBnmF0Rf8FY3HhPNQWS3Z4TBoryG8wx/KsudiU53sKhbqOMvM1YKXCygAAAB4BnmNq\n",
              "Rf8AAQIMbzqql+3OOCNEz99jqZkdhv/PmXcAAAAsQZpoSahBaJlMCE///fEAAAxPpuY0TxMBsplZ\n",
              "pesjG1pDuRiD8eRTNE4CuoEAAAAeQZ6GRREsbwENBHwsF0BfspaJClc5+UZuaAC3uSUFAAAAGgGe\n",
              "pXRF/wABBSD4TzUFiPrVAoA8QQeppPLbAAAAEAGep2pF/wAAAwLWPsBw2ygAAAAVQZqsSahBbJlM\n",
              "CE///fEAAAMAACLgAAAAEkGeykUVLG8BDQR8LASTdnxNwQAAAAwBnul0Rf8AAAMAAwIAAAAMAZ7r\n",
              "akX/AAADAAMCAAAAFUGa8EmoQWyZTAhP//3xAAADAAAi4QAAABJBnw5FFSxvAQ0EfCwEk3Z8TcEA\n",
              "AAAMAZ8tdEX/AAADAAMDAAAADAGfL2pF/wAAAwADAgAAABVBmzRJqEFsmUwIT//98QAAAwAAIuAA\n",
              "AAASQZ9SRRUsbwENBHwsBJN2fE3BAAAADAGfcXRF/wAAAwADAgAAAAwBn3NqRf8AAAMAAwIAAAAV\n",
              "QZt4SahBbJlMCE///fEAAAMAACLhAAAAEkGflkUVLG8BDQR8LASTdnxNwAAAAAwBn7V0Rf8AAAMA\n",
              "AwMAAAAMAZ+3akX/AAADAAMDAAAAFUGbvEmoQWyZTAhP//3xAAADAAAi4AAAABJBn9pFFSxvAQ0E\n",
              "fCwEk3Z8TcEAAAAMAZ/5dEX/AAADAAMCAAAADAGf+2pF/wAAAwADAwAAABVBm+BJqEFsmUwIT//9\n",
              "8QAAAwAAIuEAAAASQZ4eRRUsbwENBHwsBJN2fE3AAAAADAGePXRF/wAAAwADAgAAAAwBnj9qRf8A\n",
              "AAMAAwMAAAAVQZokSahBbJlMCE///fEAAAMAACLgAAAAEkGeQkUVLG8BDQR8LASTdnxNwQAAAAwB\n",
              "nmF0Rf8AAAMAAwIAAAAMAZ5jakX/AAADAAMDAAAAFUGaaEmoQWyZTAhP//3xAAADAAAi4QAAABJB\n",
              "noZFFSxvAQ0EfCwEk3Z8TcEAAAAMAZ6ldEX/AAADAAMDAAAADAGep2pF/wAAAwADAgAAABVBmqxJ\n",
              "qEFsmUwIT//98QAAAwAAIuAAAAASQZ7KRRUsbwENBHwsBJN2fE3BAAAADAGe6XRF/wAAAwADAgAA\n",
              "AAwBnutqRf8AAAMAAwIAAAAVQZrwSahBbJlMCE///fEAAAMAACLhAAAAEkGfDkUVLG8BDQR8LAST\n",
              "dnxNwQAAAAwBny10Rf8AAAMAAwMAAAAMAZ8vakX/AAADAAMCAAAAFUGbNEmoQWyZTAhP//3xAAAD\n",
              "AAAi4AAAABJBn1JFFSxvAQ0EfCwEk3Z8TcEAAAAMAZ9xdEX/AAADAAMCAAAADAGfc2pF/wAAAwAD\n",
              "AgAAABVBm3hJqEFsmUwIT//98QAAAwAAIuEAAAASQZ+WRRUsbwENBHwsBJN2fE3AAAAADAGftXRF\n",
              "/wAAAwADAwAAAAwBn7dqRf8AAAMAAwMAAAAVQZu8SahBbJlMCE///fEAAAMAACLgAAAAEkGf2kUV\n",
              "LG8BDQR8LASTdnxNwQAAAAwBn/l0Rf8AAAMAAwIAAAAMAZ/7akX/AAADAAMDAAAAFUGb4EmoQWyZ\n",
              "TAhP//3xAAADAAAi4QAAABJBnh5FFSxvAQ0EfCwEk3Z8TcAAAAAMAZ49dEX/AAADAAMCAAAADAGe\n",
              "P2pF/wAAAwADAwAAABVBmiRJqEFsmUwIT//98QAAAwAAIuAAAAASQZ5CRRUsbwENBHwsBJN2fE3B\n",
              "AAAADAGeYXRF/wAAAwADAgAAAAwBnmNqRf8AAAMAAwMAAAAVQZpoSahBbJlMCE///fEAAAMAACLh\n",
              "AAAAEkGehkUVLG8BDQR8LASTdnxNwQAAAAwBnqV0Rf8AAAMAAwMAAAAMAZ6nakX/AAADAAMCAAAA\n",
              "FUGarEmoQWyZTAhP//3xAAADAAAi4AAAABJBnspFFSxvAQ0EfCwEk3Z8TcEAAAAMAZ7pdEX/AAAD\n",
              "AAMCAAAADAGe62pF/wAAAwADAgAAABVBmvBJqEFsmUwIT//98QAAAwAAIuEAAAASQZ8ORRUsbwEN\n",
              "BHwsBJN2fE3BAAAADAGfLXRF/wAAAwADAwAAAAwBny9qRf8AAAMAAwIAAAAVQZs0SahBbJlMCE//\n",
              "/fEAAAMAACLgAAAAEkGfUkUVLG8BDQR8LASTdnxNwQAAAAwBn3F0Rf8AAAMAAwIAAAAMAZ9zakX/\n",
              "AAADAAMCAAAAFUGbeEmoQWyZTAhP//3xAAADAAAi4QAAABJBn5ZFFSxvAQ0EfCwEk3Z8TcAAAAAM\n",
              "AZ+1dEX/AAADAAMDAAAADAGft2pF/wAAAwADAwAAABVBm7xJqEFsmUwIT//98QAAAwAAIuAAAAAS\n",
              "QZ/aRRUsbwENBHwsBJN2fE3BAAAADAGf+XRF/wAAAwADAgAAAAwBn/tqRf8AAAMAAwMAAAAVQZvg\n",
              "SahBbJlMCE///fEAAAMAACLhAAAAEkGeHkUVLG8BDQR8LASTdnxNwAAAAAwBnj10Rf8AAAMAAwIA\n",
              "AAAMAZ4/akX/AAADAAMDAAAAFUGaJEmoQWyZTAhP//3xAAADAAAi4AAAABJBnkJFFSxvAQ0EfCwE\n",
              "k3Z8TcEAAAAMAZ5hdEX/AAADAAMCAAAADAGeY2pF/wAAAwADAwAAABVBmmhJqEFsmUwIT//98QAA\n",
              "AwAAIuEAAAASQZ6GRRUsbwENBHwsBJN2fE3BAAAADAGepXRF/wAAAwADAwAAAAwBnqdqRf8AAAMA\n",
              "AwIAAAAVQZqsSahBbJlMCE///fEAAAMAACLgAAAAEkGeykUVLG8BDQR8LASTdnxNwQAAAAwBnul0\n",
              "Rf8AAAMAAwIAAAAMAZ7rakX/AAADAAMCAAAAFUGa8EmoQWyZTAhP//3xAAADAAAi4QAAABJBnw5F\n",
              "FSxvAQ0EfCwEk3Z8TcEAAAAMAZ8tdEX/AAADAAMDAAAADAGfL2pF/wAAAwADAgAAABVBmzRJqEFs\n",
              "mUwIT//98QAAAwAAIuAAAAASQZ9SRRUsbwENBHwsBJN2fE3BAAAADAGfcXRF/wAAAwADAgAAAAwB\n",
              "n3NqRf8AAAMAAwIAAAAVQZt4SahBbJlMCE///fEAAAMAACLhAAAAEkGflkUVLG8BDQR8LASTdnxN\n",
              "wAAAAAwBn7V0Rf8AAAMAAwMAAAAMAZ+3akX/AAADAAMDAAAAFUGbvEmoQWyZTAhP//3xAAADAAAi\n",
              "4AAAABJBn9pFFSxvAQ0EfCwEk3Z8TcEAAAAMAZ/5dEX/AAADAAMCAAAADAGf+2pF/wAAAwADAwAA\n",
              "ABVBm+BJqEFsmUwIT//98QAAAwAAIuEAAAASQZ4eRRUsbwENBHwsBJN2fE3AAAAADAGePXRF/wAA\n",
              "AwADAgAAAAwBnj9qRf8AAAMAAwMAAAAVQZokSahBbJlMCE///fEAAAMAACLgAAAAEkGeQkUVLG8B\n",
              "DQR8LASTdnxNwQAAAAwBnmF0Rf8AAAMAAwIAAAAMAZ5jakX/AAADAAMDAAAAFUGaaEmoQWyZTAhP\n",
              "//3xAAADAAAi4QAAABJBnoZFFSxvAQ0EfCwEk3Z8TcEAAAAMAZ6ldEX/AAADAAMDAAAADAGep2pF\n",
              "/wAAAwADAgAAABVBmqxJqEFsmUwIT//98QAAAwAAIuAAAAASQZ7KRRUsbwENBHwsBJN2fE3BAAAA\n",
              "DAGe6XRF/wAAAwADAgAAAAwBnutqRf8AAAMAAwIAAAAVQZrwSahBbJlMCE///fEAAAMAACLhAAAA\n",
              "EkGfDkUVLG8BDQR8LASTdnxNwQAAAAwBny10Rf8AAAMAAwMAAAAMAZ8vakX/AAADAAMCAAAAFUGb\n",
              "NEmoQWyZTAhP//3xAAADAAAi4AAAABJBn1JFFSxvAQ0EfCwEk3Z8TcEAAAAMAZ9xdEX/AAADAAMC\n",
              "AAAADAGfc2pF/wAAAwADAgAAABVBm3hJqEFsmUwIT//98QAAAwAAIuEAAAASQZ+WRRUsbwENBHws\n",
              "BJN2fE3AAAAADAGftXRF/wAAAwADAwAAAAwBn7dqRf8AAAMAAwMAAAAVQZu8SahBbJlMCE///fEA\n",
              "AAMAACLgAAAAEkGf2kUVLG8BDQR8LASTdnxNwQAAAAwBn/l0Rf8AAAMAAwIAAAAMAZ/7akX/AAAD\n",
              "AAMDAAAAFUGb4EmoQWyZTAhP//3xAAADAAAi4QAAABJBnh5FFSxvAQ0EfCwEk3Z8TcAAAAAMAZ49\n",
              "dEX/AAADAAMCAAAADAGeP2pF/wAAAwADAwAAABVBmiRJqEFsmUwIT//98QAAAwAAIuAAAAASQZ5C\n",
              "RRUsbwENBHwsBJN2fE3BAAAADAGeYXRF/wAAAwADAgAAAAwBnmNqRf8AAAMAAwMAAAAVQZpoSahB\n",
              "bJlMCE///fEAAAMAACLhAAAAEkGehkUVLG8BDQR8LASTdnxNwQAAAAwBnqV0Rf8AAAMAAwMAAAAM\n",
              "AZ6nakX/AAADAAMCAAAAFUGarEmoQWyZTAhP//3xAAADAAAi4AAAABJBnspFFSxvAQ0EfCwEk3Z8\n",
              "TcEAAAAMAZ7pdEX/AAADAAMCAAAADAGe62pF/wAAAwADAgAAABVBmvBJqEFsmUwIT//98QAAAwAA\n",
              "IuEAAAASQZ8ORRUsbwENBHwsBJN2fE3BAAAADAGfLXRF/wAAAwADAwAAAAwBny9qRf8AAAMAAwIA\n",
              "AAAVQZs0SahBbJlMCE///fEAAAMAACLgAAAAEkGfUkUVLG8BDQR8LASTdnxNwQAAAAwBn3F0Rf8A\n",
              "AAMAAwIAAAAMAZ9zakX/AAADAAMCAAAAFUGbeEmoQWyZTAhP//3xAAADAAAi4QAAABJBn5ZFFSxv\n",
              "AQ0EfCwEk3Z8TcAAAAAMAZ+1dEX/AAADAAMDAAAADAGft2pF/wAAAwADAwAAABVBm7xJqEFsmUwI\n",
              "T//98QAAAwAAIuAAAAASQZ/aRRUsbwENBHwsBJN2fE3BAAAADAGf+XRF/wAAAwADAgAAAAwBn/tq\n",
              "Rf8AAAMAAwMAAAAVQZvgSahBbJlMCE///fEAAAMAACLhAAAAEkGeHkUVLG8BDQR8LASTdnxNwAAA\n",
              "AAwBnj10Rf8AAAMAAwIAAAAMAZ4/akX/AAADAAMDAAAAFUGaJEmoQWyZTAhP//3xAAADAAAi4AAA\n",
              "ABJBnkJFFSxvAQ0EfCwEk3Z8TcEAAAAMAZ5hdEX/AAADAAMCAAAADAGeY2pF/wAAAwADAwAAABVB\n",
              "mmhJqEFsmUwIT//98QAAAwAAIuEAAAASQZ6GRRUsbwENBHwsBJN2fE3BAAAADAGepXRF/wAAAwAD\n",
              "AwAAAAwBnqdqRf8AAAMAAwIAAAAVQZqsSahBbJlMCE///fEAAAMAACLgAAAAEkGeykUVLG8BDQR8\n",
              "LASTdnxNwQAAAAwBnul0Rf8AAAMAAwIAAAAMAZ7rakX/AAADAAMCAAAAFUGa8EmoQWyZTAhP//3x\n",
              "AAADAAAi4QAAABJBnw5FFSxvAQ0EfCwEk3Z8TcEAAAAMAZ8tdEX/AAADAAMDAAAADAGfL2pF/wAA\n",
              "AwADAgAAABVBmzRJqEFsmUwIT//98QAAAwAAIuAAAAASQZ9SRRUsbwENBHwsBJN2fE3BAAAADAGf\n",
              "cXRF/wAAAwADAgAAAAwBn3NqRf8AAAMAAwIAAAAVQZt4SahBbJlMCE///fEAAAMAACLhAAAAEkGf\n",
              "lkUVLG8BDQR8LASTdnxNwAAAAAwBn7V0Rf8AAAMAAwMAAAAMAZ+3akX/AAADAAMDAAAAFUGbvEmo\n",
              "QWyZTAhP//3xAAADAAAi4AAAABJBn9pFFSxvAQ0EfCwEk3Z8TcEAAAAMAZ/5dEX/AAADAAMCAAAA\n",
              "DAGf+2pF/wAAAwADAwAAABVBm+BJqEFsmUwIT//98QAAAwAAIuEAAAASQZ4eRRUsbwENBHwsBJN2\n",
              "fE3AAAAADAGePXRF/wAAAwADAgAAAAwBnj9qRf8AAAMAAwMAAAAVQZokSahBbJlMCE///fEAAAMA\n",
              "ACLgAAAAEkGeQkUVLG8BDQR8LASTdnxNwQAAAAwBnmF0Rf8AAAMAAwIAAAAMAZ5jakX/AAADAAMD\n",
              "AAAAFUGaaEmoQWyZTAhP//3xAAADAAAi4QAAABJBnoZFFSxvAQ0EfCwEk3Z8TcEAAAAMAZ6ldEX/\n",
              "AAADAAMDAAAADAGep2pF/wAAAwADAgAAABVBmqxJqEFsmUwIT//98QAAAwAAIuAAAAASQZ7KRRUs\n",
              "bwENBHwsBJN2fE3BAAAADAGe6XRF/wAAAwADAgAAAAwBnutqRf8AAAMAAwIAAAAVQZrwSahBbJlM\n",
              "CE///fEAAAMAACLhAAAAEkGfDkUVLG8BDQR8LASTdnxNwQAAAAwBny10Rf8AAAMAAwMAAAAMAZ8v\n",
              "akX/AAADAAMCAAAAFUGbNEmoQWyZTAhP//3xAAADAAAi4AAAABJBn1JFFSxvAQ0EfCwEk3Z8TcEA\n",
              "AAAMAZ9xdEX/AAADAAMCAAAADAGfc2pF/wAAAwADAgAAABVBm3hJqEFsmUwIT//98QAAAwAAIuEA\n",
              "AAASQZ+WRRUsbwENBHwsBJN2fE3AAAAADAGftXRF/wAAAwADAwAAAAwBn7dqRf8AAAMAAwMAAAAT\n",
              "QZu5SahBbJlMCL/6WAAAAwABqwAAEGJliIIADP/+9uy+BTX9n9CXESzF2kpwPiqkgIB3NMAAAAMA\n",
              "AHgdKF7oOEqr0MAAG3AAfCP7cH3fxASzZ40LhBuI7VAka885PrW47ieL0Yip3dEJp0m2u6sPlhm8\n",
              "5+q+jdvQaEiWWipoz0QBNNMOO+ejP03H+Gki4uz+moKiJFGMzMeWNs3SsCa4pcngHgu91QE05vT7\n",
              "2d5flBMkLwSAEqk88ATvT6O8nDVob1YyJ3aYsjyqtqaIDRg7XgUN7hmS3T6OBdizvpkW11zpi0o8\n",
              "IlYFsJHsILpAXejX9AYuVkPn9WJw6afaR+fPWT0yJOtU5Mlx8wXBg2nx8PyuA1vvlOj5Z54zW8Um\n",
              "HNe0nLiB4Vr29QPySbqk8l9h9BXi9AoRbkDIa6W4UqHvbXQqyy2Mh9ONocz7g+9mz9Z40A05T9Xz\n",
              "q7pGvAnfcpG5Zbgups4RU70yDpuXjw6Eo5xNpuoAAC2gOiZCqSkfKf+0qJnoRLCXx/++7um1c1p3\n",
              "TIlOPijit6nTCj4zkgXf7YMLnOo524W5To7dEbOzGtxAGTJilRzD3hta5KRK2VfhshEafBdKmc9k\n",
              "cQn8rZ5KiKzUW/9LSPNrhL6JCe9TkKp2FZr6co7s4XHUeayoACyAx9oW7WIxir/pNTtje4BQAhQz\n",
              "VSd5iXabzfj3RIHyLwWFxAXDgz7Bh6rrrYHQNNmr8qFg1EAODi3Cf4eTdj2dlAUNMXHrbFz3rjv6\n",
              "GSyLksXy4xxtXQ6SJvLpQdXREls6PKFys+Fcx8Egfu6hRYNX92BVACY0yeywkbuD+7JfSlfB/wdc\n",
              "uqR6yIm+ZRLph3Z4rFCfXuv2Jqdo903xVl85QDIughj0Q1sPQqogXirf8hU9P6Ip0oXh4PXn0//W\n",
              "6xX4vbdAA+71LNSRRyZ5SRPVolJzDi1nyXifEV/FeAZaFB/fREPnxGYjWhLEF09XWUdvJ8Gl6iFP\n",
              "RQ/hXpZm6tq+WoTqL0KljxiyrrP40xOKMJsKWB/kpx9VuidJfc31lLYjOc+GnONnsieGEqFAOzCm\n",
              "9mnMf+COaZrVq+/hC19k2y/6AsOFZj/jffxqBjyW1bFfs0lGWPI2AQt7/+TKw6jNHdc/HaTGQb5/\n",
              "uVTZWjmHVX0oSdHE0irNeLZqYVm7vo3LHUlAEnvp59ED+HL68nJoGye1Dzep0D5bcwdpL1MlICsO\n",
              "e2gF5WmeACIN2rxt6s44e+HgG+94TIU/M9tftLjNWCK4O0r9PHeRm2N0W7DTFTUZ0d0DlYI8ncM/\n",
              "NcvGe1vI+ibx7t8u2QDB67IyELND9oC+yFDOeEKMpGE8jLF4jri1qicjjyZxyygJfzArwV9qol9g\n",
              "P++VUB16MfWTg+D++iIQO0Wn5pQ59+myrz3DN/J+6oHCJ0QX6YnsBOwW+fKyBp1We9qdSv3SVEBk\n",
              "Ea2lJA2qui4+KqSkUDT+1BZVxw0VW5ZFQMYZ5dJ0+juoQJ0hIEtRnY1ZEZjlIYm06W3QR3vx0jze\n",
              "9aWP0nlKUXzg6UBwTQvz4mgsl8pHEs3jyvPH5HzSdo/bWtUjpOSUmi9qybBS1/QUgv6ED+K2kUvu\n",
              "RDY/iz22l5q/7ENRD+US/1xity1XpNlU1MlrhejY4im9bMB8C+b5v/x/xou2/liT0qrq/yH79dsj\n",
              "9XjizgaDfRFUGR2kZBJL7r/oNRsqVgapueq7oUlRospiw/gK6hs/0rlVukQET9ofw+j8LsNQtOKB\n",
              "0FNegWuvOlKLv7Dzakni/PRSkLXtcYwCXJeTv6zIxjeFjhCpxr0KI1YL0ZqlOYvt5oaKJGHETAS2\n",
              "f+Xp1axeBwc9YzzflClaXny+xP0nHXgkoAKI8LnJ9RwDwy1vD+To0KQEt2H3smE6vRLpshtiZRMw\n",
              "1W5umSrochEoTHspByQxNxGaLGgAZkgftxpQ8kCSmyQDHxdI9iwqsgHe9iCkq2njYurDmcmfJhC9\n",
              "a+MhxWi7nrvYTykrYHlGaMnfxcpzmkrxNhF/maoFKNWJHw/4GmKkilqpSPNc3SuIYb903M0kM8/r\n",
              "HZHC3cLpuq2LsZx1iko3QGG/Fcy84bgjh6c8/MXDjDIB9ZZZ9ds8vXS7S/pB+e1yQU8k9g2WFT5o\n",
              "dCoLzld1/bLl3dVUQWu9ZZpqG4jWYQaDllAwUJfCnGdJWlsnQkcMCgwc/NooIU38mZ4tv+ReNIo6\n",
              "L6QxcJztgrJWYEF+sda8CXDxDDatQK1CSm850ZJ5z9rQ6D4C4eOV8wfRYANKEO+/TIHFy3+QJHrA\n",
              "0UvqGGVJns5zeqHLKyYjNLX4yONxJqSu4HPdAMiOwrA4zHDpNsE+xKm2XwP3uufCWJKwIizJhRYE\n",
              "BY90pTUgIFKw2f+OR3LXTLivVDkk3P9e0oSMHX6qbBPtze3yWLustd5AZ886lruNtbeNm5CrwYxe\n",
              "FiRPGbbcLahWqquqZKk5ne592lTgBTHXpGvlpTjEGlSgTgYGTWxr5Cihthqak2W4pmAUqNV/jNc9\n",
              "5oM74D+uQR/R541T2F199wsaa4vZMzNdNWyDZ377UN6Mefv73ufMCdrLqGb8LVXFOZ+PImHA9Cd9\n",
              "PJiLDv76o4+AWU2mY+yzufSGscmEaAW613KF8TuP8NpRRyOHIYJogAAD5ko5sQc4y7MlWDKtqYpU\n",
              "fTjIIVtH4NwQIejEjyvwBDiz2G6CVBjGBk9cpn4HBIfKDuwLzwfZOpOEkd9ZPU4psixgyOJAH5TL\n",
              "lFJnJxtsV7PbRo6AmWryrsgt8YV93Wc6H8aD7y5Wg2EzGePPUHxT+F4hxxYlD3zSdr4p0ITxXFjm\n",
              "K5maT3YNMNLVHDBvHe0AxmJZCeNbybPDp+kYlFID8RNwsw0+vflm4oH95QHN8/lcGq+s8BuKHu1q\n",
              "N70CrgCIepNlc0jYzxW/ycYPu/kBgys3u6aX1TKXeBnelre2ELOs6RiG0RIY4CQvjCFuYA4a//q7\n",
              "UI6Udtewow/gYmJblnn01qK6z+WQxWBYlaAAin1rVortaUg34ulYepPX0MfjUjy7SAkixXYsahl3\n",
              "Lf7n7ShRev7C3NSBcFg9RaWGXoPJWtJMPSkb6NfHWnRArrgcjY4hAOzoH25FEEuug3aWFDRz0O1U\n",
              "sXIZYPwZGlElLwb2CQBRxzHBn/3mGQf8xvyqU2fKPqYvZ0gy48yrgizGaO4NbUi6GBqM+NOIEwjd\n",
              "DmoHdHOq9HWRlQ6Mk/V4uX4B85vghNzC1TeEnypuYUUrZj6b3EZHMcL0Q3cYAbSRIWPqhUFs9yof\n",
              "cuV9QrqdJELFTt4pK82v/2h7slhU+nqHjO/ZYkfSbFzUQsWQYw3BdadW1IpQx2xOgCSEqE0CHpjf\n",
              "rFjc2dRu1MAXIja/jfLPPI3m+711jtPgkBKa1PKYKgH3TVy6KESRyH11keCLPIBdbiq0j/P2aZBl\n",
              "L2Dvx3VYeW989CZc3Qj3sChBey3Hogwqzp4Aanj/F+GOGzeXC5lbFhNGxyvFFPRPaJFHK+0QHuEz\n",
              "ILsA2no5ck4xRDlkctxhvQO8VCB/SuHSDkIzKYZG/IS9DM0s5aEku8TJlCISAKPOyeUHj7eDNcpr\n",
              "yivFKwh04qoLHP0/ZZvUGV92+dFHhUv0hJeUUrem72xBkv9yT+2LUcY+Dx1W2kVDG+vv4PBcrD19\n",
              "uSuA+xBMzdynWzjq5Gvkd2uGu3EQc/IAxRSvnoJHXmfBDb9yInRXGMkuX7War0/gqRl/iVFglQlf\n",
              "HtcW+AIGrBbxogjSukaJfqINGQBD//2gpJc//8mg7g6CrYqIPwiJJsyBBNAmb3EmPf/rtD9K6gQZ\n",
              "Zl5GqfIWKHNIUb8lZBlrHNA2CbpjW7Th+/5+6PtwmVYnXnJ7C4MlsyJ2aiSJ+JZzuvEz8H2iO4mq\n",
              "MI/s6ZU51ef+hzoIBwtHXWqIRxNsKAGTh8bp8l1aIdSurYr0u/SzFmZsuj7mtVIjAomNBUBGIf71\n",
              "d76e4Lvzj7GrtN+Uyc2nZCHKDAet7jIlMns38/n2sfKC53IqAABpw9ht7RpChYLJsS/vL8vu4Rjk\n",
              "cfsifp08bXAz8BHwAT+ES5lEDrhoRmjsriVRhkzlqZbnRNtDvW9x3RLH4aQ1l51u2drY0wMnPamE\n",
              "xcuRvwPy+q86hpRdcWL7N/ljjRpn+j1PekKkenVIfIRM4X5Guw0FMV1UykeyyZnygSaax+lrKLmJ\n",
              "inX+S3M/FHcJ17V2lg7P5P7xoGdf42uvFUu4FzLu61n2QUWuI6SfpXHgJ6XItLBLiFXS5j+/fL0b\n",
              "v2Hhy35ESOl1ctzeBRDUJQRaoObuo3gQv3YwIjGCagUHDX2EZUAhyetoJ4Sd7BT5/o6H7VidgxvJ\n",
              "5AMzDuV5TDc7tSSuuSyKyj6a9flbkyO5aYEGw+51rmrArYaVizLBxwe9g+jy/IsZ9oDCmJ0q2k2C\n",
              "oAYaR1ueQZLYyCx3sQ0m2pPjH5lpoV0bZVYJYqM2rZTqG3FHhYlC2aDc6hpOXCcLn5pq0BcCJmeh\n",
              "V6hIuQoQ4zn/iKtOgl9Xfx/BP5CoqSrI0OofO01PfIOy7TA7YCWUrXR9Ltq0KtAbmcxMK4qv1lAh\n",
              "tSYlM69I+I8A+BFW8DJPWie5fY3B/zl7npJVXXdYoQGMZ59u4OHGzSy04LC6ojTaTcbSTx+BPqgb\n",
              "eWfhuEmFQC+bpPYvQTkoReSTWTAclrZuf+q0O3o+tSnqWrNqEHAVgZ9SUHFTYKoBThUlI3zwI7xr\n",
              "VlklW30C3Ky7/G1mb1aI5k50oeDdXxiqwARLRqYy9LgsFDymiNnwN8hAM0fm/GSdwyt0UoUc/VBT\n",
              "HSIXhIPVj8JPbOHsADU6Ma0Q1NWFIKlP86rKSzo68WR6zCwvU0u2d6lb9zgQCcmsms65fJnQonHn\n",
              "uWspjLqSqUC/i3qUKf/gy1xJuVzGArYiMyKskNvu7tDPaiu3+sDjW9OULwITYE/PcN2HVOKWaDxQ\n",
              "avQetUKtKu2bIXkCTu1l0j1Kjkz4oerh4bqr6Vpp9p90eIiO6aFYlUsdCswLAvOswcBN4eq7stlg\n",
              "ekjYnqs0N6Z3L0wThv0sN3YAojIWTv+hKIUdh0M2XX0pCwaggH1r4urAOlPghyqxAhOf1hpo1w/m\n",
              "5r/tt2sgd/qPAfV3hRunGXKAfiIYosc3dXx5zYYKOR2FHk0XNlt+yZyqQXJ8B0HVHt59knOouMfO\n",
              "atuwG9bp+67dT9/c0zfM2zsLxillP9FWdcn+kBMuCMFFxxz3BdP26xeQkOAdPY4W39H653ew69IF\n",
              "ATK60lONsBjehonAs8af0J7Wn5IUoK0X3kAABCL5hxDqL76yEz0CDNqJMrUWexwC9XHUsfRLiufd\n",
              "KhwMRatcSEefFVNZ5qFQPdGi9Fx1FLz/2n7SjfU9SizCz2oN1hZMG7HUNqeZ2wLBdzwIYYV5QE5a\n",
              "VpWnm6wsXDAJmML3AChA1+JJbHm6SXAEXNScTrCNjG2Jseu0n+uYaLZAywexE5elShvSNSUaDMQt\n",
              "zZCQ7mVviiu8amd98VFtKHRJ7E/nnTReOhAaFk9vfQ24xB6AZNvRzU6WTsq04vQXE1rYazz3wA2h\n",
              "nq/MSTEJNaVTeSaQlVsPKFQjY8CZ9MWeQYq9/Jhh0JTVvP3BOdT1tdFqIa2wTeYU4AK0uMAwYScA\n",
              "AAAeQZokbEJ//fEAAAMAIN8A3hTsa6AHbkkI9ydiHPjSAAAAEEGeQniN/wAAAwI65yQW5JUAAAAP\n",
              "AZ5hdEX/AAADAtbjaMyBAAAADgGeY2pF/wAAAwLWPq/mAAAAFUGaaEmoQWiZTAhP//3xAAADAAAi\n",
              "4AAAAA1BnoZFESxvAAADAAJfAAAADAGepXRF/wAAAwADAgAAAAwBnqdqRf8AAAMAAwMAAAAVQZqs\n",
              "SahBbJlMCE///fEAAAMAACLgAAAADUGeykUVLG8AAAMAAl8AAAAMAZ7pdEX/AAADAAMDAAAADAGe\n",
              "62pF/wAAAwADAwAAABVBmvBJqEFsmUwIT//98QAAAwAAIuEAAAANQZ8ORRUsbwAAAwACXgAAAAwB\n",
              "ny10Rf8AAAMAAwIAAAAMAZ8vakX/AAADAAMDAAAAFUGbNEmoQWyZTAhP//3xAAADAAAi4AAAAA1B\n",
              "n1JFFSxvAAADAAJeAAAADAGfcXRF/wAAAwADAwAAAAwBn3NqRf8AAAMAAwMAAAAVQZt4SahBbJlM\n",
              "CE///fEAAAMAACLhAAAADUGflkUVLG8AAAMAAl4AAAAMAZ+1dEX/AAADAAMCAAAADAGft2pF/wAA\n",
              "AwADAwAAABVBm7xJqEFsmUwIT//98QAAAwAAIuAAAAANQZ/aRRUsbwAAAwACXgAAAAwBn/l0Rf8A\n",
              "AAMAAwMAAAAMAZ/7akX/AAADAAMCAAAAFUGb4EmoQWyZTAhP//3xAAADAAAi4QAAAA1Bnh5FFSxv\n",
              "AAADAAJfAAAADAGePXRF/wAAAwADAgAAAAwBnj9qRf8AAAMAAwMAAAAVQZokSahBbJlMCE///fEA\n",
              "AAMAACLgAAAADUGeQkUVLG8AAAMAAl8AAAAMAZ5hdEX/AAADAAMDAAAADAGeY2pF/wAAAwADAgAA\n",
              "ABVBmmhJqEFsmUwIT//98QAAAwAAIuAAAAANQZ6GRRUsbwAAAwACXwAAAAwBnqV0Rf8AAAMAAwIA\n",
              "AAAMAZ6nakX/AAADAAMDAAAAFUGarEmoQWyZTAhP//3xAAADAAAi4AAAAA1BnspFFSxvAAADAAJf\n",
              "AAAADAGe6XRF/wAAAwADAwAAAAwBnutqRf8AAAMAAwMAAAAVQZrwSahBbJlMCE///fEAAAMAACLh\n",
              "AAAADUGfDkUVLG8AAAMAAl4AAAAMAZ8tdEX/AAADAAMCAAAADAGfL2pF/wAAAwADAwAAABVBmzRJ\n",
              "qEFsmUwIT//98QAAAwAAIuAAAAANQZ9SRRUsbwAAAwACXgAAAAwBn3F0Rf8AAAMAAwMAAAAMAZ9z\n",
              "akX/AAADAAMDAAAAFUGbeEmoQWyZTAhP//3xAAADAAAi4QAAAA1Bn5ZFFSxvAAADAAJeAAAADAGf\n",
              "tXRF/wAAAwADAgAAAAwBn7dqRf8AAAMAAwMAAAAVQZu8SahBbJlMCE///fEAAAMAACLgAAAADUGf\n",
              "2kUVLG8AAAMAAl4AAAAMAZ/5dEX/AAADAAMDAAAADAGf+2pF/wAAAwADAgAAABVBm+BJqEFsmUwI\n",
              "T//98QAAAwAAIuEAAAANQZ4eRRUsbwAAAwACXwAAAAwBnj10Rf8AAAMAAwIAAAAMAZ4/akX/AAAD\n",
              "AAMDAAAAFUGaJEmoQWyZTAhP//3xAAADAAAi4AAAAA1BnkJFFSxvAAADAAJfAAAADAGeYXRF/wAA\n",
              "AwADAwAAAAwBnmNqRf8AAAMAAwIAAAAVQZpoSahBbJlMCE///fEAAAMAACLgAAAADUGehkUVLG8A\n",
              "AAMAAl8AAAAMAZ6ldEX/AAADAAMCAAAADAGep2pF/wAAAwADAwAAABVBmqxJqEFsmUwIT//98QAA\n",
              "AwAAIuAAAAANQZ7KRRUsbwAAAwACXwAAAAwBnul0Rf8AAAMAAwMAAAAMAZ7rakX/AAADAAMDAAAA\n",
              "FUGa8EmoQWyZTAhP//3xAAADAAAi4QAAAA1Bnw5FFSxvAAADAAJeAAAADAGfLXRF/wAAAwADAgAA\n",
              "AAwBny9qRf8AAAMAAwMAAAAVQZs0SahBbJlMCE///fEAAAMAACLgAAAADUGfUkUVLG8AAAMAAl4A\n",
              "AAAMAZ9xdEX/AAADAAMDAAAADAGfc2pF/wAAAwADAwAAABVBm3hJqEFsmUwIT//98QAAAwAAIuEA\n",
              "AAANQZ+WRRUsbwAAAwACXgAAAAwBn7V0Rf8AAAMAAwIAAAAMAZ+3akX/AAADAAMDAAAAFUGbvEmo\n",
              "QWyZTAhP//3xAAADAAAi4AAAAA1Bn9pFFSxvAAADAAJeAAAADAGf+XRF/wAAAwADAwAAAAwBn/tq\n",
              "Rf8AAAMAAwIAAAAVQZvgSahBbJlMCE///fEAAAMAACLhAAAADUGeHkUVLG8AAAMAAl8AAAAMAZ49\n",
              "dEX/AAADAAMCAAAADAGeP2pF/wAAAwADAwAAABVBmiRJqEFsmUwIT//98QAAAwAAIuAAAAANQZ5C\n",
              "RRUsbwAAAwACXwAAAAwBnmF0Rf8AAAMAAwMAAAAMAZ5jakX/AAADAAMCAAAAFUGaaEmoQWyZTAhP\n",
              "//3xAAADAAAi4AAAAA1BnoZFFSxvAAADAAJfAAAADAGepXRF/wAAAwADAgAAAAwBnqdqRf8AAAMA\n",
              "AwMAAAAVQZqsSahBbJlMCE///fEAAAMAACLgAAAADUGeykUVLG8AAAMAAl8AAAAMAZ7pdEX/AAAD\n",
              "AAMDAAAADAGe62pF/wAAAwADAwAAABVBmvBJqEFsmUwIT//98QAAAwAAIuEAAAANQZ8ORRUsbwAA\n",
              "AwACXgAAAAwBny10Rf8AAAMAAwIAAAAMAZ8vakX/AAADAAMDAAAAFUGbNEmoQWyZTAhP//3xAAAD\n",
              "AAAi4AAAAA1Bn1JFFSxvAAADAAJeAAAADAGfcXRF/wAAAwADAwAAAAwBn3NqRf8AAAMAAwMAAAAV\n",
              "QZt4SahBbJlMCE///fEAAAMAACLhAAAADUGflkUVLG8AAAMAAl4AAAAMAZ+1dEX/AAADAAMCAAAA\n",
              "DAGft2pF/wAAAwADAwAAABVBm7xJqEFsmUwIT//98QAAAwAAIuAAAAANQZ/aRRUsbwAAAwACXgAA\n",
              "AAwBn/l0Rf8AAAMAAwMAAAAMAZ/7akX/AAADAAMCAAAAFUGb4EmoQWyZTAhP//3xAAADAAAi4QAA\n",
              "AA1Bnh5FFSxvAAADAAJfAAAADAGePXRF/wAAAwADAgAAAAwBnj9qRf8AAAMAAwMAAAAVQZokSahB\n",
              "bJlMCE///fEAAAMAACLgAAAADUGeQkUVLG8AAAMAAl8AAAAMAZ5hdEX/AAADAAMDAAAADAGeY2pF\n",
              "/wAAAwADAgAAABVBmmhJqEFsmUwIT//98QAAAwAAIuAAAAANQZ6GRRUsbwAAAwACXwAAAAwBnqV0\n",
              "Rf8AAAMAAwIAAAAMAZ6nakX/AAADAAMDAAAAFUGarEmoQWyZTAhP//3xAAADAAAi4AAAAA1BnspF\n",
              "FSxvAAADAAJfAAAADAGe6XRF/wAAAwADAwAAAAwBnutqRf8AAAMAAwMAAAAVQZrwSahBbJlMCEf/\n",
              "/eEAAAMAADehAAAADUGfDkUVLG8AAAMAAl4AAAAMAZ8tdEX/AAADAAMCAAAADAGfL2pF/wAAAwAD\n",
              "AwAAABNBmzRJqEFsmUwI3/pYAAADAAGrAAAADUGfUkUVLG8AAAMAAl4AAAAMAZ9xdEX/AAADAAMD\n",
              "AAAADAGfc2pF/wAAAwADAwAAABNBm3VJqEFsmUwIv/pYAAADAAGrAAAV6W1vb3YAAABsbXZoZAAA\n",
              "AAAAAAAAAAAAAAAAA+gAAAfQAAEAAAEAAAAAAAAAAAAAAAABAAAAAAAAAAAAAAAAAAAAAQAAAAAA\n",
              "AAAAAAAAAAAAQAAAAAAAAAAAAAAAAAAAAAAAAAAAAAAAAAAAAAAAAAIAABUTdHJhawAAAFx0a2hk\n",
              "AAAAAwAAAAAAAAAAAAAAAQAAAAAAAAfQAAAAAAAAAAAAAAAAAAAAAAABAAAAAAAAAAAAAAAAAAAA\n",
              "AQAAAAAAAAAAAAAAAAAAQAAAAAGwAAABsAAAAAAAJGVkdHMAAAAcZWxzdAAAAAAAAAABAAAH0AAA\n",
              "AIAAAQAAAAAUi21kaWEAAAAgbWRoZAAAAAAAAAAAAAAAAAAAMgAAAGQAVcQAAAAAAC1oZGxyAAAA\n",
              "AAAAAAB2aWRlAAAAAAAAAAAAAAAAVmlkZW9IYW5kbGVyAAAAFDZtaW5mAAAAFHZtaGQAAAABAAAA\n",
              "AAAAAAAAAAAkZGluZgAAABxkcmVmAAAAAAAAAAEAAAAMdXJsIAAAAAEAABP2c3RibAAAALJzdHNk\n",
              "AAAAAAAAAAEAAACiYXZjMQAAAAAAAAABAAAAAAAAAAAAAAAAAAAAAAGwAbAASAAAAEgAAAAAAAAA\n",
              "AQAAAAAAAAAAAAAAAAAAAAAAAAAAAAAAAAAAAAAAAAAAABj//wAAADBhdmNDAWQAIP/hABdnZAAg\n",
              "rNlBsN6EAAADAAQAAAZAPGDGWAEABmjr48siwAAAABx1dWlka2hA8l8kT8W6OaUbzwMj8wAAAAAA\n",
              "AAAYc3R0cwAAAAAAAAABAAABkAAAAEAAAAAYc3RzcwAAAAAAAAACAAAAAQAAAPsAAAyIY3R0cwAA\n",
              "AAAAAAGPAAAAAQAAAIAAAAABAAABQAAAAAEAAACAAAAAAQAAAAAAAAABAAAAQAAAAAEAAAFAAAAA\n",
              "AQAAAIAAAAABAAAAAAAAAAEAAABAAAAAAQAAAUAAAAABAAAAgAAAAAEAAAAAAAAAAQAAAEAAAAAB\n",
              "AAABQAAAAAEAAACAAAAAAQAAAAAAAAABAAAAQAAAAAEAAAFAAAAAAQAAAIAAAAABAAAAAAAAAAEA\n",
              "AABAAAAAAQAAAUAAAAABAAAAgAAAAAEAAAAAAAAAAQAAAEAAAAABAAABQAAAAAEAAACAAAAAAQAA\n",
              "AAAAAAABAAAAQAAAAAEAAAFAAAAAAQAAAIAAAAABAAAAAAAAAAEAAABAAAAAAQAAAUAAAAABAAAA\n",
              "gAAAAAEAAAAAAAAAAQAAAEAAAAABAAABQAAAAAEAAACAAAAAAQAAAAAAAAABAAAAQAAAAAEAAAFA\n",
              "AAAAAQAAAIAAAAABAAAAAAAAAAEAAABAAAAAAQAAAUAAAAABAAAAgAAAAAEAAAAAAAAAAQAAAEAA\n",
              "AAABAAABQAAAAAEAAACAAAAAAQAAAAAAAAABAAAAQAAAAAEAAAFAAAAAAQAAAIAAAAABAAAAAAAA\n",
              "AAEAAABAAAAAAQAAAUAAAAABAAAAgAAAAAEAAAAAAAAAAQAAAEAAAAABAAABQAAAAAEAAACAAAAA\n",
              "AQAAAAAAAAABAAAAQAAAAAEAAAFAAAAAAQAAAIAAAAABAAAAAAAAAAEAAABAAAAAAQAAAUAAAAAB\n",
              "AAAAgAAAAAEAAAAAAAAAAQAAAEAAAAABAAABQAAAAAEAAACAAAAAAQAAAAAAAAABAAAAQAAAAAEA\n",
              "AAFAAAAAAQAAAIAAAAABAAAAAAAAAAEAAABAAAAAAQAAAUAAAAABAAAAgAAAAAEAAAAAAAAAAQAA\n",
              "AEAAAAABAAABQAAAAAEAAACAAAAAAQAAAAAAAAABAAAAQAAAAAEAAAFAAAAAAQAAAIAAAAABAAAA\n",
              "AAAAAAEAAABAAAAAAQAAAUAAAAABAAAAgAAAAAEAAAAAAAAAAQAAAEAAAAABAAABQAAAAAEAAACA\n",
              "AAAAAQAAAAAAAAABAAAAQAAAAAEAAAFAAAAAAQAAAIAAAAABAAAAAAAAAAEAAABAAAAAAQAAAUAA\n",
              "AAABAAAAgAAAAAEAAAAAAAAAAQAAAEAAAAABAAABQAAAAAEAAACAAAAAAQAAAAAAAAABAAAAQAAA\n",
              "AAEAAAFAAAAAAQAAAIAAAAABAAAAAAAAAAEAAABAAAAAAQAAAUAAAAABAAAAgAAAAAEAAAAAAAAA\n",
              "AQAAAEAAAAABAAABQAAAAAEAAACAAAAAAQAAAAAAAAABAAAAQAAAAAEAAAFAAAAAAQAAAIAAAAAB\n",
              "AAAAAAAAAAEAAABAAAAAAQAAAUAAAAABAAAAgAAAAAEAAAAAAAAAAQAAAEAAAAABAAABQAAAAAEA\n",
              "AACAAAAAAQAAAAAAAAABAAAAQAAAAAEAAAFAAAAAAQAAAIAAAAABAAAAAAAAAAEAAABAAAAAAQAA\n",
              "AUAAAAABAAAAgAAAAAEAAAAAAAAAAQAAAEAAAAABAAABQAAAAAEAAACAAAAAAQAAAAAAAAABAAAA\n",
              "QAAAAAEAAAFAAAAAAQAAAIAAAAABAAAAAAAAAAEAAABAAAAAAQAAAUAAAAABAAAAgAAAAAEAAAAA\n",
              "AAAAAQAAAEAAAAABAAABQAAAAAEAAACAAAAAAQAAAAAAAAABAAAAQAAAAAEAAAFAAAAAAQAAAIAA\n",
              "AAABAAAAAAAAAAEAAABAAAAAAQAAAUAAAAABAAAAgAAAAAEAAAAAAAAAAQAAAEAAAAABAAABQAAA\n",
              "AAEAAACAAAAAAQAAAAAAAAABAAAAQAAAAAEAAAFAAAAAAQAAAIAAAAABAAAAAAAAAAEAAABAAAAA\n",
              "AQAAAUAAAAABAAAAgAAAAAEAAAAAAAAAAQAAAEAAAAABAAABQAAAAAEAAACAAAAAAQAAAAAAAAAB\n",
              "AAAAQAAAAAEAAAFAAAAAAQAAAIAAAAABAAAAAAAAAAEAAABAAAAAAQAAAUAAAAABAAAAgAAAAAEA\n",
              "AAAAAAAAAQAAAEAAAAABAAABQAAAAAEAAACAAAAAAQAAAAAAAAABAAAAQAAAAAEAAAFAAAAAAQAA\n",
              "AIAAAAABAAAAAAAAAAEAAABAAAAAAQAAAUAAAAABAAAAgAAAAAEAAAAAAAAAAQAAAEAAAAABAAAB\n",
              "QAAAAAEAAACAAAAAAQAAAAAAAAABAAAAQAAAAAEAAAFAAAAAAQAAAIAAAAABAAAAAAAAAAEAAABA\n",
              "AAAAAQAAAUAAAAABAAAAgAAAAAEAAAAAAAAAAQAAAEAAAAABAAABQAAAAAEAAACAAAAAAQAAAAAA\n",
              "AAABAAAAQAAAAAEAAAFAAAAAAQAAAIAAAAABAAAAAAAAAAEAAABAAAAAAQAAAUAAAAABAAAAgAAA\n",
              "AAEAAAAAAAAAAQAAAEAAAAABAAABQAAAAAEAAACAAAAAAQAAAAAAAAABAAAAQAAAAAEAAAFAAAAA\n",
              "AQAAAIAAAAABAAAAAAAAAAEAAABAAAAAAQAAAUAAAAABAAAAgAAAAAEAAAAAAAAAAQAAAEAAAAAB\n",
              "AAABQAAAAAEAAACAAAAAAQAAAAAAAAABAAAAQAAAAAEAAAFAAAAAAQAAAIAAAAABAAAAAAAAAAEA\n",
              "AABAAAAAAgAAAIAAAAABAAABQAAAAAEAAACAAAAAAQAAAAAAAAABAAAAQAAAAAEAAAFAAAAAAQAA\n",
              "AIAAAAABAAAAAAAAAAEAAABAAAAAAQAAAUAAAAABAAAAgAAAAAEAAAAAAAAAAQAAAEAAAAABAAAB\n",
              "QAAAAAEAAACAAAAAAQAAAAAAAAABAAAAQAAAAAEAAAFAAAAAAQAAAIAAAAABAAAAAAAAAAEAAABA\n",
              "AAAAAQAAAUAAAAABAAAAgAAAAAEAAAAAAAAAAQAAAEAAAAABAAABQAAAAAEAAACAAAAAAQAAAAAA\n",
              "AAABAAAAQAAAAAEAAAFAAAAAAQAAAIAAAAABAAAAAAAAAAEAAABAAAAAAQAAAUAAAAABAAAAgAAA\n",
              "AAEAAAAAAAAAAQAAAEAAAAABAAABQAAAAAEAAACAAAAAAQAAAAAAAAABAAAAQAAAAAEAAAFAAAAA\n",
              "AQAAAIAAAAABAAAAAAAAAAEAAABAAAAAAQAAAUAAAAABAAAAgAAAAAEAAAAAAAAAAQAAAEAAAAAB\n",
              "AAABQAAAAAEAAACAAAAAAQAAAAAAAAABAAAAQAAAAAEAAAFAAAAAAQAAAIAAAAABAAAAAAAAAAEA\n",
              "AABAAAAAAQAAAUAAAAABAAAAgAAAAAEAAAAAAAAAAQAAAEAAAAABAAABQAAAAAEAAACAAAAAAQAA\n",
              "AAAAAAABAAAAQAAAAAEAAAFAAAAAAQAAAIAAAAABAAAAAAAAAAEAAABAAAAAAQAAAUAAAAABAAAA\n",
              "gAAAAAEAAAAAAAAAAQAAAEAAAAABAAABQAAAAAEAAACAAAAAAQAAAAAAAAABAAAAQAAAAAEAAAFA\n",
              "AAAAAQAAAIAAAAABAAAAAAAAAAEAAABAAAAAAQAAAUAAAAABAAAAgAAAAAEAAAAAAAAAAQAAAEAA\n",
              "AAABAAABQAAAAAEAAACAAAAAAQAAAAAAAAABAAAAQAAAAAEAAAFAAAAAAQAAAIAAAAABAAAAAAAA\n",
              "AAEAAABAAAAAAQAAAUAAAAABAAAAgAAAAAEAAAAAAAAAAQAAAEAAAAABAAABQAAAAAEAAACAAAAA\n",
              "AQAAAAAAAAABAAAAQAAAAAEAAAFAAAAAAQAAAIAAAAABAAAAAAAAAAEAAABAAAAAAQAAAUAAAAAB\n",
              "AAAAgAAAAAEAAAAAAAAAAQAAAEAAAAABAAABQAAAAAEAAACAAAAAAQAAAAAAAAABAAAAQAAAAAEA\n",
              "AAFAAAAAAQAAAIAAAAABAAAAAAAAAAEAAABAAAAAAQAAAUAAAAABAAAAgAAAAAEAAAAAAAAAAQAA\n",
              "AEAAAAABAAABQAAAAAEAAACAAAAAAQAAAAAAAAABAAAAQAAAAAEAAAFAAAAAAQAAAIAAAAABAAAA\n",
              "AAAAAAEAAABAAAAAAQAAAUAAAAABAAAAgAAAAAEAAAAAAAAAAQAAAEAAAAABAAABQAAAAAEAAACA\n",
              "AAAAAQAAAAAAAAABAAAAQAAAAAEAAAFAAAAAAQAAAIAAAAABAAAAAAAAAAEAAABAAAAAAQAAAUAA\n",
              "AAABAAAAgAAAAAEAAAAAAAAAAQAAAEAAAAABAAABQAAAAAEAAACAAAAAAQAAAAAAAAABAAAAQAAA\n",
              "AAEAAACAAAAAHHN0c2MAAAAAAAAAAQAAAAEAAAGQAAAAAQAABlRzdHN6AAAAAAAAAAAAAAGQAAAR\n",
              "kAAAAFQAAAA2AAAALQAAACIAAAAwAAAAIgAAAB4AAAAUAAAAGQAAABYAAAAQAAAAEAAAABkAAAAW\n",
              "AAAAEAAAABAAAAAZAAAAFgAAABAAAAAQAAAAGQAAABYAAAAQAAAAEAAAABkAAAAWAAAAEAAAABAA\n",
              "AAAZAAAAFgAAABAAAAAQAAAAGQAAABYAAAAQAAAAEAAAABkAAAAWAAAAEAAAABAAAAAZAAAAFgAA\n",
              "ABAAAAAQAAAAGQAAABYAAAAQAAAAEAAAABkAAAAWAAAAEAAAABAAAAAZAAAAFgAAABAAAAAQAAAA\n",
              "GQAAABYAAAAQAAAAEAAAABkAAAAWAAAAEAAAABAAAAAZAAAAFgAAABAAAAAQAAAAGQAAABYAAAAQ\n",
              "AAAAEAAAABkAAAAWAAAAEAAAABAAAAAZAAAAFgAAABAAAAAQAAAAGQAAABYAAAAQAAAAEAAAABkA\n",
              "AAAWAAAAEAAAABAAAAAZAAAAFgAAABAAAAAQAAAAGQAAABYAAAAQAAAAEAAAABkAAAAWAAAAEAAA\n",
              "ABAAAAAZAAAAFgAAABAAAAAQAAAAGQAAABYAAAAQAAAAEAAAABkAAAAWAAAAEAAAABAAAAAZAAAA\n",
              "FgAAABAAAAAQAAAAGQAAABYAAAAQAAAAEAAAABkAAAAWAAAAEAAAABAAAAAZAAAAFgAAABAAAAAQ\n",
              "AAAAGQAAABYAAAAQAAAAEAAAABkAAAAWAAAAEAAAABAAAAAZAAAAFgAAABAAAAAQAAAAGQAAABYA\n",
              "AAAQAAAAEAAAABkAAAAWAAAAEAAAABAAAAAZAAAAFgAAABAAAAAQAAAAGQAAABYAAAAQAAAAEAAA\n",
              "ABkAAAAWAAAAEAAAABAAAAAZAAAAFgAAABAAAAAQAAAAGQAAABYAAAAQAAAAEAAAABkAAAAWAAAA\n",
              "EAAAABAAAAAZAAAAFgAAABAAAAAQAAAAGQAAABYAAAAQAAAAEAAAABkAAAAWAAAAEAAAABAAAAAZ\n",
              "AAAAFgAAABAAAAAQAAAAGQAAABYAAAAQAAAAEAAAABkAAAAWAAAAEAAAABAAAAAZAAAAFgAAABAA\n",
              "AAAQAAAAGQAAABYAAAAQAAAAEAAAABkAAAAWAAAAEAAAABAAAAAZAAAAFgAAABAAAAAQAAAAGQAA\n",
              "ABYAAAAQAAAAEAAAABkAAAAWAAAAEAAAABAAAAAZAAAAFgAAABAAAAAQAAAAGQAAABYAAAAQAAAA\n",
              "EAAAABkAAAAWAAAAEAAAABAAAAAZAAAAFgAAABAAAAAQAAAAGQAAABYAAAAQAAAAEAAAABkAAAAW\n",
              "AAAAEAAAABAAAAAZAAAAFgAAABAAAAAQAAAAFwAAEGYAAAAiAAAAFAAAABMAAAASAAAAGQAAABEA\n",
              "AAAQAAAAEAAAABkAAAARAAAAEAAAABAAAAAZAAAAEQAAABAAAAAQAAAAGQAAABEAAAAQAAAAEAAA\n",
              "ABkAAAARAAAAEAAAABAAAAAZAAAAEQAAABAAAAAQAAAAGQAAABEAAAAQAAAAEAAAABkAAAARAAAA\n",
              "EAAAABAAAAAZAAAAEQAAABAAAAAQAAAAGQAAABEAAAAQAAAAEAAAABkAAAARAAAAEAAAABAAAAAZ\n",
              "AAAAEQAAABAAAAAQAAAAGQAAABEAAAAQAAAAEAAAABkAAAARAAAAEAAAABAAAAAZAAAAEQAAABAA\n",
              "AAAQAAAAGQAAABEAAAAQAAAAEAAAABkAAAARAAAAEAAAABAAAAAZAAAAEQAAABAAAAAQAAAAGQAA\n",
              "ABEAAAAQAAAAEAAAABkAAAARAAAAEAAAABAAAAAZAAAAEQAAABAAAAAQAAAAGQAAABEAAAAQAAAA\n",
              "EAAAABkAAAARAAAAEAAAABAAAAAZAAAAEQAAABAAAAAQAAAAGQAAABEAAAAQAAAAEAAAABkAAAAR\n",
              "AAAAEAAAABAAAAAZAAAAEQAAABAAAAAQAAAAGQAAABEAAAAQAAAAEAAAABkAAAARAAAAEAAAABAA\n",
              "AAAZAAAAEQAAABAAAAAQAAAAGQAAABEAAAAQAAAAEAAAABkAAAARAAAAEAAAABAAAAAZAAAAEQAA\n",
              "ABAAAAAQAAAAGQAAABEAAAAQAAAAEAAAABkAAAARAAAAEAAAABAAAAAXAAAAEQAAABAAAAAQAAAA\n",
              "FwAAABRzdGNvAAAAAAAAAAEAAAAsAAAAYnVkdGEAAABabWV0YQAAAAAAAAAhaGRscgAAAAAAAAAA\n",
              "bWRpcmFwcGwAAAAAAAAAAAAAAAAtaWxzdAAAACWpdG9vAAAAHWRhdGEAAAABAAAAAExhdmY1Ny44\n",
              "My4xMDA=\n",
              "\">\n",
              "  Your browser does not support the video tag.\n",
              "</video>"
            ],
            "text/plain": [
              "<IPython.core.display.HTML object>"
            ]
          },
          "metadata": {
            "tags": []
          },
          "execution_count": 58
        }
      ]
    },
    {
      "cell_type": "markdown",
      "metadata": {
        "id": "sVFcuSqWSZui",
        "colab_type": "text"
      },
      "source": [
        "## Animating NUTS\n",
        "Now rerun the animation providing the NUTS sampling method as the step argument."
      ]
    },
    {
      "cell_type": "code",
      "metadata": {
        "id": "qNp4fhTESZuk",
        "colab_type": "code",
        "colab": {
          "base_uri": "https://localhost:8080/",
          "height": 453
        },
        "outputId": "09a9a638-9404-4b65-bd21-a1a8b842bc09"
      },
      "source": [
        "with pm.Model() as logistic_model:\n",
        "    # Again define Bayesian logistic regression model on the following features: sex, age, age_squared, educ, hours\n",
        "    \n",
        "    pm.glm.GLM.from_formula(\"income_more_50K ~ sex + age + age_2 + educ + hours\",\n",
        "                            data, family=pm.glm.families.Binomial())\n",
        "    step = pm.NUTS()\n",
        "    iter_sample = pm.iter_sample(samples, step, tune=samples, discard_tune_samples=True)\n",
        "anim = animation.FuncAnimation(fig, animate, init_func=init,\n",
        "                               frames=samples, interval=5, blit=True)\n",
        "HTML(anim.to_html5_video())"
      ],
      "execution_count": 42,
      "outputs": [
        {
          "output_type": "execute_result",
          "data": {
            "text/html": [
              "<video width=\"432\" height=\"432\" controls autoplay loop>\n",
              "  <source type=\"video/mp4\" src=\"data:video/mp4;base64,AAAAHGZ0eXBNNFYgAAACAGlzb21pc28yYXZjMQAAAAhmcmVlAABAzm1kYXQAAAKuBgX//6rcRem9\n",
              "5tlIt5Ys2CDZI+7veDI2NCAtIGNvcmUgMTUyIHIyODU0IGU5YTU5MDMgLSBILjI2NC9NUEVHLTQg\n",
              "QVZDIGNvZGVjIC0gQ29weWxlZnQgMjAwMy0yMDE3IC0gaHR0cDovL3d3dy52aWRlb2xhbi5vcmcv\n",
              "eDI2NC5odG1sIC0gb3B0aW9uczogY2FiYWM9MSByZWY9MyBkZWJsb2NrPTE6MDowIGFuYWx5c2U9\n",
              "MHgzOjB4MTEzIG1lPWhleCBzdWJtZT03IHBzeT0xIHBzeV9yZD0xLjAwOjAuMDAgbWl4ZWRfcmVm\n",
              "PTEgbWVfcmFuZ2U9MTYgY2hyb21hX21lPTEgdHJlbGxpcz0xIDh4OGRjdD0xIGNxbT0wIGRlYWR6\n",
              "b25lPTIxLDExIGZhc3RfcHNraXA9MSBjaHJvbWFfcXBfb2Zmc2V0PS0yIHRocmVhZHM9MyBsb29r\n",
              "YWhlYWRfdGhyZWFkcz0xIHNsaWNlZF90aHJlYWRzPTAgbnI9MCBkZWNpbWF0ZT0xIGludGVybGFj\n",
              "ZWQ9MCBibHVyYXlfY29tcGF0PTAgY29uc3RyYWluZWRfaW50cmE9MCBiZnJhbWVzPTMgYl9weXJh\n",
              "bWlkPTIgYl9hZGFwdD0xIGJfYmlhcz0wIGRpcmVjdD0xIHdlaWdodGI9MSBvcGVuX2dvcD0wIHdl\n",
              "aWdodHA9MiBrZXlpbnQ9MjUwIGtleWludF9taW49MjUgc2NlbmVjdXQ9NDAgaW50cmFfcmVmcmVz\n",
              "aD0wIHJjX2xvb2thaGVhZD00MCByYz1jcmYgbWJ0cmVlPTEgY3JmPTIzLjAgcWNvbXA9MC42MCBx\n",
              "cG1pbj0wIHFwbWF4PTY5IHFwc3RlcD00IGlwX3JhdGlvPTEuNDAgYXE9MToxLjAwAIAAAA7aZYiE\n",
              "ACf//vWxfApqyfOKDOgyLuGXJMmutiLibQDAAAADAAVQSrRfODf9+M4AAOqABHJ7tgmX+ICXLFNL\n",
              "ZRbCoC6Cxe8v9J3KQZXNNRRszq2YtiXV/ECKzVH+dW2bgxpeo6vQsqhZwdfyFyYkKvwj0iu7WbCX\n",
              "TBe5e5+YM2/Olso6FCCzi081djniwpKD6pVgGJrET1BRRREcTN6CjP46OEEBoVMzcopNFGS3IMuJ\n",
              "dzNhD5Fp4WkrLAmOWzVnAAaFYxi0VsEfi6o64fIxmAvU+Oz84IwrEV0vsI1gROluAxI6988W73nL\n",
              "vLsyXd0uHT+LPPsSSTjG69WNsntr3bG8vulpn93RlLYavl0DEKZ4GGRII7846l2SZxdqBp7+YEy5\n",
              "+cP1xqMcVGSCbnUZVyXY/dCFTSSDjnjccqUWRNU216dSv38BOofLGlHwpjtmP94mXcSeb7EpvBLk\n",
              "Z1yCnGHLsLGwZlypiuetryoOv2gXdKCT6aHgy621QdKg6Pe9ZQRla0pHJpTv6hZSMB/Zm14pTicf\n",
              "Gi/tQQsilmNt4gg/Xqfl4vKGWSPevHOLMUIVr6rQYEgl1QmWq27STKAS28lC2f4ZL52lTWA+eup6\n",
              "oGUs0DpYkatu938L0wLLspgioyLz9PGu4sYFFUAnxvuSSIieQHYe3AvA7ukbcqGuKOijz/ia0DIK\n",
              "O1+WoLABHfIGZ1daFzgChbE0sZolhcgwJxY7I6DP8VI1SPUXvY+/DbS/BPHCdCNf97SWPjadGkEE\n",
              "JzqZwH6b9WIYS+rpqMSKm4T5OQ6Rjdkc25du2hSP3LA6b341x7Tbs8sHkOE1RCOIabXKPwjgZure\n",
              "ol5ey6S+pidZESRY2a5evW9bUI8fa5kpkjiCDyAGyOG6ccqqljtjOHPVBpH7d6fycYNQ8hg+Su7u\n",
              "TK7sspfio66uagLboy5mZlzm2deiu1/CdxpEVD8dmCW4zECFwzYFOMQcyE0SFhIn6ex0op7MqyUT\n",
              "JMudBg3PfyhBcQpUE1tll8Em50zpaepbORfav9o8TEDGkQpDa6S0wAib2UTKkCLgxJyPeXGXDA8i\n",
              "yBhHUZMhpH/Kd+gNnka1GXHsiM1OmWG6q4zGhVpjn4oSg/twecG4LCrZzj3BWgbI5X36P0C4JYB8\n",
              "PJjRpX6O28oY/lntg8MN4hfaJnrVyhA2R0uwHu7KVjVqcTg2cLBNB1LVMpgKjWwvB1Vem3eYDlS1\n",
              "xfam8MfLN8HbmD7ZjnnZcBagOwfFdT2InwWiCc8zK+Iw3qqkTZNvLDmQQhvUxuBsPqnvhBuAR+H2\n",
              "5b8fhMfa+ScJtOcD4PZOeU51FXBgQlatgKiAJrwrJZHhBfBy/U4PXOMoN88fa8zwKStu8reqokHP\n",
              "Mx554XwCqE2IVB/lDUfgD1gAzbiLDSAeFei3TJ3EhCyghhOmBs3PKI34Mm1O98i+7+ByOTgSfusP\n",
              "/SCJFWHh8Ft6y3bk0fUjrEz6hpjXsaXd1TbXuJg+FR1oUucwEoQJeqGF/8KpnTg9nud7rxXweCBd\n",
              "kYrtFRzodc4tvj+Z/elqSurvZk8cmAsgsOfp+8lBvcjSQY8klvrh8MVdD6JWou6ud8BiPEqWQp4E\n",
              "OBxRlREKqszHAbOPHOfef6sv9tRQcAdo6E9khWY8vqoVS3qQSDx56kscUBCqecjDpWNvZlLL975d\n",
              "VYoHzwgIFre/Uc4Rbujxn2Rg0ZdFRCsIQZ+5CppSsVieKFGWh8N6EXnDm3svA3bnSe/INF4Kmrig\n",
              "KOQAViXNPLkQQ2KFr1zyPPluF00fV5xMygSjl9k2hSbak7uv56j/z06gBZBIzD7kM3Hn+RbcTSVD\n",
              "5+1xdrWx8pJN2z9s4OaKZ8oZdzH6Q1h5MbqX0LG4UUc6PC5vmH0FaSOvUJ4wU5ntALOvpOCLy/Cg\n",
              "whFbvTLV42YdcY5t2otrmlSPAR3QJwAMkL6XoHtU9SSep3V5BE57d3cmBWS08wX+acKpZL1ACLwD\n",
              "VcGVAP/bwNEyBq3hVH/U7R+q5UizpQuxTeK8gQ2muBs5hXWoA1Sb5FAm/bliNaNiNfy8sWwmQVXQ\n",
              "wO83AI4ieEz8asVVBNlc4Djc57ZrLQygkJ7AO3FDKQ2utUAtgAoVRN9dKHhhOs2vSFwBitdoT01l\n",
              "RhCnE68lFQt1Xbq4yAexBkhmLHlOKC0EyGSlo55U5rDzfQSy3TR13BEGfBOF+ae6RkBdZdclTE7L\n",
              "m9ulp4+SPRzC8QaHoH3EVxuQXIrmPR/06YWTE/+RNl02ES+OwgaIquhYoQROsu+KSjZFIq0vPQDo\n",
              "zbcxewxwWwwZAoiqJlKkSvqnCOmxH2JfbJPH4Y+3YZTBMgO9gUHHM9YdrvuUXtKNBblNU2N962MH\n",
              "BaW6yvNxMsKikENz1ZcHc9I0+iABBoU1pt4OmsTYyLsTIvAt0hVMawXRTRlv7Z9XH0+Fa6K/gXDE\n",
              "PML7m4owSHyePTITrrH87EoSBv5i/HPNKEMfzA4ct/hoKxgoIprktHDf/oh8SZ4cOjQnHDRkdczT\n",
              "ZXYlXSGWGjsf8K8g68E5r+HU52l2EoOuZmicb6Vz2+Vt5GghgfpCcQNo0Okn9mxpTGtmvl6JS2gj\n",
              "xla+Dc9pfNqHy9d0Z3sXo1B1JiEwM6HAtN0fSJzLrxNWQXAVgYN7af5mKNY+Xs5/NtadUowiQhTd\n",
              "FA7434vxcvgsf+F0AR5RMlaULEJ0xXpH3CUe18Z/ZlCVaPase7U1fzdgP94bssedtjWsakdRi0eo\n",
              "djoFIUsfUGoiFHAS79Ypnsv2IGx0XO354c1TMA038tP4aPwZi/pt/fcUf5AkcXS9dBu0aD64iyo6\n",
              "tNfBZs/inqbC7orT52+R8bBlgDL/+dOpCoDrIM16P4C6bZpFTWyozMzw3HNoHRETftWcd9soHdHO\n",
              "kh5NBYsDzuqbtmqtK+8Bc8bWmSC5YTy1Sx6TGftqvMrJccWNVINXbgKyHQSt2izFI8e91uSfL96h\n",
              "2zxVMC3CVaFPmgT9X220EAaHBIoCy6+8khzMhzrCstcUQho9k65SU6uKljm530dRQIRAz/t0S/8t\n",
              "4M8FPtPUjN3mhSinGqAQlEIFzTFcfRakPk0Sk5qO+f5ReSm0adgowbV9t+1zI/pxA/RZfFx8k316\n",
              "e2lr/qBXUwe74dgm0lS0Bhv22oAPwnNEt5dwH6ifrZMLI1BbRwPILJsbjlyV0w8e6uoueDK3zfNE\n",
              "qkiQqWhuBBjs3ZNgUaTul3VYNiK8f4VJyeg43EAYpSW7RqizkR6OftGL0t1VIHwZ38wsS6Pjl4e0\n",
              "NDTsQyyNlJWkjs1K3cfbGre3uFhdGAH3hAOVzdt+GXDs7s68GGWrZx9///+T7M1rjf9LZQuJ3e1+\n",
              "xGqdGnT1SO6qWv8rrCuX50wKDJrUq4UZyv3B1hp1bMYOHE1tUbZ7eIVd8ZEwD3QDiXwN4wrB6gK+\n",
              "MyTdfJiXU56sLa0kyY+U1Mstpd3wlm2qtLIgN9E1h5nbSw7Y6Oj+KdqXBhtnYnNAkiFdJI806ZbM\n",
              "/FeQW5K/0+iY2abtvpF5Mpv34DSnhUuIRbUVQ/C0GGlnyWQlwLyrFg3Um/DFkAsnXJgBRj/U+80V\n",
              "Ov5ih5s4u9m4Sb/7bZT4uzfXb2XTcjXeW4i0u1zFcjeCatwsY82lPRNfuKLMOkAH826ehFSA48C8\n",
              "mjIX2zZprm/e1HfL23QMpl63vx8HidC/+8EA0w1RJP2f3zZBzNJZ3zCZyIVlusD/sf/rqGWVdG6e\n",
              "HMRYlaF5MNv1oWKI9OPfR3AZqP4CG0miTXo2d9Ra/EVN2IaoqlNp1joC8L2Xw2KUU2fPOdxHHtxE\n",
              "f5S4gdNxCVZ53aAc7NBf+rvKC/hE2lK8nn3mRvyTTWUcFchpNKPLf5lfuVN3nUaWhciB8Xi+qsjw\n",
              "3WBII5BCbDiGJdRprp99Og7NEnBhAeYxB1fLrTYNH7WwUXSi2ZQr+V5ZPG+Msa/nOcQstbrjGVF6\n",
              "sFZbWnlQzCRa2VeJLeq8iLzDW2VxPwyuJmct3XHfY+9MD04lXXNexe+SEzAW5Sp3E/j3zB+4Y97G\n",
              "j9u7eyFgvZmsEGery/5x0tZV3xXuu4fUSyloRdXf6grT7rEKrT2snQESLR3bKhUyhSbm8n+RqsE+\n",
              "1FAgRKIaiblnDfpScrJPoZOlPS28RTXKftPm7xcnzJHv0+NsAqQMHfXNp25xtPQajmapUmOASf9e\n",
              "O4zjuRnAwTW5Rsv1M7I1zRFtDpb3S3wYfmDPm8FJ0ZIL4PkvX/zvXZdw5/uNTduI0qJN6DYxAcRJ\n",
              "GfG20YoM91EL2Ywk9q84G3zxyUQPsbJ/sYJH6gbqGEd0Fe8Hmhbkgh/oVFvBR7R/M9HddwgHCtaZ\n",
              "675+tvXm0X08w8ImMDnnSsANnrCL8CzYuHl5voKV/I4jDPCB9fba/NtD9YUA5hHqwjyaTLmUM5vV\n",
              "/jobBrBmqdYLV/G3ylrAWsma9k06AZj+YulZyyl+6HW8JmNu3h938QG2j480fSjWZjxnIJKFItNx\n",
              "6p4bNKDMrvfvNgSa9DCHdVnYj14aDY+zg18pMaNnmwHTGUj4jW7W3Uc+mt8vDRb1Fiwcn2iamjcL\n",
              "c3A4Ksatg3AppQING39WWkqvf6a36C+bi1b9Brd9jOU2aovwSP9AOoSkfVO5mfTaDpoKZL/uSmCf\n",
              "WVWwlSg2UlXmoMGIvlYFD8M1R1kcNbzt+lThX5Pvo5JvUm+fneYN5d9osyhxVJhGBpXt4OkmoQjc\n",
              "esWPOFwzUsSLIkbcrCPctQCp/PQOL7/r5CCTxXQdMmgAA85jnyFUX5B2u7MV6aHLKsV3o+Kk2TT8\n",
              "PzfPuJkjHLMIVq2NAqXNc5f00NPCdZHbGTuT6hkQZa26m0OhXUMDzTVUWJUhApw0RRZoFQfehyg9\n",
              "UHrznGKvhVTv9NeH4RH9w6hCbHowRms3HqvVLoYiolmWuBcqebkwvtA8DTsewyhFnnzC4HEh97IW\n",
              "YXGF4ObBHn0ihiSfa/soK8PKpbOqJIkcuDexGE1vyRmHiizplDB5gQEEALOYQ7YtgdlZIflqECQ6\n",
              "awNbRLtKTc3NVWvoglpzO2z25ZeY3L1riplt1ICUABqYgAAFfQAAAFBBmiRsQn/98QBFfJ0xoniY\n",
              "DZTKzTXJVqHFN6+tACXw4/SSf+hS/zMBHjWIoAAAAwAsNcmotXZfoZ5GhP2XkoA2xCQk1s3eG2XM\n",
              "wYZMfmM6HgAAADJBnkJ4jf8EKbvsnuso7qnjIxlDLJy1LwzaP4DBg53Q9CeNlLW2H/9hfVv3VPKg\n",
              "WujCwQAAACkBnmF0Rf8FY3HhPNQWS3Z4TBoryG8wx/KsudiU53sKhbqOMvM1YKXCygAAAB4BnmNq\n",
              "Rf8AAQIMbzqql+3OOCNEz99jqZkdhv/PmXcAAAAsQZpoSahBaJlMCE///fEAAAxPpuY0TxMBsplZ\n",
              "pesjG1pDuRiD8eRTNE4CuoEAAAAeQZ6GRREsbwENBHwsF0BfspaJClc5+UZuaAC3uSUFAAAAGgGe\n",
              "pXRF/wABBSD4TzUFiPrVAoA8QQeppPLbAAAAEAGep2pF/wAAAwLWPsBw2ygAAAAVQZqsSahBbJlM\n",
              "CE///fEAAAMAACLgAAAAEkGeykUVLG8BDQR8LASTdnxNwQAAAAwBnul0Rf8AAAMAAwIAAAAMAZ7r\n",
              "akX/AAADAAMCAAAAFUGa8EmoQWyZTAhP//3xAAADAAAi4QAAABJBnw5FFSxvAQ0EfCwEk3Z8TcEA\n",
              "AAAMAZ8tdEX/AAADAAMDAAAADAGfL2pF/wAAAwADAgAAABVBmzRJqEFsmUwIT//98QAAAwAAIuAA\n",
              "AAASQZ9SRRUsbwENBHwsBJN2fE3BAAAADAGfcXRF/wAAAwADAgAAAAwBn3NqRf8AAAMAAwIAAAAV\n",
              "QZt4SahBbJlMCE///fEAAAMAACLhAAAAEkGflkUVLG8BDQR8LASTdnxNwAAAAAwBn7V0Rf8AAAMA\n",
              "AwMAAAAMAZ+3akX/AAADAAMDAAAAFUGbvEmoQWyZTAhP//3xAAADAAAi4AAAABJBn9pFFSxvAQ0E\n",
              "fCwEk3Z8TcEAAAAMAZ/5dEX/AAADAAMCAAAADAGf+2pF/wAAAwADAwAAABVBm+BJqEFsmUwIT//9\n",
              "8QAAAwAAIuEAAAASQZ4eRRUsbwENBHwsBJN2fE3AAAAADAGePXRF/wAAAwADAgAAAAwBnj9qRf8A\n",
              "AAMAAwMAAAAVQZokSahBbJlMCE///fEAAAMAACLgAAAAEkGeQkUVLG8BDQR8LASTdnxNwQAAAAwB\n",
              "nmF0Rf8AAAMAAwIAAAAMAZ5jakX/AAADAAMDAAAAFUGaaEmoQWyZTAhP//3xAAADAAAi4QAAABJB\n",
              "noZFFSxvAQ0EfCwEk3Z8TcEAAAAMAZ6ldEX/AAADAAMDAAAADAGep2pF/wAAAwADAgAAABVBmqxJ\n",
              "qEFsmUwIT//98QAAAwAAIuAAAAASQZ7KRRUsbwENBHwsBJN2fE3BAAAADAGe6XRF/wAAAwADAgAA\n",
              "AAwBnutqRf8AAAMAAwIAAAAVQZrwSahBbJlMCE///fEAAAMAACLhAAAAEkGfDkUVLG8BDQR8LAST\n",
              "dnxNwQAAAAwBny10Rf8AAAMAAwMAAAAMAZ8vakX/AAADAAMCAAAAFUGbNEmoQWyZTAhP//3xAAAD\n",
              "AAAi4AAAABJBn1JFFSxvAQ0EfCwEk3Z8TcEAAAAMAZ9xdEX/AAADAAMCAAAADAGfc2pF/wAAAwAD\n",
              "AgAAABVBm3hJqEFsmUwIT//98QAAAwAAIuEAAAASQZ+WRRUsbwENBHwsBJN2fE3AAAAADAGftXRF\n",
              "/wAAAwADAwAAAAwBn7dqRf8AAAMAAwMAAAAVQZu8SahBbJlMCE///fEAAAMAACLgAAAAEkGf2kUV\n",
              "LG8BDQR8LASTdnxNwQAAAAwBn/l0Rf8AAAMAAwIAAAAMAZ/7akX/AAADAAMDAAAAFUGb4EmoQWyZ\n",
              "TAhP//3xAAADAAAi4QAAABJBnh5FFSxvAQ0EfCwEk3Z8TcAAAAAMAZ49dEX/AAADAAMCAAAADAGe\n",
              "P2pF/wAAAwADAwAAABVBmiRJqEFsmUwIT//98QAAAwAAIuAAAAASQZ5CRRUsbwENBHwsBJN2fE3B\n",
              "AAAADAGeYXRF/wAAAwADAgAAAAwBnmNqRf8AAAMAAwMAAAAVQZpoSahBbJlMCE///fEAAAMAACLh\n",
              "AAAAEkGehkUVLG8BDQR8LASTdnxNwQAAAAwBnqV0Rf8AAAMAAwMAAAAMAZ6nakX/AAADAAMCAAAA\n",
              "FUGarEmoQWyZTAhP//3xAAADAAAi4AAAABJBnspFFSxvAQ0EfCwEk3Z8TcEAAAAMAZ7pdEX/AAAD\n",
              "AAMCAAAADAGe62pF/wAAAwADAgAAABVBmvBJqEFsmUwIT//98QAAAwAAIuEAAAASQZ8ORRUsbwEN\n",
              "BHwsBJN2fE3BAAAADAGfLXRF/wAAAwADAwAAAAwBny9qRf8AAAMAAwIAAAAVQZs0SahBbJlMCE//\n",
              "/fEAAAMAACLgAAAAEkGfUkUVLG8BDQR8LASTdnxNwQAAAAwBn3F0Rf8AAAMAAwIAAAAMAZ9zakX/\n",
              "AAADAAMCAAAAFUGbeEmoQWyZTAhP//3xAAADAAAi4QAAABJBn5ZFFSxvAQ0EfCwEk3Z8TcAAAAAM\n",
              "AZ+1dEX/AAADAAMDAAAADAGft2pF/wAAAwADAwAAABVBm7xJqEFsmUwIT//98QAAAwAAIuAAAAAS\n",
              "QZ/aRRUsbwENBHwsBJN2fE3BAAAADAGf+XRF/wAAAwADAgAAAAwBn/tqRf8AAAMAAwMAAAAVQZvg\n",
              "SahBbJlMCE///fEAAAMAACLhAAAAEkGeHkUVLG8BDQR8LASTdnxNwAAAAAwBnj10Rf8AAAMAAwIA\n",
              "AAAMAZ4/akX/AAADAAMDAAAAFUGaJEmoQWyZTAhP//3xAAADAAAi4AAAABJBnkJFFSxvAQ0EfCwE\n",
              "k3Z8TcEAAAAMAZ5hdEX/AAADAAMCAAAADAGeY2pF/wAAAwADAwAAABVBmmhJqEFsmUwIT//98QAA\n",
              "AwAAIuEAAAASQZ6GRRUsbwENBHwsBJN2fE3BAAAADAGepXRF/wAAAwADAwAAAAwBnqdqRf8AAAMA\n",
              "AwIAAAAVQZqsSahBbJlMCE///fEAAAMAACLgAAAAEkGeykUVLG8BDQR8LASTdnxNwQAAAAwBnul0\n",
              "Rf8AAAMAAwIAAAAMAZ7rakX/AAADAAMCAAAAFUGa8EmoQWyZTAhP//3xAAADAAAi4QAAABJBnw5F\n",
              "FSxvAQ0EfCwEk3Z8TcEAAAAMAZ8tdEX/AAADAAMDAAAADAGfL2pF/wAAAwADAgAAABVBmzRJqEFs\n",
              "mUwIT//98QAAAwAAIuAAAAASQZ9SRRUsbwENBHwsBJN2fE3BAAAADAGfcXRF/wAAAwADAgAAAAwB\n",
              "n3NqRf8AAAMAAwIAAAAVQZt4SahBbJlMCE///fEAAAMAACLhAAAAEkGflkUVLG8BDQR8LASTdnxN\n",
              "wAAAAAwBn7V0Rf8AAAMAAwMAAAAMAZ+3akX/AAADAAMDAAAAFUGbvEmoQWyZTAhP//3xAAADAAAi\n",
              "4AAAABJBn9pFFSxvAQ0EfCwEk3Z8TcEAAAAMAZ/5dEX/AAADAAMCAAAADAGf+2pF/wAAAwADAwAA\n",
              "ABVBm+BJqEFsmUwIT//98QAAAwAAIuEAAAASQZ4eRRUsbwENBHwsBJN2fE3AAAAADAGePXRF/wAA\n",
              "AwADAgAAAAwBnj9qRf8AAAMAAwMAAAAVQZokSahBbJlMCE///fEAAAMAACLgAAAAEkGeQkUVLG8B\n",
              "DQR8LASTdnxNwQAAAAwBnmF0Rf8AAAMAAwIAAAAMAZ5jakX/AAADAAMDAAAAFUGaaEmoQWyZTAhP\n",
              "//3xAAADAAAi4QAAABJBnoZFFSxvAQ0EfCwEk3Z8TcEAAAAMAZ6ldEX/AAADAAMDAAAADAGep2pF\n",
              "/wAAAwADAgAAABVBmqxJqEFsmUwIT//98QAAAwAAIuAAAAASQZ7KRRUsbwENBHwsBJN2fE3BAAAA\n",
              "DAGe6XRF/wAAAwADAgAAAAwBnutqRf8AAAMAAwIAAAAVQZrwSahBbJlMCE///fEAAAMAACLhAAAA\n",
              "EkGfDkUVLG8BDQR8LASTdnxNwQAAAAwBny10Rf8AAAMAAwMAAAAMAZ8vakX/AAADAAMCAAAAFUGb\n",
              "NEmoQWyZTAhP//3xAAADAAAi4AAAABJBn1JFFSxvAQ0EfCwEk3Z8TcEAAAAMAZ9xdEX/AAADAAMC\n",
              "AAAADAGfc2pF/wAAAwADAgAAABVBm3hJqEFsmUwIT//98QAAAwAAIuEAAAASQZ+WRRUsbwENBHws\n",
              "BJN2fE3AAAAADAGftXRF/wAAAwADAwAAAAwBn7dqRf8AAAMAAwMAAAAVQZu8SahBbJlMCE///fEA\n",
              "AAMAACLgAAAAEkGf2kUVLG8BDQR8LASTdnxNwQAAAAwBn/l0Rf8AAAMAAwIAAAAMAZ/7akX/AAAD\n",
              "AAMDAAAAFUGb4EmoQWyZTAhP//3xAAADAAAi4QAAABJBnh5FFSxvAQ0EfCwEk3Z8TcAAAAAMAZ49\n",
              "dEX/AAADAAMCAAAADAGeP2pF/wAAAwADAwAAABVBmiRJqEFsmUwIT//98QAAAwAAIuAAAAASQZ5C\n",
              "RRUsbwENBHwsBJN2fE3BAAAADAGeYXRF/wAAAwADAgAAAAwBnmNqRf8AAAMAAwMAAAAVQZpoSahB\n",
              "bJlMCE///fEAAAMAACLhAAAAEkGehkUVLG8BDQR8LASTdnxNwQAAAAwBnqV0Rf8AAAMAAwMAAAAM\n",
              "AZ6nakX/AAADAAMCAAAAFUGarEmoQWyZTAhP//3xAAADAAAi4AAAABJBnspFFSxvAQ0EfCwEk3Z8\n",
              "TcEAAAAMAZ7pdEX/AAADAAMCAAAADAGe62pF/wAAAwADAgAAABVBmvBJqEFsmUwIT//98QAAAwAA\n",
              "IuEAAAASQZ8ORRUsbwENBHwsBJN2fE3BAAAADAGfLXRF/wAAAwADAwAAAAwBny9qRf8AAAMAAwIA\n",
              "AAAVQZs0SahBbJlMCE///fEAAAMAACLgAAAAEkGfUkUVLG8BDQR8LASTdnxNwQAAAAwBn3F0Rf8A\n",
              "AAMAAwIAAAAMAZ9zakX/AAADAAMCAAAAFUGbeEmoQWyZTAhP//3xAAADAAAi4QAAABJBn5ZFFSxv\n",
              "AQ0EfCwEk3Z8TcAAAAAMAZ+1dEX/AAADAAMDAAAADAGft2pF/wAAAwADAwAAABVBm7xJqEFsmUwI\n",
              "T//98QAAAwAAIuAAAAASQZ/aRRUsbwENBHwsBJN2fE3BAAAADAGf+XRF/wAAAwADAgAAAAwBn/tq\n",
              "Rf8AAAMAAwMAAAAVQZvgSahBbJlMCE///fEAAAMAACLhAAAAEkGeHkUVLG8BDQR8LASTdnxNwAAA\n",
              "AAwBnj10Rf8AAAMAAwIAAAAMAZ4/akX/AAADAAMDAAAAFUGaJEmoQWyZTAhP//3xAAADAAAi4AAA\n",
              "ABJBnkJFFSxvAQ0EfCwEk3Z8TcEAAAAMAZ5hdEX/AAADAAMCAAAADAGeY2pF/wAAAwADAwAAABVB\n",
              "mmhJqEFsmUwIT//98QAAAwAAIuEAAAASQZ6GRRUsbwENBHwsBJN2fE3BAAAADAGepXRF/wAAAwAD\n",
              "AwAAAAwBnqdqRf8AAAMAAwIAAAAVQZqsSahBbJlMCE///fEAAAMAACLgAAAAEkGeykUVLG8BDQR8\n",
              "LASTdnxNwQAAAAwBnul0Rf8AAAMAAwIAAAAMAZ7rakX/AAADAAMCAAAAFUGa8EmoQWyZTAhP//3x\n",
              "AAADAAAi4QAAABJBnw5FFSxvAQ0EfCwEk3Z8TcEAAAAMAZ8tdEX/AAADAAMDAAAADAGfL2pF/wAA\n",
              "AwADAgAAABVBmzRJqEFsmUwIT//98QAAAwAAIuAAAAASQZ9SRRUsbwENBHwsBJN2fE3BAAAADAGf\n",
              "cXRF/wAAAwADAgAAAAwBn3NqRf8AAAMAAwIAAAAVQZt4SahBbJlMCE///fEAAAMAACLhAAAAEkGf\n",
              "lkUVLG8BDQR8LASTdnxNwAAAAAwBn7V0Rf8AAAMAAwMAAAAMAZ+3akX/AAADAAMDAAAAFUGbvEmo\n",
              "QWyZTAhP//3xAAADAAAi4AAAABJBn9pFFSxvAQ0EfCwEk3Z8TcEAAAAMAZ/5dEX/AAADAAMCAAAA\n",
              "DAGf+2pF/wAAAwADAwAAABVBm+BJqEFsmUwIT//98QAAAwAAIuEAAAASQZ4eRRUsbwENBHwsBJN2\n",
              "fE3AAAAADAGePXRF/wAAAwADAgAAAAwBnj9qRf8AAAMAAwMAAAAVQZokSahBbJlMCE///fEAAAMA\n",
              "ACLgAAAAEkGeQkUVLG8BDQR8LASTdnxNwQAAAAwBnmF0Rf8AAAMAAwIAAAAMAZ5jakX/AAADAAMD\n",
              "AAAAFUGaaEmoQWyZTAhP//3xAAADAAAi4QAAABJBnoZFFSxvAQ0EfCwEk3Z8TcEAAAAMAZ6ldEX/\n",
              "AAADAAMDAAAADAGep2pF/wAAAwADAgAAABVBmqxJqEFsmUwIT//98QAAAwAAIuAAAAASQZ7KRRUs\n",
              "bwENBHwsBJN2fE3BAAAADAGe6XRF/wAAAwADAgAAAAwBnutqRf8AAAMAAwIAAAAVQZrwSahBbJlM\n",
              "CE///fEAAAMAACLhAAAAEkGfDkUVLG8BDQR8LASTdnxNwQAAAAwBny10Rf8AAAMAAwMAAAAMAZ8v\n",
              "akX/AAADAAMCAAAAFUGbNEmoQWyZTAhP//3xAAADAAAi4AAAABJBn1JFFSxvAQ0EfCwEk3Z8TcEA\n",
              "AAAMAZ9xdEX/AAADAAMCAAAADAGfc2pF/wAAAwADAgAAABVBm3hJqEFsmUwIT//98QAAAwAAIuEA\n",
              "AAASQZ+WRRUsbwENBHwsBJN2fE3AAAAADAGftXRF/wAAAwADAwAAAAwBn7dqRf8AAAMAAwMAAAAT\n",
              "QZu5SahBbJlMCL/6WAAAAwABqwAAEGJliIIADP/+9uy+BTX9n9CXESzF2kpwPiqkgIB3NMAAAAMA\n",
              "AHgdKF7oOEqr0MAAG3AAfCP7cH3fxASzZ40LhBuI7VAka885PrW47ieL0Yip3dEJp0m2u6sPlhm8\n",
              "5+q+jdvQaEiWWipoz0QBNNMOO+ejP03H+Gki4uz+moKiJFGMzMeWNs3SsCa4pcngHgu91QE05vT7\n",
              "2d5flBMkLwSAEqk88ATvT6O8nDVob1YyJ3aYsjyqtqaIDRg7XgUN7hmS3T6OBdizvpkW11zpi0o8\n",
              "IlYFsJHsILpAXejX9AYuVkPn9WJw6afaR+fPWT0yJOtU5Mlx8wXBg2nx8PyuA1vvlOj5Z54zW8Um\n",
              "HNe0nLiB4Vr29QPySbqk8l9h9BXi9AoRbkDIa6W4UqHvbXQqyy2Mh9ONocz7g+9mz9Z40A05T9Xz\n",
              "q7pGvAnfcpG5Zbgups4RU70yDpuXjw6Eo5xNpuoAAC2gOiZCqSkfKf+0qJnoRLCXx/++7um1c1p3\n",
              "TIlOPijit6nTCj4zkgXf7YMLnOo524W5To7dEbOzGtxAGTJilRzD3hta5KRK2VfhshEafBdKmc9k\n",
              "cQn8rZ5KiKzUW/9LSPNrhL6JCe9TkKp2FZr6co7s4XHUeayoACyAx9oW7WIxir/pNTtje4BQAhQz\n",
              "VSd5iXabzfj3RIHyLwWFxAXDgz7Bh6rrrYHQNNmr8qFg1EAODi3Cf4eTdj2dlAUNMXHrbFz3rjv6\n",
              "GSyLksXy4xxtXQ6SJvLpQdXREls6PKFys+Fcx8Egfu6hRYNX92BVACY0yeywkbuD+7JfSlfB/wdc\n",
              "uqR6yIm+ZRLph3Z4rFCfXuv2Jqdo903xVl85QDIughj0Q1sPQqogXirf8hU9P6Ip0oXh4PXn0//W\n",
              "6xX4vbdAA+71LNSRRyZ5SRPVolJzDi1nyXifEV/FeAZaFB/fREPnxGYjWhLEF09XWUdvJ8Gl6iFP\n",
              "RQ/hXpZm6tq+WoTqL0KljxiyrrP40xOKMJsKWB/kpx9VuidJfc31lLYjOc+GnONnsieGEqFAOzCm\n",
              "9mnMf+COaZrVq+/hC19k2y/6AsOFZj/jffxqBjyW1bFfs0lGWPI2AQt7/+TKw6jNHdc/HaTGQb5/\n",
              "uVTZWjmHVX0oSdHE0irNeLZqYVm7vo3LHUlAEnvp59ED+HL68nJoGye1Dzep0D5bcwdpL1MlICsO\n",
              "e2gF5WmeACIN2rxt6s44e+HgG+94TIU/M9tftLjNWCK4O0r9PHeRm2N0W7DTFTUZ0d0DlYI8ncM/\n",
              "NcvGe1vI+ibx7t8u2QDB67IyELND9oC+yFDOeEKMpGE8jLF4jri1qicjjyZxyygJfzArwV9qol9g\n",
              "P++VUB16MfWTg+D++iIQO0Wn5pQ59+myrz3DN/J+6oHCJ0QX6YnsBOwW+fKyBp1We9qdSv3SVEBk\n",
              "Ea2lJA2qui4+KqSkUDT+1BZVxw0VW5ZFQMYZ5dJ0+juoQJ0hIEtRnY1ZEZjlIYm06W3QR3vx0jze\n",
              "9aWP0nlKUXzg6UBwTQvz4mgsl8pHEs3jyvPH5HzSdo/bWtUjpOSUmi9qybBS1/QUgv6ED+K2kUvu\n",
              "RDY/iz22l5q/7ENRD+US/1xity1XpNlU1MlrhejY4im9bMB8C+b5v/x/xou2/liT0qrq/yH79dsj\n",
              "9XjizgaDfRFUGR2kZBJL7r/oNRsqVgapueq7oUlRospiw/gK6hs/0rlVukQET9ofw+j8LsNQtOKB\n",
              "0FNegWuvOlKLv7Dzakni/PRSkLXtcYwCXJeTv6zIxjeFjhCpxr0KI1YL0ZqlOYvt5oaKJGHETAS2\n",
              "f+Xp1axeBwc9YzzflClaXny+xP0nHXgkoAKI8LnJ9RwDwy1vD+To0KQEt2H3smE6vRLpshtiZRMw\n",
              "1W5umSrochEoTHspByQxNxGaLGgAZkgftxpQ8kCSmyQDHxdI9iwqsgHe9iCkq2njYurDmcmfJhC9\n",
              "a+MhxWi7nrvYTykrYHlGaMnfxcpzmkrxNhF/maoFKNWJHw/4GmKkilqpSPNc3SuIYb903M0kM8/r\n",
              "HZHC3cLpuq2LsZx1iko3QGG/Fcy84bgjh6c8/MXDjDIB9ZZZ9ds8vXS7S/pB+e1yQU8k9g2WFT5o\n",
              "dCoLzld1/bLl3dVUQWu9ZZpqG4jWYQaDllAwUJfCnGdJWlsnQkcMCgwc/NooIU38mZ4tv+ReNIo6\n",
              "L6QxcJztgrJWYEF+sda8CXDxDDatQK1CSm850ZJ5z9rQ6D4C4eOV8wfRYANKEO+/TIHFy3+QJHrA\n",
              "0UvqGGVJns5zeqHLKyYjNLX4yONxJqSu4HPdAMiOwrA4zHDpNsE+xKm2XwP3uufCWJKwIizJhRYE\n",
              "BY90pTUgIFKw2f+OR3LXTLivVDkk3P9e0oSMHX6qbBPtze3yWLustd5AZ886lruNtbeNm5CrwYxe\n",
              "FiRPGbbcLahWqquqZKk5ne592lTgBTHXpGvlpTjEGlSgTgYGTWxr5Cihthqak2W4pmAUqNV/jNc9\n",
              "5oM74D+uQR/R541T2F199wsaa4vZMzNdNWyDZ377UN6Mefv73ufMCdrLqGb8LVXFOZ+PImHA9Cd9\n",
              "PJiLDv76o4+AWU2mY+yzufSGscmEaAW613KF8TuP8NpRRyOHIYJogAAD5ko5sQc4y7MlWDKtqYpU\n",
              "fTjIIVtH4NwQIejEjyvwBDiz2G6CVBjGBk9cpn4HBIfKDuwLzwfZOpOEkd9ZPU4psixgyOJAH5TL\n",
              "lFJnJxtsV7PbRo6AmWryrsgt8YV93Wc6H8aD7y5Wg2EzGePPUHxT+F4hxxYlD3zSdr4p0ITxXFjm\n",
              "K5maT3YNMNLVHDBvHe0AxmJZCeNbybPDp+kYlFID8RNwsw0+vflm4oH95QHN8/lcGq+s8BuKHu1q\n",
              "N70CrgCIepNlc0jYzxW/ycYPu/kBgys3u6aX1TKXeBnelre2ELOs6RiG0RIY4CQvjCFuYA4a//q7\n",
              "UI6Udtewow/gYmJblnn01qK6z+WQxWBYlaAAin1rVortaUg34ulYepPX0MfjUjy7SAkixXYsahl3\n",
              "Lf7n7ShRev7C3NSBcFg9RaWGXoPJWtJMPSkb6NfHWnRArrgcjY4hAOzoH25FEEuug3aWFDRz0O1U\n",
              "sXIZYPwZGlElLwb2CQBRxzHBn/3mGQf8xvyqU2fKPqYvZ0gy48yrgizGaO4NbUi6GBqM+NOIEwjd\n",
              "DmoHdHOq9HWRlQ6Mk/V4uX4B85vghNzC1TeEnypuYUUrZj6b3EZHMcL0Q3cYAbSRIWPqhUFs9yof\n",
              "cuV9QrqdJELFTt4pK82v/2h7slhU+nqHjO/ZYkfSbFzUQsWQYw3BdadW1IpQx2xOgCSEqE0CHpjf\n",
              "rFjc2dRu1MAXIja/jfLPPI3m+711jtPgkBKa1PKYKgH3TVy6KESRyH11keCLPIBdbiq0j/P2aZBl\n",
              "L2Dvx3VYeW989CZc3Qj3sChBey3Hogwqzp4Aanj/F+GOGzeXC5lbFhNGxyvFFPRPaJFHK+0QHuEz\n",
              "ILsA2no5ck4xRDlkctxhvQO8VCB/SuHSDkIzKYZG/IS9DM0s5aEku8TJlCISAKPOyeUHj7eDNcpr\n",
              "yivFKwh04qoLHP0/ZZvUGV92+dFHhUv0hJeUUrem72xBkv9yT+2LUcY+Dx1W2kVDG+vv4PBcrD19\n",
              "uSuA+xBMzdynWzjq5Gvkd2uGu3EQc/IAxRSvnoJHXmfBDb9yInRXGMkuX7War0/gqRl/iVFglQlf\n",
              "HtcW+AIGrBbxogjSukaJfqINGQBD//2gpJc//8mg7g6CrYqIPwiJJsyBBNAmb3EmPf/rtD9K6gQZ\n",
              "Zl5GqfIWKHNIUb8lZBlrHNA2CbpjW7Th+/5+6PtwmVYnXnJ7C4MlsyJ2aiSJ+JZzuvEz8H2iO4mq\n",
              "MI/s6ZU51ef+hzoIBwtHXWqIRxNsKAGTh8bp8l1aIdSurYr0u/SzFmZsuj7mtVIjAomNBUBGIf71\n",
              "d76e4Lvzj7GrtN+Uyc2nZCHKDAet7jIlMns38/n2sfKC53IqAABpw9ht7RpChYLJsS/vL8vu4Rjk\n",
              "cfsifp08bXAz8BHwAT+ES5lEDrhoRmjsriVRhkzlqZbnRNtDvW9x3RLH4aQ1l51u2drY0wMnPamE\n",
              "xcuRvwPy+q86hpRdcWL7N/ljjRpn+j1PekKkenVIfIRM4X5Guw0FMV1UykeyyZnygSaax+lrKLmJ\n",
              "inX+S3M/FHcJ17V2lg7P5P7xoGdf42uvFUu4FzLu61n2QUWuI6SfpXHgJ6XItLBLiFXS5j+/fL0b\n",
              "v2Hhy35ESOl1ctzeBRDUJQRaoObuo3gQv3YwIjGCagUHDX2EZUAhyetoJ4Sd7BT5/o6H7VidgxvJ\n",
              "5AMzDuV5TDc7tSSuuSyKyj6a9flbkyO5aYEGw+51rmrArYaVizLBxwe9g+jy/IsZ9oDCmJ0q2k2C\n",
              "oAYaR1ueQZLYyCx3sQ0m2pPjH5lpoV0bZVYJYqM2rZTqG3FHhYlC2aDc6hpOXCcLn5pq0BcCJmeh\n",
              "V6hIuQoQ4zn/iKtOgl9Xfx/BP5CoqSrI0OofO01PfIOy7TA7YCWUrXR9Ltq0KtAbmcxMK4qv1lAh\n",
              "tSYlM69I+I8A+BFW8DJPWie5fY3B/zl7npJVXXdYoQGMZ59u4OHGzSy04LC6ojTaTcbSTx+BPqgb\n",
              "eWfhuEmFQC+bpPYvQTkoReSTWTAclrZuf+q0O3o+tSnqWrNqEHAVgZ9SUHFTYKoBThUlI3zwI7xr\n",
              "VlklW30C3Ky7/G1mb1aI5k50oeDdXxiqwARLRqYy9LgsFDymiNnwN8hAM0fm/GSdwyt0UoUc/VBT\n",
              "HSIXhIPVj8JPbOHsADU6Ma0Q1NWFIKlP86rKSzo68WR6zCwvU0u2d6lb9zgQCcmsms65fJnQonHn\n",
              "uWspjLqSqUC/i3qUKf/gy1xJuVzGArYiMyKskNvu7tDPaiu3+sDjW9OULwITYE/PcN2HVOKWaDxQ\n",
              "avQetUKtKu2bIXkCTu1l0j1Kjkz4oerh4bqr6Vpp9p90eIiO6aFYlUsdCswLAvOswcBN4eq7stlg\n",
              "ekjYnqs0N6Z3L0wThv0sN3YAojIWTv+hKIUdh0M2XX0pCwaggH1r4urAOlPghyqxAhOf1hpo1w/m\n",
              "5r/tt2sgd/qPAfV3hRunGXKAfiIYosc3dXx5zYYKOR2FHk0XNlt+yZyqQXJ8B0HVHt59knOouMfO\n",
              "atuwG9bp+67dT9/c0zfM2zsLxillP9FWdcn+kBMuCMFFxxz3BdP26xeQkOAdPY4W39H653ew69IF\n",
              "ATK60lONsBjehonAs8af0J7Wn5IUoK0X3kAABCL5hxDqL76yEz0CDNqJMrUWexwC9XHUsfRLiufd\n",
              "KhwMRatcSEefFVNZ5qFQPdGi9Fx1FLz/2n7SjfU9SizCz2oN1hZMG7HUNqeZ2wLBdzwIYYV5QE5a\n",
              "VpWnm6wsXDAJmML3AChA1+JJbHm6SXAEXNScTrCNjG2Jseu0n+uYaLZAywexE5elShvSNSUaDMQt\n",
              "zZCQ7mVviiu8amd98VFtKHRJ7E/nnTReOhAaFk9vfQ24xB6AZNvRzU6WTsq04vQXE1rYazz3wA2h\n",
              "nq/MSTEJNaVTeSaQlVsPKFQjY8CZ9MWeQYq9/Jhh0JTVvP3BOdT1tdFqIa2wTeYU4AK0uMAwYScA\n",
              "AAAeQZokbEJ//fEAAAMAIN8A3hTsa6AHbkkI9ydiHPjSAAAAEEGeQniN/wAAAwI65yQW5JUAAAAP\n",
              "AZ5hdEX/AAADAtbjaMyBAAAADgGeY2pF/wAAAwLWPq/mAAAAFUGaaEmoQWiZTAhP//3xAAADAAAi\n",
              "4AAAAA1BnoZFESxvAAADAAJfAAAADAGepXRF/wAAAwADAgAAAAwBnqdqRf8AAAMAAwMAAAAVQZqs\n",
              "SahBbJlMCE///fEAAAMAACLgAAAADUGeykUVLG8AAAMAAl8AAAAMAZ7pdEX/AAADAAMDAAAADAGe\n",
              "62pF/wAAAwADAwAAABVBmvBJqEFsmUwIT//98QAAAwAAIuEAAAANQZ8ORRUsbwAAAwACXgAAAAwB\n",
              "ny10Rf8AAAMAAwIAAAAMAZ8vakX/AAADAAMDAAAAFUGbNEmoQWyZTAhP//3xAAADAAAi4AAAAA1B\n",
              "n1JFFSxvAAADAAJeAAAADAGfcXRF/wAAAwADAwAAAAwBn3NqRf8AAAMAAwMAAAAVQZt4SahBbJlM\n",
              "CE///fEAAAMAACLhAAAADUGflkUVLG8AAAMAAl4AAAAMAZ+1dEX/AAADAAMCAAAADAGft2pF/wAA\n",
              "AwADAwAAABVBm7xJqEFsmUwIT//98QAAAwAAIuAAAAANQZ/aRRUsbwAAAwACXgAAAAwBn/l0Rf8A\n",
              "AAMAAwMAAAAMAZ/7akX/AAADAAMCAAAAFUGb4EmoQWyZTAhP//3xAAADAAAi4QAAAA1Bnh5FFSxv\n",
              "AAADAAJfAAAADAGePXRF/wAAAwADAgAAAAwBnj9qRf8AAAMAAwMAAAAVQZokSahBbJlMCE///fEA\n",
              "AAMAACLgAAAADUGeQkUVLG8AAAMAAl8AAAAMAZ5hdEX/AAADAAMDAAAADAGeY2pF/wAAAwADAgAA\n",
              "ABVBmmhJqEFsmUwIT//98QAAAwAAIuAAAAANQZ6GRRUsbwAAAwACXwAAAAwBnqV0Rf8AAAMAAwIA\n",
              "AAAMAZ6nakX/AAADAAMDAAAAFUGarEmoQWyZTAhP//3xAAADAAAi4AAAAA1BnspFFSxvAAADAAJf\n",
              "AAAADAGe6XRF/wAAAwADAwAAAAwBnutqRf8AAAMAAwMAAAAVQZrwSahBbJlMCE///fEAAAMAACLh\n",
              "AAAADUGfDkUVLG8AAAMAAl4AAAAMAZ8tdEX/AAADAAMCAAAADAGfL2pF/wAAAwADAwAAABVBmzRJ\n",
              "qEFsmUwIT//98QAAAwAAIuAAAAANQZ9SRRUsbwAAAwACXgAAAAwBn3F0Rf8AAAMAAwMAAAAMAZ9z\n",
              "akX/AAADAAMDAAAAFUGbeEmoQWyZTAhP//3xAAADAAAi4QAAAA1Bn5ZFFSxvAAADAAJeAAAADAGf\n",
              "tXRF/wAAAwADAgAAAAwBn7dqRf8AAAMAAwMAAAAVQZu8SahBbJlMCE///fEAAAMAACLgAAAADUGf\n",
              "2kUVLG8AAAMAAl4AAAAMAZ/5dEX/AAADAAMDAAAADAGf+2pF/wAAAwADAgAAABVBm+BJqEFsmUwI\n",
              "T//98QAAAwAAIuEAAAANQZ4eRRUsbwAAAwACXwAAAAwBnj10Rf8AAAMAAwIAAAAMAZ4/akX/AAAD\n",
              "AAMDAAAAFUGaJEmoQWyZTAhP//3xAAADAAAi4AAAAA1BnkJFFSxvAAADAAJfAAAADAGeYXRF/wAA\n",
              "AwADAwAAAAwBnmNqRf8AAAMAAwIAAAAVQZpoSahBbJlMCE///fEAAAMAACLgAAAADUGehkUVLG8A\n",
              "AAMAAl8AAAAMAZ6ldEX/AAADAAMCAAAADAGep2pF/wAAAwADAwAAABVBmqxJqEFsmUwIT//98QAA\n",
              "AwAAIuAAAAANQZ7KRRUsbwAAAwACXwAAAAwBnul0Rf8AAAMAAwMAAAAMAZ7rakX/AAADAAMDAAAA\n",
              "FUGa8EmoQWyZTAhP//3xAAADAAAi4QAAAA1Bnw5FFSxvAAADAAJeAAAADAGfLXRF/wAAAwADAgAA\n",
              "AAwBny9qRf8AAAMAAwMAAAAVQZs0SahBbJlMCE///fEAAAMAACLgAAAADUGfUkUVLG8AAAMAAl4A\n",
              "AAAMAZ9xdEX/AAADAAMDAAAADAGfc2pF/wAAAwADAwAAABVBm3hJqEFsmUwIT//98QAAAwAAIuEA\n",
              "AAANQZ+WRRUsbwAAAwACXgAAAAwBn7V0Rf8AAAMAAwIAAAAMAZ+3akX/AAADAAMDAAAAFUGbvEmo\n",
              "QWyZTAhP//3xAAADAAAi4AAAAA1Bn9pFFSxvAAADAAJeAAAADAGf+XRF/wAAAwADAwAAAAwBn/tq\n",
              "Rf8AAAMAAwIAAAAVQZvgSahBbJlMCE///fEAAAMAACLhAAAADUGeHkUVLG8AAAMAAl8AAAAMAZ49\n",
              "dEX/AAADAAMCAAAADAGeP2pF/wAAAwADAwAAABVBmiRJqEFsmUwIT//98QAAAwAAIuAAAAANQZ5C\n",
              "RRUsbwAAAwACXwAAAAwBnmF0Rf8AAAMAAwMAAAAMAZ5jakX/AAADAAMCAAAAFUGaaEmoQWyZTAhP\n",
              "//3xAAADAAAi4AAAAA1BnoZFFSxvAAADAAJfAAAADAGepXRF/wAAAwADAgAAAAwBnqdqRf8AAAMA\n",
              "AwMAAAAVQZqsSahBbJlMCE///fEAAAMAACLgAAAADUGeykUVLG8AAAMAAl8AAAAMAZ7pdEX/AAAD\n",
              "AAMDAAAADAGe62pF/wAAAwADAwAAABVBmvBJqEFsmUwIT//98QAAAwAAIuEAAAANQZ8ORRUsbwAA\n",
              "AwACXgAAAAwBny10Rf8AAAMAAwIAAAAMAZ8vakX/AAADAAMDAAAAFUGbNEmoQWyZTAhP//3xAAAD\n",
              "AAAi4AAAAA1Bn1JFFSxvAAADAAJeAAAADAGfcXRF/wAAAwADAwAAAAwBn3NqRf8AAAMAAwMAAAAV\n",
              "QZt4SahBbJlMCE///fEAAAMAACLhAAAADUGflkUVLG8AAAMAAl4AAAAMAZ+1dEX/AAADAAMCAAAA\n",
              "DAGft2pF/wAAAwADAwAAABVBm7xJqEFsmUwIT//98QAAAwAAIuAAAAANQZ/aRRUsbwAAAwACXgAA\n",
              "AAwBn/l0Rf8AAAMAAwMAAAAMAZ/7akX/AAADAAMCAAAAFUGb4EmoQWyZTAhP//3xAAADAAAi4QAA\n",
              "AA1Bnh5FFSxvAAADAAJfAAAADAGePXRF/wAAAwADAgAAAAwBnj9qRf8AAAMAAwMAAAAVQZokSahB\n",
              "bJlMCE///fEAAAMAACLgAAAADUGeQkUVLG8AAAMAAl8AAAAMAZ5hdEX/AAADAAMDAAAADAGeY2pF\n",
              "/wAAAwADAgAAABVBmmhJqEFsmUwIT//98QAAAwAAIuAAAAANQZ6GRRUsbwAAAwACXwAAAAwBnqV0\n",
              "Rf8AAAMAAwIAAAAMAZ6nakX/AAADAAMDAAAAFUGarEmoQWyZTAhP//3xAAADAAAi4AAAAA1BnspF\n",
              "FSxvAAADAAJfAAAADAGe6XRF/wAAAwADAwAAAAwBnutqRf8AAAMAAwMAAAAVQZrwSahBbJlMCEf/\n",
              "/eEAAAMAADehAAAADUGfDkUVLG8AAAMAAl4AAAAMAZ8tdEX/AAADAAMCAAAADAGfL2pF/wAAAwAD\n",
              "AwAAABNBmzRJqEFsmUwI3/pYAAADAAGrAAAADUGfUkUVLG8AAAMAAl4AAAAMAZ9xdEX/AAADAAMD\n",
              "AAAADAGfc2pF/wAAAwADAwAAABNBm3VJqEFsmUwIv/pYAAADAAGrAAAV6W1vb3YAAABsbXZoZAAA\n",
              "AAAAAAAAAAAAAAAAA+gAAAfQAAEAAAEAAAAAAAAAAAAAAAABAAAAAAAAAAAAAAAAAAAAAQAAAAAA\n",
              "AAAAAAAAAAAAQAAAAAAAAAAAAAAAAAAAAAAAAAAAAAAAAAAAAAAAAAIAABUTdHJhawAAAFx0a2hk\n",
              "AAAAAwAAAAAAAAAAAAAAAQAAAAAAAAfQAAAAAAAAAAAAAAAAAAAAAAABAAAAAAAAAAAAAAAAAAAA\n",
              "AQAAAAAAAAAAAAAAAAAAQAAAAAGwAAABsAAAAAAAJGVkdHMAAAAcZWxzdAAAAAAAAAABAAAH0AAA\n",
              "AIAAAQAAAAAUi21kaWEAAAAgbWRoZAAAAAAAAAAAAAAAAAAAMgAAAGQAVcQAAAAAAC1oZGxyAAAA\n",
              "AAAAAAB2aWRlAAAAAAAAAAAAAAAAVmlkZW9IYW5kbGVyAAAAFDZtaW5mAAAAFHZtaGQAAAABAAAA\n",
              "AAAAAAAAAAAkZGluZgAAABxkcmVmAAAAAAAAAAEAAAAMdXJsIAAAAAEAABP2c3RibAAAALJzdHNk\n",
              "AAAAAAAAAAEAAACiYXZjMQAAAAAAAAABAAAAAAAAAAAAAAAAAAAAAAGwAbAASAAAAEgAAAAAAAAA\n",
              "AQAAAAAAAAAAAAAAAAAAAAAAAAAAAAAAAAAAAAAAAAAAABj//wAAADBhdmNDAWQAIP/hABdnZAAg\n",
              "rNlBsN6EAAADAAQAAAZAPGDGWAEABmjr48siwAAAABx1dWlka2hA8l8kT8W6OaUbzwMj8wAAAAAA\n",
              "AAAYc3R0cwAAAAAAAAABAAABkAAAAEAAAAAYc3RzcwAAAAAAAAACAAAAAQAAAPsAAAyIY3R0cwAA\n",
              "AAAAAAGPAAAAAQAAAIAAAAABAAABQAAAAAEAAACAAAAAAQAAAAAAAAABAAAAQAAAAAEAAAFAAAAA\n",
              "AQAAAIAAAAABAAAAAAAAAAEAAABAAAAAAQAAAUAAAAABAAAAgAAAAAEAAAAAAAAAAQAAAEAAAAAB\n",
              "AAABQAAAAAEAAACAAAAAAQAAAAAAAAABAAAAQAAAAAEAAAFAAAAAAQAAAIAAAAABAAAAAAAAAAEA\n",
              "AABAAAAAAQAAAUAAAAABAAAAgAAAAAEAAAAAAAAAAQAAAEAAAAABAAABQAAAAAEAAACAAAAAAQAA\n",
              "AAAAAAABAAAAQAAAAAEAAAFAAAAAAQAAAIAAAAABAAAAAAAAAAEAAABAAAAAAQAAAUAAAAABAAAA\n",
              "gAAAAAEAAAAAAAAAAQAAAEAAAAABAAABQAAAAAEAAACAAAAAAQAAAAAAAAABAAAAQAAAAAEAAAFA\n",
              "AAAAAQAAAIAAAAABAAAAAAAAAAEAAABAAAAAAQAAAUAAAAABAAAAgAAAAAEAAAAAAAAAAQAAAEAA\n",
              "AAABAAABQAAAAAEAAACAAAAAAQAAAAAAAAABAAAAQAAAAAEAAAFAAAAAAQAAAIAAAAABAAAAAAAA\n",
              "AAEAAABAAAAAAQAAAUAAAAABAAAAgAAAAAEAAAAAAAAAAQAAAEAAAAABAAABQAAAAAEAAACAAAAA\n",
              "AQAAAAAAAAABAAAAQAAAAAEAAAFAAAAAAQAAAIAAAAABAAAAAAAAAAEAAABAAAAAAQAAAUAAAAAB\n",
              "AAAAgAAAAAEAAAAAAAAAAQAAAEAAAAABAAABQAAAAAEAAACAAAAAAQAAAAAAAAABAAAAQAAAAAEA\n",
              "AAFAAAAAAQAAAIAAAAABAAAAAAAAAAEAAABAAAAAAQAAAUAAAAABAAAAgAAAAAEAAAAAAAAAAQAA\n",
              "AEAAAAABAAABQAAAAAEAAACAAAAAAQAAAAAAAAABAAAAQAAAAAEAAAFAAAAAAQAAAIAAAAABAAAA\n",
              "AAAAAAEAAABAAAAAAQAAAUAAAAABAAAAgAAAAAEAAAAAAAAAAQAAAEAAAAABAAABQAAAAAEAAACA\n",
              "AAAAAQAAAAAAAAABAAAAQAAAAAEAAAFAAAAAAQAAAIAAAAABAAAAAAAAAAEAAABAAAAAAQAAAUAA\n",
              "AAABAAAAgAAAAAEAAAAAAAAAAQAAAEAAAAABAAABQAAAAAEAAACAAAAAAQAAAAAAAAABAAAAQAAA\n",
              "AAEAAAFAAAAAAQAAAIAAAAABAAAAAAAAAAEAAABAAAAAAQAAAUAAAAABAAAAgAAAAAEAAAAAAAAA\n",
              "AQAAAEAAAAABAAABQAAAAAEAAACAAAAAAQAAAAAAAAABAAAAQAAAAAEAAAFAAAAAAQAAAIAAAAAB\n",
              "AAAAAAAAAAEAAABAAAAAAQAAAUAAAAABAAAAgAAAAAEAAAAAAAAAAQAAAEAAAAABAAABQAAAAAEA\n",
              "AACAAAAAAQAAAAAAAAABAAAAQAAAAAEAAAFAAAAAAQAAAIAAAAABAAAAAAAAAAEAAABAAAAAAQAA\n",
              "AUAAAAABAAAAgAAAAAEAAAAAAAAAAQAAAEAAAAABAAABQAAAAAEAAACAAAAAAQAAAAAAAAABAAAA\n",
              "QAAAAAEAAAFAAAAAAQAAAIAAAAABAAAAAAAAAAEAAABAAAAAAQAAAUAAAAABAAAAgAAAAAEAAAAA\n",
              "AAAAAQAAAEAAAAABAAABQAAAAAEAAACAAAAAAQAAAAAAAAABAAAAQAAAAAEAAAFAAAAAAQAAAIAA\n",
              "AAABAAAAAAAAAAEAAABAAAAAAQAAAUAAAAABAAAAgAAAAAEAAAAAAAAAAQAAAEAAAAABAAABQAAA\n",
              "AAEAAACAAAAAAQAAAAAAAAABAAAAQAAAAAEAAAFAAAAAAQAAAIAAAAABAAAAAAAAAAEAAABAAAAA\n",
              "AQAAAUAAAAABAAAAgAAAAAEAAAAAAAAAAQAAAEAAAAABAAABQAAAAAEAAACAAAAAAQAAAAAAAAAB\n",
              "AAAAQAAAAAEAAAFAAAAAAQAAAIAAAAABAAAAAAAAAAEAAABAAAAAAQAAAUAAAAABAAAAgAAAAAEA\n",
              "AAAAAAAAAQAAAEAAAAABAAABQAAAAAEAAACAAAAAAQAAAAAAAAABAAAAQAAAAAEAAAFAAAAAAQAA\n",
              "AIAAAAABAAAAAAAAAAEAAABAAAAAAQAAAUAAAAABAAAAgAAAAAEAAAAAAAAAAQAAAEAAAAABAAAB\n",
              "QAAAAAEAAACAAAAAAQAAAAAAAAABAAAAQAAAAAEAAAFAAAAAAQAAAIAAAAABAAAAAAAAAAEAAABA\n",
              "AAAAAQAAAUAAAAABAAAAgAAAAAEAAAAAAAAAAQAAAEAAAAABAAABQAAAAAEAAACAAAAAAQAAAAAA\n",
              "AAABAAAAQAAAAAEAAAFAAAAAAQAAAIAAAAABAAAAAAAAAAEAAABAAAAAAQAAAUAAAAABAAAAgAAA\n",
              "AAEAAAAAAAAAAQAAAEAAAAABAAABQAAAAAEAAACAAAAAAQAAAAAAAAABAAAAQAAAAAEAAAFAAAAA\n",
              "AQAAAIAAAAABAAAAAAAAAAEAAABAAAAAAQAAAUAAAAABAAAAgAAAAAEAAAAAAAAAAQAAAEAAAAAB\n",
              "AAABQAAAAAEAAACAAAAAAQAAAAAAAAABAAAAQAAAAAEAAAFAAAAAAQAAAIAAAAABAAAAAAAAAAEA\n",
              "AABAAAAAAgAAAIAAAAABAAABQAAAAAEAAACAAAAAAQAAAAAAAAABAAAAQAAAAAEAAAFAAAAAAQAA\n",
              "AIAAAAABAAAAAAAAAAEAAABAAAAAAQAAAUAAAAABAAAAgAAAAAEAAAAAAAAAAQAAAEAAAAABAAAB\n",
              "QAAAAAEAAACAAAAAAQAAAAAAAAABAAAAQAAAAAEAAAFAAAAAAQAAAIAAAAABAAAAAAAAAAEAAABA\n",
              "AAAAAQAAAUAAAAABAAAAgAAAAAEAAAAAAAAAAQAAAEAAAAABAAABQAAAAAEAAACAAAAAAQAAAAAA\n",
              "AAABAAAAQAAAAAEAAAFAAAAAAQAAAIAAAAABAAAAAAAAAAEAAABAAAAAAQAAAUAAAAABAAAAgAAA\n",
              "AAEAAAAAAAAAAQAAAEAAAAABAAABQAAAAAEAAACAAAAAAQAAAAAAAAABAAAAQAAAAAEAAAFAAAAA\n",
              "AQAAAIAAAAABAAAAAAAAAAEAAABAAAAAAQAAAUAAAAABAAAAgAAAAAEAAAAAAAAAAQAAAEAAAAAB\n",
              "AAABQAAAAAEAAACAAAAAAQAAAAAAAAABAAAAQAAAAAEAAAFAAAAAAQAAAIAAAAABAAAAAAAAAAEA\n",
              "AABAAAAAAQAAAUAAAAABAAAAgAAAAAEAAAAAAAAAAQAAAEAAAAABAAABQAAAAAEAAACAAAAAAQAA\n",
              "AAAAAAABAAAAQAAAAAEAAAFAAAAAAQAAAIAAAAABAAAAAAAAAAEAAABAAAAAAQAAAUAAAAABAAAA\n",
              "gAAAAAEAAAAAAAAAAQAAAEAAAAABAAABQAAAAAEAAACAAAAAAQAAAAAAAAABAAAAQAAAAAEAAAFA\n",
              "AAAAAQAAAIAAAAABAAAAAAAAAAEAAABAAAAAAQAAAUAAAAABAAAAgAAAAAEAAAAAAAAAAQAAAEAA\n",
              "AAABAAABQAAAAAEAAACAAAAAAQAAAAAAAAABAAAAQAAAAAEAAAFAAAAAAQAAAIAAAAABAAAAAAAA\n",
              "AAEAAABAAAAAAQAAAUAAAAABAAAAgAAAAAEAAAAAAAAAAQAAAEAAAAABAAABQAAAAAEAAACAAAAA\n",
              "AQAAAAAAAAABAAAAQAAAAAEAAAFAAAAAAQAAAIAAAAABAAAAAAAAAAEAAABAAAAAAQAAAUAAAAAB\n",
              "AAAAgAAAAAEAAAAAAAAAAQAAAEAAAAABAAABQAAAAAEAAACAAAAAAQAAAAAAAAABAAAAQAAAAAEA\n",
              "AAFAAAAAAQAAAIAAAAABAAAAAAAAAAEAAABAAAAAAQAAAUAAAAABAAAAgAAAAAEAAAAAAAAAAQAA\n",
              "AEAAAAABAAABQAAAAAEAAACAAAAAAQAAAAAAAAABAAAAQAAAAAEAAAFAAAAAAQAAAIAAAAABAAAA\n",
              "AAAAAAEAAABAAAAAAQAAAUAAAAABAAAAgAAAAAEAAAAAAAAAAQAAAEAAAAABAAABQAAAAAEAAACA\n",
              "AAAAAQAAAAAAAAABAAAAQAAAAAEAAAFAAAAAAQAAAIAAAAABAAAAAAAAAAEAAABAAAAAAQAAAUAA\n",
              "AAABAAAAgAAAAAEAAAAAAAAAAQAAAEAAAAABAAABQAAAAAEAAACAAAAAAQAAAAAAAAABAAAAQAAA\n",
              "AAEAAACAAAAAHHN0c2MAAAAAAAAAAQAAAAEAAAGQAAAAAQAABlRzdHN6AAAAAAAAAAAAAAGQAAAR\n",
              "kAAAAFQAAAA2AAAALQAAACIAAAAwAAAAIgAAAB4AAAAUAAAAGQAAABYAAAAQAAAAEAAAABkAAAAW\n",
              "AAAAEAAAABAAAAAZAAAAFgAAABAAAAAQAAAAGQAAABYAAAAQAAAAEAAAABkAAAAWAAAAEAAAABAA\n",
              "AAAZAAAAFgAAABAAAAAQAAAAGQAAABYAAAAQAAAAEAAAABkAAAAWAAAAEAAAABAAAAAZAAAAFgAA\n",
              "ABAAAAAQAAAAGQAAABYAAAAQAAAAEAAAABkAAAAWAAAAEAAAABAAAAAZAAAAFgAAABAAAAAQAAAA\n",
              "GQAAABYAAAAQAAAAEAAAABkAAAAWAAAAEAAAABAAAAAZAAAAFgAAABAAAAAQAAAAGQAAABYAAAAQ\n",
              "AAAAEAAAABkAAAAWAAAAEAAAABAAAAAZAAAAFgAAABAAAAAQAAAAGQAAABYAAAAQAAAAEAAAABkA\n",
              "AAAWAAAAEAAAABAAAAAZAAAAFgAAABAAAAAQAAAAGQAAABYAAAAQAAAAEAAAABkAAAAWAAAAEAAA\n",
              "ABAAAAAZAAAAFgAAABAAAAAQAAAAGQAAABYAAAAQAAAAEAAAABkAAAAWAAAAEAAAABAAAAAZAAAA\n",
              "FgAAABAAAAAQAAAAGQAAABYAAAAQAAAAEAAAABkAAAAWAAAAEAAAABAAAAAZAAAAFgAAABAAAAAQ\n",
              "AAAAGQAAABYAAAAQAAAAEAAAABkAAAAWAAAAEAAAABAAAAAZAAAAFgAAABAAAAAQAAAAGQAAABYA\n",
              "AAAQAAAAEAAAABkAAAAWAAAAEAAAABAAAAAZAAAAFgAAABAAAAAQAAAAGQAAABYAAAAQAAAAEAAA\n",
              "ABkAAAAWAAAAEAAAABAAAAAZAAAAFgAAABAAAAAQAAAAGQAAABYAAAAQAAAAEAAAABkAAAAWAAAA\n",
              "EAAAABAAAAAZAAAAFgAAABAAAAAQAAAAGQAAABYAAAAQAAAAEAAAABkAAAAWAAAAEAAAABAAAAAZ\n",
              "AAAAFgAAABAAAAAQAAAAGQAAABYAAAAQAAAAEAAAABkAAAAWAAAAEAAAABAAAAAZAAAAFgAAABAA\n",
              "AAAQAAAAGQAAABYAAAAQAAAAEAAAABkAAAAWAAAAEAAAABAAAAAZAAAAFgAAABAAAAAQAAAAGQAA\n",
              "ABYAAAAQAAAAEAAAABkAAAAWAAAAEAAAABAAAAAZAAAAFgAAABAAAAAQAAAAGQAAABYAAAAQAAAA\n",
              "EAAAABkAAAAWAAAAEAAAABAAAAAZAAAAFgAAABAAAAAQAAAAGQAAABYAAAAQAAAAEAAAABkAAAAW\n",
              "AAAAEAAAABAAAAAZAAAAFgAAABAAAAAQAAAAFwAAEGYAAAAiAAAAFAAAABMAAAASAAAAGQAAABEA\n",
              "AAAQAAAAEAAAABkAAAARAAAAEAAAABAAAAAZAAAAEQAAABAAAAAQAAAAGQAAABEAAAAQAAAAEAAA\n",
              "ABkAAAARAAAAEAAAABAAAAAZAAAAEQAAABAAAAAQAAAAGQAAABEAAAAQAAAAEAAAABkAAAARAAAA\n",
              "EAAAABAAAAAZAAAAEQAAABAAAAAQAAAAGQAAABEAAAAQAAAAEAAAABkAAAARAAAAEAAAABAAAAAZ\n",
              "AAAAEQAAABAAAAAQAAAAGQAAABEAAAAQAAAAEAAAABkAAAARAAAAEAAAABAAAAAZAAAAEQAAABAA\n",
              "AAAQAAAAGQAAABEAAAAQAAAAEAAAABkAAAARAAAAEAAAABAAAAAZAAAAEQAAABAAAAAQAAAAGQAA\n",
              "ABEAAAAQAAAAEAAAABkAAAARAAAAEAAAABAAAAAZAAAAEQAAABAAAAAQAAAAGQAAABEAAAAQAAAA\n",
              "EAAAABkAAAARAAAAEAAAABAAAAAZAAAAEQAAABAAAAAQAAAAGQAAABEAAAAQAAAAEAAAABkAAAAR\n",
              "AAAAEAAAABAAAAAZAAAAEQAAABAAAAAQAAAAGQAAABEAAAAQAAAAEAAAABkAAAARAAAAEAAAABAA\n",
              "AAAZAAAAEQAAABAAAAAQAAAAGQAAABEAAAAQAAAAEAAAABkAAAARAAAAEAAAABAAAAAZAAAAEQAA\n",
              "ABAAAAAQAAAAGQAAABEAAAAQAAAAEAAAABkAAAARAAAAEAAAABAAAAAXAAAAEQAAABAAAAAQAAAA\n",
              "FwAAABRzdGNvAAAAAAAAAAEAAAAsAAAAYnVkdGEAAABabWV0YQAAAAAAAAAhaGRscgAAAAAAAAAA\n",
              "bWRpcmFwcGwAAAAAAAAAAAAAAAAtaWxzdAAAACWpdG9vAAAAHWRhdGEAAAABAAAAAExhdmY1Ny44\n",
              "My4xMDA=\n",
              "\">\n",
              "  Your browser does not support the video tag.\n",
              "</video>"
            ],
            "text/plain": [
              "<IPython.core.display.HTML object>"
            ]
          },
          "metadata": {
            "tags": []
          },
          "execution_count": 42
        }
      ]
    }
  ]
}